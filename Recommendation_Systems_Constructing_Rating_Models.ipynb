{
  "nbformat": 4,
  "nbformat_minor": 0,
  "metadata": {
    "accelerator": "GPU",
    "colab": {
      "name": "Recommendation Systems - Constructing Rating Models.ipynb",
      "provenance": [],
      "collapsed_sections": [],
      "toc_visible": true
    },
    "kernelspec": {
      "display_name": "Python 3",
      "name": "python3"
    },
    "language_info": {
      "name": "python"
    }
  },
  "cells": [
    {
      "cell_type": "markdown",
      "metadata": {
        "id": "hPmn2vfInKM_"
      },
      "source": [
        "# Recommendation Systems - Constructing Rating Models"
      ]
    },
    {
      "cell_type": "markdown",
      "metadata": {
        "id": "dG16O8CpnbNl"
      },
      "source": [
        "\n",
        "* Shachar Wild   \n",
        "\n",
        "\n",
        "*  Jonthan Morag  \n",
        "\n",
        "\n"
      ]
    },
    {
      "cell_type": "markdown",
      "metadata": {
        "id": "5WLS0ghnJYlV"
      },
      "source": [
        "In this work, we attempt to examine the world of Recommendion Systems, by constructing rating models. We will construct the following models:\n",
        "\n",
        "*   SVD \n",
        "*   SVD++ \n",
        "*   Content Model\n",
        "*   Ensemble Model\n",
        "\n",
        "We will train and evaluate each one sepertaly and then eventually compare their performance to one another in order to determine which one is the optimal for our task (which is predicting rating for Yelp). The pipeline will include: Data reading, data cleansing and pre-processing, models implementation, evaluation of each one and a through comparison to one another, based on our chosen metrics. It is also important to note that all the models will be trained and evaluated using the same train and test sets' original data (the same split) in order to avoid any bias when comparing their performance.     \n",
        "\n",
        "Dependencies: pandas, numpy, sklearn, tqdm, matplotlib, plotly, seaborn\n",
        "\n",
        "Requirements: 16 GB or more of available RAM\n",
        "\n",
        "The default location for data files is the present working directory. If data is located elsewhere, you should modify DATA_DIR below."
      ]
    },
    {
      "cell_type": "markdown",
      "metadata": {
        "id": "0Ru-v-f-rLgf"
      },
      "source": [
        "## Imports and Installs"
      ]
    },
    {
      "cell_type": "code",
      "metadata": {
        "id": "nLGhmERkrQy5"
      },
      "source": [
        "import os\n",
        "import pandas as pd\n",
        "from sklearn.preprocessing import LabelEncoder\n",
        "from sklearn.model_selection import train_test_split\n",
        "import numpy as np\n",
        "import math\n",
        "from operator import itemgetter \n",
        "from tqdm import tqdm\n",
        "import matplotlib.pyplot as plt  \n",
        "from itertools import product\n",
        "import plotly.graph_objects as go\n",
        "import plotly.express as px\n",
        "from sklearn.feature_extraction.text import TfidfVectorizer\n",
        "from sklearn.linear_model import LinearRegression\n",
        "from sklearn.svm import SVR\n",
        "from sklearn.tree import DecisionTreeRegressor\n",
        "import time\n",
        "from collections import defaultdict\n",
        "import itertools  \n",
        "import seaborn as sns"
      ],
      "execution_count": null,
      "outputs": []
    },
    {
      "cell_type": "code",
      "metadata": {
        "colab": {
          "base_uri": "https://localhost:8080/"
        },
        "id": "mmzccmQb8IFf",
        "outputId": "744981f1-504e-47fb-e068-4596f144201d"
      },
      "source": [
        "from google.colab import drive\n",
        "drive.mount('/content/drive')\n",
        "!cat /proc/cpuinfo"
      ],
      "execution_count": null,
      "outputs": [
        {
          "output_type": "stream",
          "text": [
            "Mounted at /content/drive\n",
            "processor\t: 0\n",
            "vendor_id\t: GenuineIntel\n",
            "cpu family\t: 6\n",
            "model\t\t: 79\n",
            "model name\t: Intel(R) Xeon(R) CPU @ 2.20GHz\n",
            "stepping\t: 0\n",
            "microcode\t: 0x1\n",
            "cpu MHz\t\t: 2199.998\n",
            "cache size\t: 56320 KB\n",
            "physical id\t: 0\n",
            "siblings\t: 2\n",
            "core id\t\t: 0\n",
            "cpu cores\t: 1\n",
            "apicid\t\t: 0\n",
            "initial apicid\t: 0\n",
            "fpu\t\t: yes\n",
            "fpu_exception\t: yes\n",
            "cpuid level\t: 13\n",
            "wp\t\t: yes\n",
            "flags\t\t: fpu vme de pse tsc msr pae mce cx8 apic sep mtrr pge mca cmov pat pse36 clflush mmx fxsr sse sse2 ss ht syscall nx pdpe1gb rdtscp lm constant_tsc rep_good nopl xtopology nonstop_tsc cpuid tsc_known_freq pni pclmulqdq ssse3 fma cx16 pcid sse4_1 sse4_2 x2apic movbe popcnt aes xsave avx f16c rdrand hypervisor lahf_lm abm 3dnowprefetch invpcid_single ssbd ibrs ibpb stibp fsgsbase tsc_adjust bmi1 hle avx2 smep bmi2 erms invpcid rtm rdseed adx smap xsaveopt arat md_clear arch_capabilities\n",
            "bugs\t\t: cpu_meltdown spectre_v1 spectre_v2 spec_store_bypass l1tf mds swapgs taa\n",
            "bogomips\t: 4399.99\n",
            "clflush size\t: 64\n",
            "cache_alignment\t: 64\n",
            "address sizes\t: 46 bits physical, 48 bits virtual\n",
            "power management:\n",
            "\n",
            "processor\t: 1\n",
            "vendor_id\t: GenuineIntel\n",
            "cpu family\t: 6\n",
            "model\t\t: 79\n",
            "model name\t: Intel(R) Xeon(R) CPU @ 2.20GHz\n",
            "stepping\t: 0\n",
            "microcode\t: 0x1\n",
            "cpu MHz\t\t: 2199.998\n",
            "cache size\t: 56320 KB\n",
            "physical id\t: 0\n",
            "siblings\t: 2\n",
            "core id\t\t: 0\n",
            "cpu cores\t: 1\n",
            "apicid\t\t: 1\n",
            "initial apicid\t: 1\n",
            "fpu\t\t: yes\n",
            "fpu_exception\t: yes\n",
            "cpuid level\t: 13\n",
            "wp\t\t: yes\n",
            "flags\t\t: fpu vme de pse tsc msr pae mce cx8 apic sep mtrr pge mca cmov pat pse36 clflush mmx fxsr sse sse2 ss ht syscall nx pdpe1gb rdtscp lm constant_tsc rep_good nopl xtopology nonstop_tsc cpuid tsc_known_freq pni pclmulqdq ssse3 fma cx16 pcid sse4_1 sse4_2 x2apic movbe popcnt aes xsave avx f16c rdrand hypervisor lahf_lm abm 3dnowprefetch invpcid_single ssbd ibrs ibpb stibp fsgsbase tsc_adjust bmi1 hle avx2 smep bmi2 erms invpcid rtm rdseed adx smap xsaveopt arat md_clear arch_capabilities\n",
            "bugs\t\t: cpu_meltdown spectre_v1 spectre_v2 spec_store_bypass l1tf mds swapgs taa\n",
            "bogomips\t: 4399.99\n",
            "clflush size\t: 64\n",
            "cache_alignment\t: 64\n",
            "address sizes\t: 46 bits physical, 48 bits virtual\n",
            "power management:\n",
            "\n"
          ],
          "name": "stdout"
        }
      ]
    },
    {
      "cell_type": "code",
      "metadata": {
        "id": "Bif2KauA8IFf"
      },
      "source": [
        "DATA_DIR = '.'\n",
        "DATA_DIR = '/content/drive/Shareddrives/Shachar_Jonathan_RS/data/Yelp-Assignment1'\n",
        "MODELS_DIR = DATA_DIR\n",
        "MODELS_DIR = '/content/drive/Shareddrives/Shachar_Jonathan_RS/Ass1'"
      ],
      "execution_count": null,
      "outputs": []
    },
    {
      "cell_type": "markdown",
      "metadata": {
        "id": "HBFA70sBNEqt"
      },
      "source": [
        "## Part 1  - Data and Metrics"
      ]
    },
    {
      "cell_type": "markdown",
      "metadata": {
        "id": "3RgOSDaJNsrq"
      },
      "source": [
        "### Data loading"
      ]
    },
    {
      "cell_type": "markdown",
      "metadata": {
        "id": "5tNoxBp8hYLt"
      },
      "source": [
        "First, we will load the train and test data, which will be used for constructing the SVD model. It is consisted of user id's, item id's and ratings for each given pair, ranking from 1 to 5.\n",
        "Since the data is stored in a tabuler format, we will use dataframe.\n",
        "We will also ensure that these data sets do no contain any empty values. "
      ]
    },
    {
      "cell_type": "code",
      "metadata": {
        "id": "KVWZ-ugXnKfL"
      },
      "source": [
        "def Load(data_dir='.') -> (pd.DataFrame, pd.DataFrame, pd.DataFrame, tuple, LabelEncoder, LabelEncoder,\n",
        "                           pd.DataFrame, pd.DataFrame):\n",
        "    # MF model\n",
        "\n",
        "    # read data\n",
        "    train_data_name = 'userTrainData.csv'\n",
        "    test_data_name = 'userTestData.csv'\n",
        "    user_id = 'user_id'\n",
        "    business_id = 'business_id'\n",
        "    columns = [user_id, business_id, 'stars']\n",
        "    d_types = {user_id: str, business_id: str, 'stars': int}\n",
        "    # get train data\n",
        "    train_data = pd.read_csv(os.path.join(data_dir, train_data_name), usecols=columns, dtype=d_types, index_col=False)\n",
        "    test_data = pd.read_csv(os.path.join(data_dir, test_data_name), usecols=columns, dtype=d_types, index_col=False)\n",
        "    valid_user_ids, valid_business_ids = set(train_data[user_id]), set(train_data[business_id])\n",
        "    le_users, le_businesses = LabelEncoder(), LabelEncoder()\n",
        "    le_users.fit(train_data[user_id]), le_businesses.fit(train_data[business_id])\n",
        "    train_data[user_id], train_data[business_id] = \\\n",
        "        le_users.transform(train_data[user_id]), le_businesses.transform(train_data[business_id])\n",
        "    R_matrix_shape = (max(train_data[user_id]) + 1, max(train_data[business_id]) + 1)\n",
        "    # split to train and validation\n",
        "    train_data_only_uniques = train_data[train_data.groupby(user_id).user_id.transform('count') == 1]\n",
        "    train_data_only_uniques = train_data_only_uniques[train_data_only_uniques.groupby(business_id).business_id.transform('count') == 1]\n",
        "    train_data = train_data[train_data.groupby(user_id).user_id.transform('count') > 1]\n",
        "    train_data = train_data[train_data.groupby(business_id).business_id.transform('count') > 1]\n",
        "    train_data, val_data = train_test_split(train_data, test_size=0.2, random_state=42)\n",
        "    # make sure we don't have ids in validation that are missing from train\n",
        "    unique_in_val = ~(val_data[user_id].isin(train_data[user_id].unique())) | ~(val_data[business_id].isin(train_data[business_id].unique()))\n",
        "    unique_in_val = val_data[unique_in_val]\n",
        "    train_data = train_data.append(unique_in_val, ignore_index=True)\n",
        "    val_data.drop(unique_in_val.index, inplace=True)\n",
        "    \n",
        "    train_data = pd.concat([train_data, train_data_only_uniques])\n",
        "    \n",
        "    # get test data\n",
        "    test_data = test_data[(test_data[user_id].isin(valid_user_ids)) & (test_data[business_id].isin(valid_business_ids))]\n",
        "    test_data[user_id], test_data[business_id] = \\\n",
        "        le_users.transform(test_data[user_id]), le_businesses.transform(test_data[business_id])\n",
        "    test_data.sort_values(by='user_id', inplace=True, ascending=True)\n",
        "\n",
        "    # content model\n",
        "    # business_data_name = '/content/drive/Shareddrives/Shachar_Jonathan_RS/data/Yelp-Assignment1/yelp_business.csv'\n",
        "    # user_data_name = '/content/drive/Shareddrives/Shachar_Jonathan_RS/data/Yelp-Assignment1/yelp_user.csv'\n",
        "    business_data_name = 'yelp_business.csv'\n",
        "    user_data_name = 'yelp_user.csv'\n",
        "    user_features = pd.read_csv(os.path.join(data_dir, user_data_name))\n",
        "    business_features = pd.read_csv(os.path.join(data_dir, business_data_name))\n",
        "    user_features, business_features = user_features[user_features[user_id].isin(valid_user_ids)], \\\n",
        "                               business_features[business_features[business_id].isin(valid_business_ids)]\n",
        "    user_features[user_id] = le_users.transform(user_features[user_id])\n",
        "    business_features[business_id] = le_businesses.transform(business_features[business_id])\n",
        "\n",
        "    return train_data, val_data, test_data, R_matrix_shape, le_users, le_businesses, user_features, business_features"
      ],
      "execution_count": null,
      "outputs": []
    },
    {
      "cell_type": "code",
      "metadata": {
        "id": "0Z_7d0WfsIGo"
      },
      "source": [
        "train_data, val_data, test_data, R_matrix_shape, le_users, le_businesses, user_features, business_features = Load(data_dir=DATA_DIR)"
      ],
      "execution_count": null,
      "outputs": []
    },
    {
      "cell_type": "markdown",
      "metadata": {
        "id": "nJi_FHV1L0kW"
      },
      "source": [
        "An overview of the train data:"
      ]
    },
    {
      "cell_type": "code",
      "metadata": {
        "colab": {
          "base_uri": "https://localhost:8080/",
          "height": 191
        },
        "id": "MJcRloNGtaz4",
        "outputId": "47aa9bbd-58d7-4b35-b4db-de553a60c73a"
      },
      "source": [
        "train_data.head()"
      ],
      "execution_count": null,
      "outputs": [
        {
          "output_type": "execute_result",
          "data": {
            "text/html": [
              "<div>\n",
              "<style scoped>\n",
              "    .dataframe tbody tr th:only-of-type {\n",
              "        vertical-align: middle;\n",
              "    }\n",
              "\n",
              "    .dataframe tbody tr th {\n",
              "        vertical-align: top;\n",
              "    }\n",
              "\n",
              "    .dataframe thead th {\n",
              "        text-align: right;\n",
              "    }\n",
              "</style>\n",
              "<table border=\"1\" class=\"dataframe\">\n",
              "  <thead>\n",
              "    <tr style=\"text-align: right;\">\n",
              "      <th></th>\n",
              "      <th>user_id</th>\n",
              "      <th>business_id</th>\n",
              "      <th>stars</th>\n",
              "    </tr>\n",
              "  </thead>\n",
              "  <tbody>\n",
              "    <tr>\n",
              "      <th>0</th>\n",
              "      <td>80380</td>\n",
              "      <td>139058</td>\n",
              "      <td>5</td>\n",
              "    </tr>\n",
              "    <tr>\n",
              "      <th>1</th>\n",
              "      <td>16004</td>\n",
              "      <td>43647</td>\n",
              "      <td>4</td>\n",
              "    </tr>\n",
              "    <tr>\n",
              "      <th>2</th>\n",
              "      <td>3635</td>\n",
              "      <td>129390</td>\n",
              "      <td>5</td>\n",
              "    </tr>\n",
              "    <tr>\n",
              "      <th>3</th>\n",
              "      <td>56422</td>\n",
              "      <td>153681</td>\n",
              "      <td>4</td>\n",
              "    </tr>\n",
              "    <tr>\n",
              "      <th>4</th>\n",
              "      <td>167219</td>\n",
              "      <td>63814</td>\n",
              "      <td>4</td>\n",
              "    </tr>\n",
              "  </tbody>\n",
              "</table>\n",
              "</div>"
            ],
            "text/plain": [
              "   user_id  business_id  stars\n",
              "0    80380       139058      5\n",
              "1    16004        43647      4\n",
              "2     3635       129390      5\n",
              "3    56422       153681      4\n",
              "4   167219        63814      4"
            ]
          },
          "metadata": {
            "tags": []
          },
          "execution_count": 6
        }
      ]
    },
    {
      "cell_type": "markdown",
      "metadata": {
        "id": "c_043OeghGae"
      },
      "source": [
        "When splitting the train data to train set and validation set, we first wanted to ensure that each user in the validation set will be presented in the train set as well. This due to the fact that in the training phase we attempt to identify the optimal latent feature vector of each user. However, If we have a new, unseen user in the validation set, when predicting its rating to a particular item, the prediction algorithm wil consider only its initialized features vector. It is important to note that we also verified that users which appeared only once in the training set, will not be presented in the validation set, for the reason mentioned above. \n",
        "\n",
        "We also denoated unique indexes:\n",
        "\n",
        "\n",
        "*   User index - ranging from 0 to n (number of users in the data) \n",
        "*   Item index - ranking from 0 to m (number of items in the data)\n",
        "\n",
        "This was done in order to identify a particular user and item in a convinent way and in a reasonable time, when calculating their predicted rating and also when attempting to locate their true rating.\n"
      ]
    },
    {
      "cell_type": "markdown",
      "metadata": {
        "id": "czVh27niNU9w"
      },
      "source": [
        "### Data Exploration"
      ]
    },
    {
      "cell_type": "markdown",
      "metadata": {
        "id": "9Vn4tBolL5Gq"
      },
      "source": [
        "We will perform data exploration in order to learn it in more depth and get insights regarding the values distirubtion within it. "
      ]
    },
    {
      "cell_type": "code",
      "metadata": {
        "colab": {
          "base_uri": "https://localhost:8080/"
        },
        "id": "T36tp98RNVDc",
        "outputId": "2e1cd79f-cf51-49cf-8d0c-d4f184ef304f"
      },
      "source": [
        "print(f'number of training samples: {train_data.shape[0]: ,d}')\n",
        "print(f'number of validation samples: {val_data.shape[0]: ,d}')\n",
        "print(f'number of testing samples: {test_data.shape[0]: ,d}')\n",
        "print(f'number of missing ratings: {train_data[\"stars\"].isnull().sum().sum(): ,d}')\n",
        "print(f'average rating in train data: {np.mean(train_data[\"stars\"].to_numpy()): .2f}')\n",
        "print(f'median rating in train data: {int(np.median(train_data[\"stars\"].to_numpy())): ,d}')\n",
        "print(f'variance of ratings in train data: {np.var(train_data[\"stars\"].to_numpy()): .2f}')"
      ],
      "execution_count": null,
      "outputs": [
        {
          "output_type": "stream",
          "text": [
            "number of training samples:  1,826,145\n",
            "number of validation samples:  450,980\n",
            "number of testing samples:  569,025\n",
            "number of missing ratings:  0\n",
            "average rating in train data:  3.74\n",
            "median rating in train data:  4\n",
            "variance of ratings in train data:  1.78\n"
          ],
          "name": "stdout"
        }
      ]
    },
    {
      "cell_type": "markdown",
      "metadata": {
        "id": "ouF6EzDZGnVU"
      },
      "source": [
        "We can see that there are no missing ratings, which is good. Moreover, the median rating is relatively high and stands for 4 (out of 5). Furthermore, the number of records is very large, which may assist as in constructing reliable models. The variance is not low, which makes the ratings different from each other. "
      ]
    },
    {
      "cell_type": "markdown",
      "metadata": {
        "id": "rHHJO1jRG6Pm"
      },
      "source": [
        "Next, we will explore the rating column, and see the internal distribution within it:"
      ]
    },
    {
      "cell_type": "code",
      "metadata": {
        "colab": {
          "base_uri": "https://localhost:8080/",
          "height": 281
        },
        "id": "CR2IMXeSNVTZ",
        "outputId": "51298bf2-4b09-46bc-d257-4f564f3cff78"
      },
      "source": [
        "plt.title('stars rating distribution in train data: ')\n",
        "train_data['stars'].hist(bins=5);"
      ],
      "execution_count": null,
      "outputs": [
        {
          "output_type": "display_data",
          "data": {
            "image/png": "[encoded data removed]",
            "text/plain": [
              "<Figure size 432x288 with 1 Axes>"
            ]
          },
          "metadata": {
            "tags": []
          }
        }
      ]
    },
    {
      "cell_type": "markdown",
      "metadata": {
        "id": "VxgqBF-c_KSW"
      },
      "source": [
        "We can see that  most of the ratings were relatively high (above 4) for all the items presented in the train data. We can deduce that the users were rather \"forgiving\" and optimistic regarding their item-using experience."
      ]
    },
    {
      "cell_type": "markdown",
      "metadata": {
        "id": "1rBqygNiXJCF"
      },
      "source": [
        "After viewing the ratings distribution, we would want to examine the number of ratings each item got, instead of the values of the ratings its-self. Since there are many items, it is important to check whether the distribution is balanced. We will perform this procedure both the train set."
      ]
    },
    {
      "cell_type": "code",
      "metadata": {
        "colab": {
          "base_uri": "https://localhost:8080/",
          "height": 350
        },
        "id": "e0VLpmutYESh",
        "outputId": "d9efa2e1-0d84-48ed-d7d0-03f4d81b7eb1"
      },
      "source": [
        "dftmp = train_data[['user_id', 'business_id']].groupby('business_id').count()\n",
        "dftmp.columns=['num_ratings']\n",
        "plt.figure(figsize=(15,5))\n",
        "plt.scatter(dftmp.index, dftmp.num_ratings, edgecolor='black')\n",
        "plt.xlim(0,dftmp.index.max())\n",
        "plt.ylim(0,)\n",
        "plt.title('Ratings per item - Train set')\n",
        "plt.xlabel('item id')\n",
        "plt.ylabel('Amount of ratings received')\n",
        "plt.show()"
      ],
      "execution_count": null,
      "outputs": [
        {
          "output_type": "display_data",
          "data": {
            "image/png": "[encoded data removed]",
            "text/plain": [
              "<Figure size 1080x360 with 1 Axes>"
            ]
          },
          "metadata": {
            "tags": []
          }
        }
      ]
    },
    {
      "cell_type": "markdown",
      "metadata": {
        "id": "FLYH3aSWYPpR"
      },
      "source": [
        "Viewing the above graphs, we can see that for most of the items, the number of ratings is relatively the same, besides a few outliers which had a large number of ratings (above 700). "
      ]
    },
    {
      "cell_type": "markdown",
      "metadata": {
        "id": "xLuRTXlIcHcX"
      },
      "source": [
        "\n",
        "\n",
        "\n",
        "Next, we will examine a sample of features data:"
      ]
    },
    {
      "cell_type": "markdown",
      "metadata": {
        "id": "I8VYuf-bHRsq"
      },
      "source": [
        "User features:"
      ]
    },
    {
      "cell_type": "code",
      "metadata": {
        "colab": {
          "base_uri": "https://localhost:8080/"
        },
        "id": "7XW9729uHFpt",
        "outputId": "f848dd64-5634-4a19-b671-59e2bb0af505"
      },
      "source": [
        "list(user_features.columns)"
      ],
      "execution_count": null,
      "outputs": [
        {
          "output_type": "execute_result",
          "data": {
            "text/plain": [
              "['user_id',\n",
              " 'name',\n",
              " 'review_count',\n",
              " 'yelping_since',\n",
              " 'friends',\n",
              " 'useful',\n",
              " 'funny',\n",
              " 'cool',\n",
              " 'fans',\n",
              " 'elite',\n",
              " 'average_stars',\n",
              " 'compliment_hot',\n",
              " 'compliment_more',\n",
              " 'compliment_profile',\n",
              " 'compliment_cute',\n",
              " 'compliment_list',\n",
              " 'compliment_note',\n",
              " 'compliment_plain',\n",
              " 'compliment_cool',\n",
              " 'compliment_funny',\n",
              " 'compliment_writer',\n",
              " 'compliment_photos']"
            ]
          },
          "metadata": {
            "tags": []
          },
          "execution_count": 9
        }
      ]
    },
    {
      "cell_type": "markdown",
      "metadata": {
        "id": "Zg6XsETxHVdK"
      },
      "source": [
        "Business (item) features:"
      ]
    },
    {
      "cell_type": "code",
      "metadata": {
        "colab": {
          "base_uri": "https://localhost:8080/"
        },
        "id": "zrMVDwzVHZMD",
        "outputId": "d1fe57c4-5918-4581-88b7-c8e255db48c1"
      },
      "source": [
        "list(list(business_features.columns))"
      ],
      "execution_count": null,
      "outputs": [
        {
          "output_type": "execute_result",
          "data": {
            "text/plain": [
              "['business_id',\n",
              " 'name',\n",
              " 'neighborhood',\n",
              " 'address',\n",
              " 'city',\n",
              " 'state',\n",
              " 'postal_code',\n",
              " 'latitude',\n",
              " 'longitude',\n",
              " 'stars',\n",
              " 'review_count',\n",
              " 'is_open',\n",
              " 'categories']"
            ]
          },
          "metadata": {
            "tags": []
          },
          "execution_count": 10
        }
      ]
    },
    {
      "cell_type": "markdown",
      "metadata": {
        "id": "wq1ZkgK6eYAM"
      },
      "source": [
        "We will examine the percentage of missing values in each column:"
      ]
    },
    {
      "cell_type": "markdown",
      "metadata": {
        "id": "w9zRqfVuerMl"
      },
      "source": [
        "User features:"
      ]
    },
    {
      "cell_type": "code",
      "metadata": {
        "colab": {
          "base_uri": "https://localhost:8080/"
        },
        "id": "VZToTcw3cMPn",
        "outputId": "f8675145-402f-4aa1-9766-627c44db4c87"
      },
      "source": [
        "user_df = pd.DataFrame()\n",
        "features_name =[]\n",
        "missing_values = []\n",
        "\n",
        "print(f'user features: {list(user_features.columns)[1:]}')\n",
        "print('% missing values per feature with missing values:')\n",
        "for col in list(user_features.columns):\n",
        "    num_na = user_features[col].isin({\"None\", np.NAN, None, \"\"}).sum()\n",
        "    if num_na > 0:\n",
        "        print(f'{col} missing values %: {float(num_na) / user_features.shape[0]}')\n",
        "    features_name.append(col) \n",
        "    missing_values.append(float(num_na) / user_features.shape[0]) \n",
        "\n",
        "user_df['Feature'] = features_name\n",
        "user_df['Missing Value Percentage'] = missing_values"
      ],
      "execution_count": null,
      "outputs": [
        {
          "output_type": "stream",
          "text": [
            "user features: ['name', 'review_count', 'yelping_since', 'friends', 'useful', 'funny', 'cool', 'fans', 'elite', 'average_stars', 'compliment_hot', 'compliment_more', 'compliment_profile', 'compliment_cute', 'compliment_list', 'compliment_note', 'compliment_plain', 'compliment_cool', 'compliment_funny', 'compliment_writer', 'compliment_photos']\n",
            "% missing values per feature with missing values:\n",
            "name missing values %: 0.00015480718137962486\n",
            "friends missing values %: 0.2716866033212416\n",
            "elite missing values %: 0.8655646068943588\n"
          ],
          "name": "stdout"
        }
      ]
    },
    {
      "cell_type": "code",
      "metadata": {
        "colab": {
          "base_uri": "https://localhost:8080/",
          "height": 731
        },
        "id": "dYsZx45uLQaD",
        "outputId": "f35da97c-402e-455e-ed6d-e41b32c164ff"
      },
      "source": [
        "user_df"
      ],
      "execution_count": null,
      "outputs": [
        {
          "output_type": "execute_result",
          "data": {
            "text/html": [
              "<div>\n",
              "<style scoped>\n",
              "    .dataframe tbody tr th:only-of-type {\n",
              "        vertical-align: middle;\n",
              "    }\n",
              "\n",
              "    .dataframe tbody tr th {\n",
              "        vertical-align: top;\n",
              "    }\n",
              "\n",
              "    .dataframe thead th {\n",
              "        text-align: right;\n",
              "    }\n",
              "</style>\n",
              "<table border=\"1\" class=\"dataframe\">\n",
              "  <thead>\n",
              "    <tr style=\"text-align: right;\">\n",
              "      <th></th>\n",
              "      <th>Feature</th>\n",
              "      <th>Missing Value Percentage</th>\n",
              "    </tr>\n",
              "  </thead>\n",
              "  <tbody>\n",
              "    <tr>\n",
              "      <th>0</th>\n",
              "      <td>user_id</td>\n",
              "      <td>0.000000</td>\n",
              "    </tr>\n",
              "    <tr>\n",
              "      <th>1</th>\n",
              "      <td>name</td>\n",
              "      <td>0.000155</td>\n",
              "    </tr>\n",
              "    <tr>\n",
              "      <th>2</th>\n",
              "      <td>review_count</td>\n",
              "      <td>0.000000</td>\n",
              "    </tr>\n",
              "    <tr>\n",
              "      <th>3</th>\n",
              "      <td>yelping_since</td>\n",
              "      <td>0.000000</td>\n",
              "    </tr>\n",
              "    <tr>\n",
              "      <th>4</th>\n",
              "      <td>friends</td>\n",
              "      <td>0.271687</td>\n",
              "    </tr>\n",
              "    <tr>\n",
              "      <th>5</th>\n",
              "      <td>useful</td>\n",
              "      <td>0.000000</td>\n",
              "    </tr>\n",
              "    <tr>\n",
              "      <th>6</th>\n",
              "      <td>funny</td>\n",
              "      <td>0.000000</td>\n",
              "    </tr>\n",
              "    <tr>\n",
              "      <th>7</th>\n",
              "      <td>cool</td>\n",
              "      <td>0.000000</td>\n",
              "    </tr>\n",
              "    <tr>\n",
              "      <th>8</th>\n",
              "      <td>fans</td>\n",
              "      <td>0.000000</td>\n",
              "    </tr>\n",
              "    <tr>\n",
              "      <th>9</th>\n",
              "      <td>elite</td>\n",
              "      <td>0.865565</td>\n",
              "    </tr>\n",
              "    <tr>\n",
              "      <th>10</th>\n",
              "      <td>average_stars</td>\n",
              "      <td>0.000000</td>\n",
              "    </tr>\n",
              "    <tr>\n",
              "      <th>11</th>\n",
              "      <td>compliment_hot</td>\n",
              "      <td>0.000000</td>\n",
              "    </tr>\n",
              "    <tr>\n",
              "      <th>12</th>\n",
              "      <td>compliment_more</td>\n",
              "      <td>0.000000</td>\n",
              "    </tr>\n",
              "    <tr>\n",
              "      <th>13</th>\n",
              "      <td>compliment_profile</td>\n",
              "      <td>0.000000</td>\n",
              "    </tr>\n",
              "    <tr>\n",
              "      <th>14</th>\n",
              "      <td>compliment_cute</td>\n",
              "      <td>0.000000</td>\n",
              "    </tr>\n",
              "    <tr>\n",
              "      <th>15</th>\n",
              "      <td>compliment_list</td>\n",
              "      <td>0.000000</td>\n",
              "    </tr>\n",
              "    <tr>\n",
              "      <th>16</th>\n",
              "      <td>compliment_note</td>\n",
              "      <td>0.000000</td>\n",
              "    </tr>\n",
              "    <tr>\n",
              "      <th>17</th>\n",
              "      <td>compliment_plain</td>\n",
              "      <td>0.000000</td>\n",
              "    </tr>\n",
              "    <tr>\n",
              "      <th>18</th>\n",
              "      <td>compliment_cool</td>\n",
              "      <td>0.000000</td>\n",
              "    </tr>\n",
              "    <tr>\n",
              "      <th>19</th>\n",
              "      <td>compliment_funny</td>\n",
              "      <td>0.000000</td>\n",
              "    </tr>\n",
              "    <tr>\n",
              "      <th>20</th>\n",
              "      <td>compliment_writer</td>\n",
              "      <td>0.000000</td>\n",
              "    </tr>\n",
              "    <tr>\n",
              "      <th>21</th>\n",
              "      <td>compliment_photos</td>\n",
              "      <td>0.000000</td>\n",
              "    </tr>\n",
              "  </tbody>\n",
              "</table>\n",
              "</div>"
            ],
            "text/plain": [
              "               Feature  Missing Value Percentage\n",
              "0              user_id                  0.000000\n",
              "1                 name                  0.000155\n",
              "2         review_count                  0.000000\n",
              "3        yelping_since                  0.000000\n",
              "4              friends                  0.271687\n",
              "5               useful                  0.000000\n",
              "6                funny                  0.000000\n",
              "7                 cool                  0.000000\n",
              "8                 fans                  0.000000\n",
              "9                elite                  0.865565\n",
              "10       average_stars                  0.000000\n",
              "11      compliment_hot                  0.000000\n",
              "12     compliment_more                  0.000000\n",
              "13  compliment_profile                  0.000000\n",
              "14     compliment_cute                  0.000000\n",
              "15     compliment_list                  0.000000\n",
              "16     compliment_note                  0.000000\n",
              "17    compliment_plain                  0.000000\n",
              "18     compliment_cool                  0.000000\n",
              "19    compliment_funny                  0.000000\n",
              "20   compliment_writer                  0.000000\n",
              "21   compliment_photos                  0.000000"
            ]
          },
          "metadata": {
            "tags": []
          },
          "execution_count": 12
        }
      ]
    },
    {
      "cell_type": "code",
      "metadata": {
        "colab": {
          "base_uri": "https://localhost:8080/",
          "height": 398
        },
        "id": "-GVWfsTJKasz",
        "outputId": "c030ddc0-fb98-4d51-c5fa-039326862b3f"
      },
      "source": [
        "plt.figure(figsize=(23,5))\n",
        "\n",
        "ax = sns.barplot(x=\"Feature\", y=\"Missing Value Percentage\", data=user_df);\n",
        "ax.set_xticklabels(ax.get_xticklabels(), rotation=30);\n",
        "ax.set(title='Missing Value for user features');"
      ],
      "execution_count": null,
      "outputs": [
        {
          "output_type": "display_data",
          "data": {
            "image/png": "[encoded data removed]",
            "text/plain": [
              "<Figure size 1656x360 with 1 Axes>"
            ]
          },
          "metadata": {
            "tags": []
          }
        }
      ]
    },
    {
      "cell_type": "markdown",
      "metadata": {
        "id": "g6j1ekW0NFz4"
      },
      "source": [
        "We can see that the \"elite\" feature has a very high percentage of missing values (close to 0.9), followed by the \"friends\" feature. \n",
        "Although that are various missing values handling methods, the \"elite\" feature will not be informative enough, since its mostly empty."
      ]
    },
    {
      "cell_type": "markdown",
      "metadata": {
        "id": "Z7tOi8q-ev9d"
      },
      "source": [
        "Buisness (items) features:"
      ]
    },
    {
      "cell_type": "code",
      "metadata": {
        "colab": {
          "base_uri": "https://localhost:8080/"
        },
        "id": "GQ7AAfx-ewFw",
        "outputId": "cff2b659-628a-46c3-d087-3e4ae3135c3a"
      },
      "source": [
        "item_df = pd.DataFrame()\n",
        "features_name =[]\n",
        "missing_values = []\n",
        "\n",
        "print(f'\\nbusiness features: {list(business_features.columns)[1:]}')\n",
        "print('% missing values per feature with missing values:')\n",
        "for col in list(business_features.columns):\n",
        "    num_na = business_features[col].isin({\"None\", np.NAN, None, \"\"}).sum()\n",
        "    if num_na > 0:\n",
        "        print(f'{col} missing values %: {float(num_na) / business_features.shape[0]}')\n",
        "    features_name.append(col) \n",
        "    missing_values.append(float(num_na) / user_features.shape[0]) \n",
        "\n",
        "item_df['Feature'] = features_name\n",
        "item_df['Missing Value Percentage'] = missing_values"
      ],
      "execution_count": null,
      "outputs": [
        {
          "output_type": "stream",
          "text": [
            "\n",
            "business features: ['name', 'neighborhood', 'address', 'city', 'state', 'postal_code', 'latitude', 'longitude', 'stars', 'review_count', 'is_open', 'categories']\n",
            "% missing values per feature with missing values:\n",
            "neighborhood missing values %: 0.603613791716928\n",
            "city missing values %: 6.282669883393647e-06\n",
            "state missing values %: 6.282669883393647e-06\n",
            "postal_code missing values %: 0.003166465621230398\n",
            "latitude missing values %: 6.282669883393647e-06\n",
            "longitude missing values %: 6.282669883393647e-06\n"
          ],
          "name": "stdout"
        }
      ]
    },
    {
      "cell_type": "code",
      "metadata": {
        "colab": {
          "base_uri": "https://localhost:8080/",
          "height": 452
        },
        "id": "bqizvNznNZD3",
        "outputId": "453b61a1-f7a2-42fe-c2a6-cf38ee41162c"
      },
      "source": [
        "item_df"
      ],
      "execution_count": null,
      "outputs": [
        {
          "output_type": "execute_result",
          "data": {
            "text/html": [
              "<div>\n",
              "<style scoped>\n",
              "    .dataframe tbody tr th:only-of-type {\n",
              "        vertical-align: middle;\n",
              "    }\n",
              "\n",
              "    .dataframe tbody tr th {\n",
              "        vertical-align: top;\n",
              "    }\n",
              "\n",
              "    .dataframe thead th {\n",
              "        text-align: right;\n",
              "    }\n",
              "</style>\n",
              "<table border=\"1\" class=\"dataframe\">\n",
              "  <thead>\n",
              "    <tr style=\"text-align: right;\">\n",
              "      <th></th>\n",
              "      <th>Feature</th>\n",
              "      <th>Missing Value Percentage</th>\n",
              "    </tr>\n",
              "  </thead>\n",
              "  <tbody>\n",
              "    <tr>\n",
              "      <th>0</th>\n",
              "      <td>business_id</td>\n",
              "      <td>0.000000</td>\n",
              "    </tr>\n",
              "    <tr>\n",
              "      <th>1</th>\n",
              "      <td>name</td>\n",
              "      <td>0.000000</td>\n",
              "    </tr>\n",
              "    <tr>\n",
              "      <th>2</th>\n",
              "      <td>neighborhood</td>\n",
              "      <td>0.401980</td>\n",
              "    </tr>\n",
              "    <tr>\n",
              "      <th>3</th>\n",
              "      <td>address</td>\n",
              "      <td>0.000000</td>\n",
              "    </tr>\n",
              "    <tr>\n",
              "      <th>4</th>\n",
              "      <td>city</td>\n",
              "      <td>0.000004</td>\n",
              "    </tr>\n",
              "    <tr>\n",
              "      <th>5</th>\n",
              "      <td>state</td>\n",
              "      <td>0.000004</td>\n",
              "    </tr>\n",
              "    <tr>\n",
              "      <th>6</th>\n",
              "      <td>postal_code</td>\n",
              "      <td>0.002109</td>\n",
              "    </tr>\n",
              "    <tr>\n",
              "      <th>7</th>\n",
              "      <td>latitude</td>\n",
              "      <td>0.000004</td>\n",
              "    </tr>\n",
              "    <tr>\n",
              "      <th>8</th>\n",
              "      <td>longitude</td>\n",
              "      <td>0.000004</td>\n",
              "    </tr>\n",
              "    <tr>\n",
              "      <th>9</th>\n",
              "      <td>stars</td>\n",
              "      <td>0.000000</td>\n",
              "    </tr>\n",
              "    <tr>\n",
              "      <th>10</th>\n",
              "      <td>review_count</td>\n",
              "      <td>0.000000</td>\n",
              "    </tr>\n",
              "    <tr>\n",
              "      <th>11</th>\n",
              "      <td>is_open</td>\n",
              "      <td>0.000000</td>\n",
              "    </tr>\n",
              "    <tr>\n",
              "      <th>12</th>\n",
              "      <td>categories</td>\n",
              "      <td>0.000000</td>\n",
              "    </tr>\n",
              "  </tbody>\n",
              "</table>\n",
              "</div>"
            ],
            "text/plain": [
              "         Feature  Missing Value Percentage\n",
              "0    business_id                  0.000000\n",
              "1           name                  0.000000\n",
              "2   neighborhood                  0.401980\n",
              "3        address                  0.000000\n",
              "4           city                  0.000004\n",
              "5          state                  0.000004\n",
              "6    postal_code                  0.002109\n",
              "7       latitude                  0.000004\n",
              "8      longitude                  0.000004\n",
              "9          stars                  0.000000\n",
              "10  review_count                  0.000000\n",
              "11       is_open                  0.000000\n",
              "12    categories                  0.000000"
            ]
          },
          "metadata": {
            "tags": []
          },
          "execution_count": 15
        }
      ]
    },
    {
      "cell_type": "code",
      "metadata": {
        "colab": {
          "base_uri": "https://localhost:8080/",
          "height": 383
        },
        "id": "Bg5q67RpNajm",
        "outputId": "96a6517b-e49c-4787-bd0b-ae82d205ba72"
      },
      "source": [
        "plt.figure(figsize=(23,5))\n",
        "\n",
        "ax = sns.barplot(x=\"Feature\", y=\"Missing Value Percentage\", data=item_df);\n",
        "ax.set_xticklabels(ax.get_xticklabels(), rotation=30);\n",
        "ax.set(title='Missing Value for item features');"
      ],
      "execution_count": null,
      "outputs": [
        {
          "output_type": "display_data",
          "data": {
            "image/png": "[encoded data removed]",
            "text/plain": [
              "<Figure size 1656x360 with 1 Axes>"
            ]
          },
          "metadata": {
            "tags": []
          }
        }
      ]
    },
    {
      "cell_type": "markdown",
      "metadata": {
        "id": "K9DqanBQNklm"
      },
      "source": [
        "We can see that the \"neighborhood\" feature has the highest percentage of missing values, around 0.4."
      ]
    },
    {
      "cell_type": "markdown",
      "metadata": {
        "id": "HJku_ZLjOAx9"
      },
      "source": [
        "When constructing the content model, we will take into account these features and examine if and how it will use them.\n"
      ]
    },
    {
      "cell_type": "markdown",
      "metadata": {
        "id": "r9uTRNYOOUdJ"
      },
      "source": [
        "### RMSE measure"
      ]
    },
    {
      "cell_type": "markdown",
      "metadata": {
        "id": "rnbBGF_-OC-8"
      },
      "source": [
        "The following is an implementation of the RMSE measure, as requested in the assignment:"
      ]
    },
    {
      "cell_type": "code",
      "metadata": {
        "id": "MC3VEU8uOU2A"
      },
      "source": [
        "def calculate_RMSE(r_real, r_pred):  \n",
        "  MSE = np.square(np.subtract(r_real,r_pred)).mean() \n",
        "  RMSE = math.sqrt(MSE)\n",
        "  return RMSE"
      ],
      "execution_count": null,
      "outputs": []
    },
    {
      "cell_type": "markdown",
      "metadata": {
        "id": "6yoKncyaNVbr"
      },
      "source": [
        "### MAE measure"
      ]
    },
    {
      "cell_type": "markdown",
      "metadata": {
        "id": "eNnFc0jESPmH"
      },
      "source": [
        "As another evaluation measure, we propose Mean Absolute Error, MAE in short. As explained in the assignment, we explore the task of predicting rating, which is a numeric variable. This can be referred as a regression task. As such, we chose to examine MAE measure since it is a common measure that is used to evaluate how good a regression model is. It measures the average magnitude of the errors in a set of predictions, without considering their direction. It is defined as the average over the test sample of the absolute differences between prediction and actual observation where all individual differences have equal weight."
      ]
    },
    {
      "cell_type": "code",
      "metadata": {
        "id": "xF_6irFgFpnS"
      },
      "source": [
        "def calculate_MAE(r_real, r_pred):\n",
        "  sum_error = 0.0\n",
        "  for i in range(len(r_real)):\n",
        "    sum_error += abs(r_pred[i] - r_real[i])\n",
        "  return sum_error  / float(len(r_real))"
      ],
      "execution_count": null,
      "outputs": []
    },
    {
      "cell_type": "markdown",
      "metadata": {
        "id": "S5eNWESTRQMi"
      },
      "source": [
        "### RMSE Class-Wise"
      ]
    },
    {
      "cell_type": "code",
      "metadata": {
        "id": "SERBT-9QRXYL"
      },
      "source": [
        "def RMSE_class_wise(r_real, r_pred):\n",
        "\n",
        "  ratings = [1,2,3,4,5]\n",
        "  all_RMSE = []\n",
        "  for rating in ratings:\n",
        "    relevant_indexes = [i for i, n in enumerate(r_real) if n == rating]\n",
        "    real_single_class =  [r_real[index] for index in relevant_indexes]\n",
        "    pred_single_class =  [r_pred[index] for index in relevant_indexes]\n",
        "    rmse = calculate_RMSE(real_single_class, pred_single_class)\n",
        "    all_RMSE.append(rmse)\n",
        "    \n",
        "  return ratings, all_RMSE"
      ],
      "execution_count": null,
      "outputs": []
    },
    {
      "cell_type": "markdown",
      "metadata": {
        "id": "QA3QLwxKPIYy"
      },
      "source": [
        "## Part 3 - SVD (MF)"
      ]
    },
    {
      "cell_type": "markdown",
      "metadata": {
        "id": "T_PvLmoqOnqQ"
      },
      "source": [
        "### SVD Implementation"
      ]
    },
    {
      "cell_type": "markdown",
      "metadata": {
        "id": "R_R48O-3l2Or"
      },
      "source": [
        "In this part, we will implement SVD model, as learned in the lecture and followed by the course's book.\n",
        "As such, we will construct and maintain four main data structures:\n",
        "\n",
        "\n",
        "1.   User factors matrix - This matrix will contain all the latent factors vector of each user.\n",
        "2.   Item factors matrix - This matrix will contain all the latent factors of each item.\n",
        "3.   User bias vector - This vector will contain the rating bias of each user.\n",
        "4.   Item bias vector - This vector will contain the rating bias of each item.\n",
        "\n",
        "These data structures will be constructed based on the train data, and will be updated in a descending gadient process, along the training phase. In other words, the model will learn what are the best factors and biases of the users, which should result in an efficient rating prediction. \n",
        "Eventually, the trained model will be consisted of these updated data structures and thus will be able to make a prediction based on the test data.\n",
        "It is important to note that the train data will serve as the R matrix, and will consist of all the available user-item rankings. "
      ]
    },
    {
      "cell_type": "code",
      "metadata": {
        "id": "M4MTYTQ_5m-M"
      },
      "source": [
        "def PredictRatingSVD(mean_rating,b_i, b_u, p_u, q_i):\n",
        "  features_score = sum(np.multiply(q_i, p_u))\n",
        "  r_pred =  mean_rating + b_i + b_u + features_score\n",
        "  return r_pred "
      ],
      "execution_count": null,
      "outputs": []
    },
    {
      "cell_type": "code",
      "metadata": {
        "id": "ESlLXdxaFvue"
      },
      "source": [
        "def AdjustParametersSVD(b_u, b_i, q_i, p_u, e, gamma, lamda):\n",
        "  new_b_u = b_u + gamma*(e-lamda*b_u)\n",
        "  new_b_i = b_i + gamma*(e-lamda*b_i)\n",
        "  new_q_i = q_i + gamma*(e*p_u-lamda*q_i)\n",
        "  new_p_u = p_u + gamma*(e*q_i-lamda*p_u)\n",
        "\n",
        "  return new_b_u, new_b_i, new_q_i, new_p_u"
      ],
      "execution_count": null,
      "outputs": []
    },
    {
      "cell_type": "code",
      "metadata": {
        "id": "R0LsP4Q5Onw8"
      },
      "source": [
        "best_SVD_val_RMSE = float('inf') # will be updated in the training phase\n",
        "\n",
        "def TrainBaseModel(num_latent_features, gamma, lamda):\n",
        "  global best_SVD_val_RMSE\n",
        "  # Mean rating (miu)\n",
        "  all_rating = list(train_data['stars'])\n",
        "  mean_rating = sum(all_rating) / len(all_rating)\n",
        "\n",
        "  # Initialize b_u for each user \n",
        "  users = list(range(0,R_matrix_shape[0]+1))\n",
        "  users.sort()\n",
        "  b_u = [0.5] * len(users)\n",
        "  users_b = dict(zip(users, b_u))\n",
        "\n",
        "  # Initialize b_i for each item \n",
        "  items = list(range(0,R_matrix_shape[1]+1))\n",
        "  items.sort()\n",
        "  b_i = [0.5] * len(items)\n",
        "  items_b = dict(zip(items, b_i))\n",
        "  \n",
        "  # Initialize p_u for each user  \n",
        "  p_u = np.array([[0.1]*num_latent_features] * len(users))\n",
        "  users_matrix = p_u.reshape(len(p_u), (num_latent_features))\n",
        "\n",
        "  # Initialize q_i for each item  \n",
        "  q_i = np.array([[0.1]*num_latent_features] * len(items))\n",
        "  items_matrix = q_i.reshape(len(q_i), (num_latent_features))\n",
        "\n",
        "  previous_RMSE = 100000\n",
        "  current_RMSE = 10000\n",
        "  epsilon = 0.01\n",
        "  num_iteration = 1\n",
        "  # main loop\n",
        "  while current_RMSE < previous_RMSE and previous_RMSE - current_RMSE > epsilon:\n",
        "    previous_RMSE = current_RMSE\n",
        "\n",
        "    # Iterate through training set\n",
        "    for index, row in train_data.iterrows():\n",
        "      user = row['user_id']\n",
        "      item = row['business_id']\n",
        "      r_real = row['stars']\n",
        "\n",
        "      # extract features of user and item\n",
        "      p_u = users_matrix[user]\n",
        "      q_i = items_matrix[item]\n",
        "\n",
        "      # extract b of user and item\n",
        "      b_u = users_b[user]\n",
        "      b_i = items_b[item]   \n",
        "\n",
        "      # predict rating\n",
        "      r_pred = PredictRatingSVD(mean_rating,b_i, b_u, p_u, q_i)\n",
        "      \n",
        "      # calculate error\n",
        "      e = r_real - r_pred\n",
        "\n",
        "      # Adjust and update parameters\n",
        "      b_u, b_i, q_i, p_u = AdjustParametersSVD(b_u, b_i, q_i, p_u, e, gamma, lamda)\n",
        "      users_matrix[user] = p_u\n",
        "      items_matrix[item] = q_i\n",
        "      users_b[user] = b_u \n",
        "      items_b[item] = b_i \n",
        "  \n",
        "    # iterate through validation set\n",
        "    all_r_pred = []\n",
        "    all_r_real = []\n",
        "    for index, row in val_data.iterrows():\n",
        "      user = row['user_id']\n",
        "      item = row['business_id']\n",
        "      r_real = row['stars']\n",
        "\n",
        "      # extract features of user and item\n",
        "      p_u = users_matrix[user]\n",
        "      q_i = items_matrix[item]\n",
        "\n",
        "      # extract b of user and item\n",
        "      b_u = users_b[user]\n",
        "      b_i = items_b[item]   \n",
        "\n",
        "      # predict rating\n",
        "      r_pred = PredictRatingSVD(mean_rating,b_i, b_u, p_u, q_i)\n",
        "\n",
        "      # calculate RMSE\n",
        "      all_r_pred.append(r_pred)\n",
        "      all_r_real.append(r_real)\n",
        "\n",
        "    current_RMSE = calculate_RMSE(all_r_real, all_r_pred) \n",
        "    best_SVD_val_RMSE = current_RMSE\n",
        "    current_MAE = calculate_MAE(all_r_real,all_r_pred )\n",
        "    print('Iteration number:', num_iteration, '.Validation RMSE is:', current_RMSE, '.Validation MAE is:', current_MAE )  \n",
        "    num_iteration +=1\n",
        "\n",
        "  return [users_matrix, items_matrix, users_b, items_b]"
      ],
      "execution_count": null,
      "outputs": []
    },
    {
      "cell_type": "code",
      "metadata": {
        "colab": {
          "background_save": true,
          "base_uri": "https://localhost:8080/"
        },
        "id": "CVcvtq-WB7Kj",
        "outputId": "0c603c51-c4a5-4d9d-dcb7-2160123931d7"
      },
      "source": [
        "# train the model  \n",
        "num_factors = 20\n",
        "gamma = 0.005\n",
        "lamda = 0.02\n",
        "\n",
        "SVD_model = TrainBaseModel(num_factors, gamma, lamda)"
      ],
      "execution_count": null,
      "outputs": [
        {
          "output_type": "stream",
          "text": [
            "Iteration number: 1 .Validation RMSE is: 1.5195522071469838 .Validation MAE is: 1.0669002326940158\n",
            "Iteration number: 2 .Validation RMSE is: 1.431785228061287 .Validation MAE is: 1.0195701170545903\n",
            "Iteration number: 3 .Validation RMSE is: 1.3829603813410734 .Validation MAE is: 0.997019185963822\n",
            "Iteration number: 4 .Validation RMSE is: 1.350580749761893 .Validation MAE is: 0.9831426982832104\n",
            "Iteration number: 5 .Validation RMSE is: 1.3270597681436997 .Validation MAE is: 0.973399193766581\n",
            "Iteration number: 6 .Validation RMSE is: 1.309000734499033 .Validation MAE is: 0.9660681449592191\n",
            "Iteration number: 7 .Validation RMSE is: 1.2946113491980897 .Validation MAE is: 0.9602914213030272\n",
            "Iteration number: 8 .Validation RMSE is: 1.2828380975343106 .Validation MAE is: 0.9555722336664583\n",
            "Iteration number: 9 .Validation RMSE is: 1.2730127709133823 .Validation MAE is: 0.9516344459956031\n"
          ],
          "name": "stdout"
        }
      ]
    },
    {
      "cell_type": "markdown",
      "metadata": {
        "id": "5ajLY5zVDSQQ"
      },
      "source": [
        "### Evaluate on Test Set"
      ]
    },
    {
      "cell_type": "markdown",
      "metadata": {
        "id": "yVWyIkIvnUQS"
      },
      "source": [
        "\n",
        "After training a SVD model, we can now make a rating prediction based on the test data, in order to examine how efficient our model is. "
      ]
    },
    {
      "cell_type": "code",
      "metadata": {
        "id": "-9H3eqCcQG4J"
      },
      "source": [
        "# Predict on test set and return all predictions\n",
        "def SVDGetPredictions(SVD_model, dataset):\n",
        "  users_matrix, items_matrix, users_b, items_b = SVD_model[0], SVD_model[1], SVD_model[2], SVD_model[3]\n",
        "  all_rating = list(train_data['stars'])\n",
        "  mean_rating = sum(all_rating) / len(all_rating)\n",
        "  all_r_pred = []\n",
        "  all_r_real = []\n",
        "\n",
        "  for index, row in dataset.iterrows():\n",
        "      user = row['user_id']\n",
        "      item = row['business_id']\n",
        "      r_real = row['stars']\n",
        "\n",
        "      # extract features of user and item\n",
        "      p_u = users_matrix[user]\n",
        "      q_i = items_matrix[item]\n",
        "\n",
        "      # extract b of user and item\n",
        "      b_u = users_b[user]\n",
        "      b_i = items_b[item]\n",
        "\n",
        "      # predict rating\n",
        "      r_pred = PredictRatingSVD(mean_rating,b_i, b_u, p_u, q_i)\n",
        "\n",
        "      # calculate RMSE\n",
        "      all_r_pred.append(r_pred)\n",
        "      all_r_real.append(r_real)\n",
        "  return all_r_pred\n",
        "\n",
        "\n",
        "# Predict on test set and return RMSE and MAE\n",
        "def SVDTestPrediction(SVD_model):\n",
        "  users_matrix, items_matrix, users_b, items_b = SVD_model[0], SVD_model[1], SVD_model[2], SVD_model[3]\n",
        "  all_rating = list(train_data['stars']) \n",
        "  mean_rating = sum(all_rating) / len(all_rating)\n",
        "  all_r_pred = []\n",
        "  all_r_real = []\n",
        "  \n",
        "  for index, row in test_data.iterrows():\n",
        "      user = row['user_id']\n",
        "      item = row['business_id']\n",
        "      r_real = row['stars']\n",
        "\n",
        "      # extract features of user and item\n",
        "      p_u = users_matrix[user]\n",
        "      q_i = items_matrix[item]\n",
        "\n",
        "      # extract b of user and item\n",
        "      b_u = users_b[user]\n",
        "      b_i = items_b[item]   \n",
        "\n",
        "      # predict rating\n",
        "      r_pred = PredictRatingSVD(mean_rating,b_i, b_u, p_u, q_i)\n",
        "\n",
        "      # calculate RMSE\n",
        "      all_r_pred.append(r_pred)\n",
        "      all_r_real.append(r_real)\n",
        "\n",
        "  RMSE = calculate_RMSE(all_r_real, all_r_pred) \n",
        "  print('The RMSE of SVD for', num_factors, 'latent features is:',RMSE)\n",
        "\n",
        "  MAE = calculate_MAE(all_r_real,all_r_pred)\n",
        "  print('The MAE of SVD for', num_factors, 'latent features is:',MAE)\n",
        "\n",
        "  return RMSE, MAE"
      ],
      "execution_count": null,
      "outputs": []
    },
    {
      "cell_type": "code",
      "metadata": {
        "colab": {
          "base_uri": "https://localhost:8080/"
        },
        "id": "Eb0bvbZ2B_Q5",
        "outputId": "5c1ec7b5-5f66-4a87-91b3-7755b0c0dff7"
      },
      "source": [
        "RMSE, MAE = SVDTestPrediction(SVD_model)"
      ],
      "execution_count": null,
      "outputs": [
        {
          "output_type": "stream",
          "text": [
            "The RMSE of SVD for 20 latent features is: 1.2744671910783822\n",
            "The MAE of SVD for 20 latent features is: 0.9539485657540977\n"
          ],
          "name": "stdout"
        }
      ]
    },
    {
      "cell_type": "markdown",
      "metadata": {
        "id": "xIfAIPHtIlHH"
      },
      "source": [
        "Both of the metrics values seem to be low, which is good. It will also be interesting to examine the RMSE for each given class separately. In other words, we will evaluate the already trained model for each class separately. In each evaluation, the test set will only be consisted of one class value. As following:"
      ]
    },
    {
      "cell_type": "code",
      "metadata": {
        "colab": {
          "base_uri": "https://localhost:8080/"
        },
        "id": "NKUDoGb4FKmo",
        "outputId": "98046ba2-7122-460c-b26d-cd6080bdbef3"
      },
      "source": [
        "ratings = [1,2,3,4,5]\n",
        "SVD_RMSE = []\n",
        "\n",
        "original_test_set = test_data.copy()\n",
        "\n",
        "# In each iteration, the test set will only be consisted of one class value.\n",
        "for rating in ratings:\n",
        "  print('Evaluating SVD for a target value of only:', rating)\n",
        "  test_data = original_test_set[original_test_set['stars'] == rating]\n",
        "  RMSE, MAE = SVDTestPrediction(SVD_model)\n",
        "  SVD_RMSE.append(RMSE)\n",
        "  print('--------------------------------------------------------------')\n",
        "test_data = original_test_set # back to original test_data"
      ],
      "execution_count": null,
      "outputs": [
        {
          "output_type": "stream",
          "text": [
            "Evaluating SVD for a target value of only: 1\n",
            "The RMSE of SVD for 20 latent features is: 2.808642400799926\n",
            "The MAE of SVD for 20 latent features is: 2.7256286465001067\n",
            "--------------------------------------------------------------\n",
            "Evaluating SVD for a target value of only: 2\n",
            "The RMSE of SVD for 20 latent features is: 1.779832382327965\n",
            "The MAE of SVD for 20 latent features is: 1.6857378120293838\n",
            "--------------------------------------------------------------\n",
            "Evaluating SVD for a target value of only: 3\n",
            "The RMSE of SVD for 20 latent features is: 0.8943607633623031\n",
            "The MAE of SVD for 20 latent features is: 0.7716422002072504\n",
            "--------------------------------------------------------------\n",
            "Evaluating SVD for a target value of only: 4\n",
            "The RMSE of SVD for 20 latent features is: 0.49022971614597255\n",
            "The MAE of SVD for 20 latent features is: 0.3878378230367703\n",
            "--------------------------------------------------------------\n",
            "Evaluating SVD for a target value of only: 5\n",
            "The RMSE of SVD for 20 latent features is: 0.9036257624397467\n",
            "The MAE of SVD for 20 latent features is: 0.7637638243040248\n",
            "--------------------------------------------------------------\n"
          ],
          "name": "stdout"
        }
      ]
    },
    {
      "cell_type": "code",
      "metadata": {
        "colab": {
          "base_uri": "https://localhost:8080/",
          "height": 191
        },
        "id": "pe7tOrGoJHSj",
        "outputId": "49d20336-800e-4ff7-a0d3-f9a665ad6a56"
      },
      "source": [
        "rmse_table = pd.DataFrame()\n",
        "rmse_table['ratings'] = ratings\n",
        "rmse_table['RMSE'] = SVD_RMSE\n",
        "\n",
        "rmse_table"
      ],
      "execution_count": null,
      "outputs": [
        {
          "output_type": "execute_result",
          "data": {
            "text/html": [
              "<div>\n",
              "<style scoped>\n",
              "    .dataframe tbody tr th:only-of-type {\n",
              "        vertical-align: middle;\n",
              "    }\n",
              "\n",
              "    .dataframe tbody tr th {\n",
              "        vertical-align: top;\n",
              "    }\n",
              "\n",
              "    .dataframe thead th {\n",
              "        text-align: right;\n",
              "    }\n",
              "</style>\n",
              "<table border=\"1\" class=\"dataframe\">\n",
              "  <thead>\n",
              "    <tr style=\"text-align: right;\">\n",
              "      <th></th>\n",
              "      <th>ratings</th>\n",
              "      <th>RMSE</th>\n",
              "    </tr>\n",
              "  </thead>\n",
              "  <tbody>\n",
              "    <tr>\n",
              "      <th>0</th>\n",
              "      <td>1</td>\n",
              "      <td>2.808642</td>\n",
              "    </tr>\n",
              "    <tr>\n",
              "      <th>1</th>\n",
              "      <td>2</td>\n",
              "      <td>1.779832</td>\n",
              "    </tr>\n",
              "    <tr>\n",
              "      <th>2</th>\n",
              "      <td>3</td>\n",
              "      <td>0.894361</td>\n",
              "    </tr>\n",
              "    <tr>\n",
              "      <th>3</th>\n",
              "      <td>4</td>\n",
              "      <td>0.490230</td>\n",
              "    </tr>\n",
              "    <tr>\n",
              "      <th>4</th>\n",
              "      <td>5</td>\n",
              "      <td>0.903626</td>\n",
              "    </tr>\n",
              "  </tbody>\n",
              "</table>\n",
              "</div>"
            ],
            "text/plain": [
              "   ratings      RMSE\n",
              "0        1  2.808642\n",
              "1        2  1.779832\n",
              "2        3  0.894361\n",
              "3        4  0.490230\n",
              "4        5  0.903626"
            ]
          },
          "metadata": {
            "tags": []
          },
          "execution_count": 35
        }
      ]
    },
    {
      "cell_type": "code",
      "metadata": {
        "colab": {
          "base_uri": "https://localhost:8080/",
          "height": 352
        },
        "id": "WWAJ-JsKFKry",
        "outputId": "72d06d8b-0573-47c2-d543-889fbc9b2e7a"
      },
      "source": [
        "plt.figure(figsize=(15,5))\n",
        "ax = sns.barplot(x=\"ratings\", y=\"RMSE\", data=rmse_table);\n",
        "ax.set_xticklabels(ax.get_xticklabels(), rotation=30);\n",
        "ax.set(title='RMSE using SVD - For Each Class Separately');"
      ],
      "execution_count": null,
      "outputs": [
        {
          "output_type": "display_data",
          "data": {
            "image/png": "[encoded data removed]",
            "text/plain": [
              "<Figure size 1080x360 with 1 Axes>"
            ]
          },
          "metadata": {
            "tags": [],
            "needs_background": "light"
          }
        }
      ]
    },
    {
      "cell_type": "markdown",
      "metadata": {
        "id": "igwtMnb8I2aE"
      },
      "source": [
        "Viewing the above graph, we can see that the model performed worst when only given class 1, followed by class 2. On the other hands, the model performed best and managed to achieve a very low RMSE value (under 0.5) when only evaluating class number 4."
      ]
    },
    {
      "cell_type": "markdown",
      "metadata": {
        "id": "7KJGuYdD1y0a"
      },
      "source": [
        "\n",
        "\n",
        " ### Adjustment of γ and λ "
      ]
    },
    {
      "cell_type": "markdown",
      "metadata": {
        "id": "ZH4IExJM1zq9"
      },
      "source": [
        "In attempt to improve the metrics, we will use the recommended learning rates' values that are presented in the course book. We will examine whether using said values improve our examined metrics. We will also perform gridsearch operation and to examine all sort of value combinations of these two learning rates parameters. Eventually, we will compare the metrics results for each given value combinations, and determine the optimal one. It is importnat to note that the range of the examined values will not be too varied, since the run time is limited. "
      ]
    },
    {
      "cell_type": "code",
      "metadata": {
        "colab": {
          "base_uri": "https://localhost:8080/"
        },
        "id": "jcOUgskC1zFo",
        "outputId": "6d9ffcb6-e788-4faf-f0a6-b02f420b5310"
      },
      "source": [
        "gamma_values = np.array([0.001, 0.003, 0.005])\n",
        "lamda_values = np.array([0.02, 0.06])\n",
        "SVD_models = []\n",
        "num_factors = 20\n",
        "\n",
        "for gamma, lamda in product(gamma_values, lamda_values):\n",
        "    print('Training model with learning rates of gamma =',gamma,'and lamda =',lamda, ':')\n",
        "    print('-----------------------------------------------------------------------------------')\n",
        "    trained_model = TrainBaseModel(num_factors, gamma, lamda)\n",
        "    SVD_models.append(trained_model)\n",
        "    print('-----------------------------------------------------------------------------------')\n"
      ],
      "execution_count": null,
      "outputs": [
        {
          "output_type": "stream",
          "text": [
            "Training model with learning rates of gamma = 0.001 and lamda = 0.02 :\n",
            "-----------------------------------------------------------------------------------\n",
            "Iteration number: 1 .Validation RMSE is: 1.6900326899658462 .Validation MAE is: 1.1766348047485788\n",
            "Iteration number: 2 .Validation RMSE is: 1.6276644925946049 .Validation MAE is: 1.1354175610380834\n",
            "Iteration number: 3 .Validation RMSE is: 1.5827688194046785 .Validation MAE is: 1.1061411414808597\n",
            "Iteration number: 4 .Validation RMSE is: 1.5480999435220084 .Validation MAE is: 1.0841897632399584\n",
            "Iteration number: 5 .Validation RMSE is: 1.520169113013334 .Validation MAE is: 1.067207836219243\n",
            "Iteration number: 6 .Validation RMSE is: 1.4969920705805047 .Validation MAE is: 1.053726752558765\n",
            "Iteration number: 7 .Validation RMSE is: 1.4773290322093344 .Validation MAE is: 1.0428259706258434\n",
            "Iteration number: 8 .Validation RMSE is: 1.4603552581861596 .Validation MAE is: 1.0338380489060552\n",
            "Iteration number: 9 .Validation RMSE is: 1.4454963372493765 .Validation MAE is: 1.0262486267680462\n",
            "Iteration number: 10 .Validation RMSE is: 1.432337682403648 .Validation MAE is: 1.019747781049624\n",
            "Iteration number: 11 .Validation RMSE is: 1.4205713146715504 .Validation MAE is: 1.0141036867603626\n",
            "Iteration number: 12 .Validation RMSE is: 1.4099629095027957 .Validation MAE is: 1.0091245912130467\n",
            "Iteration number: 13 .Validation RMSE is: 1.4003305298352056 .Validation MAE is: 1.0046927130450376\n",
            "-----------------------------------------------------------------------------------\n",
            "Training model with learning rates of gamma = 0.001 and lamda = 0.06 :\n",
            "-----------------------------------------------------------------------------------\n",
            "Iteration number: 1 .Validation RMSE is: 1.6888380042307936 .Validation MAE is: 1.1760345516298194\n",
            "Iteration number: 2 .Validation RMSE is: 1.6261303286535589 .Validation MAE is: 1.1346689673142045\n",
            "Iteration number: 3 .Validation RMSE is: 1.581119125336905 .Validation MAE is: 1.1053837894898155\n",
            "Iteration number: 4 .Validation RMSE is: 1.5464230910944061 .Validation MAE is: 1.083471302964484\n",
            "Iteration number: 5 .Validation RMSE is: 1.5185031844119214 .Validation MAE is: 1.0665606450578764\n",
            "Iteration number: 6 .Validation RMSE is: 1.495353518217546 .Validation MAE is: 1.0531592876846003\n",
            "Iteration number: 7 .Validation RMSE is: 1.475724309136564 .Validation MAE is: 1.0423355041900586\n",
            "Iteration number: 8 .Validation RMSE is: 1.458786035270181 .Validation MAE is: 1.0334144953650024\n",
            "Iteration number: 9 .Validation RMSE is: 1.4439619883867447 .Validation MAE is: 1.0258876266501529\n",
            "Iteration number: 10 .Validation RMSE is: 1.4308365152669547 .Validation MAE is: 1.0194422476330045\n",
            "Iteration number: 11 .Validation RMSE is: 1.4191011949838621 .Validation MAE is: 1.013846148754845\n",
            "Iteration number: 12 .Validation RMSE is: 1.4085215804257436 .Validation MAE is: 1.0089110745913223\n",
            "Iteration number: 13 .Validation RMSE is: 1.398915773386909 .Validation MAE is: 1.0045227594726909\n",
            "-----------------------------------------------------------------------------------\n",
            "Training model with learning rates of gamma = 0.003 and lamda = 0.02 :\n",
            "-----------------------------------------------------------------------------------\n",
            "Iteration number: 1 .Validation RMSE is: 1.5824795264496125 .Validation MAE is: 1.1059550017970543\n",
            "Iteration number: 2 .Validation RMSE is: 1.4966916304293816 .Validation MAE is: 1.053578290171027\n",
            "Iteration number: 3 .Validation RMSE is: 1.4452109406419527 .Validation MAE is: 1.026135788033792\n",
            "Iteration number: 4 .Validation RMSE is: 1.4096950403439146 .Validation MAE is: 1.0090364121241613\n",
            "Iteration number: 5 .Validation RMSE is: 1.3831955350702059 .Validation MAE is: 0.9970617247006192\n",
            "Iteration number: 6 .Validation RMSE is: 1.3624039867884046 .Validation MAE is: 0.9880717943179261\n",
            "Iteration number: 7 .Validation RMSE is: 1.3455130112554878 .Validation MAE is: 0.9809665903926601\n",
            "Iteration number: 8 .Validation RMSE is: 1.33143756785674 .Validation MAE is: 0.9751422516392808\n",
            "Iteration number: 9 .Validation RMSE is: 1.3194795556753158 .Validation MAE is: 0.9702528521325887\n",
            "Iteration number: 10 .Validation RMSE is: 1.309165383462511 .Validation MAE is: 0.9660825942330585\n",
            "Iteration number: 11 .Validation RMSE is: 1.3001600736438506 .Validation MAE is: 0.9624633385540149\n",
            "-----------------------------------------------------------------------------------\n",
            "Training model with learning rates of gamma = 0.003 and lamda = 0.06 :\n",
            "-----------------------------------------------------------------------------------\n",
            "Iteration number: 1 .Validation RMSE is: 1.5808245665213818 .Validation MAE is: 1.1051968153619685\n",
            "Iteration number: 2 .Validation RMSE is: 1.4950487346897487 .Validation MAE is: 1.0530091220424322\n",
            "Iteration number: 3 .Validation RMSE is: 1.4436728780059283 .Validation MAE is: 1.0257721278537482\n",
            "Iteration number: 4 .Validation RMSE is: 1.408250424126479 .Validation MAE is: 1.0088228829224002\n",
            "Iteration number: 5 .Validation RMSE is: 1.3818248302422902 .Validation MAE is: 0.9969654009860301\n",
            "Iteration number: 6 .Validation RMSE is: 1.3610910177425464 .Validation MAE is: 0.9880628144173925\n",
            "Iteration number: 7 .Validation RMSE is: 1.3442454837922484 .Validation MAE is: 0.9810259859384567\n",
            "Iteration number: 8 .Validation RMSE is: 1.3302061581247433 .Validation MAE is: 0.9752622094436\n",
            "Iteration number: 9 .Validation RMSE is: 1.3182770569497737 .Validation MAE is: 0.9704177225381938\n",
            "Iteration number: 10 .Validation RMSE is: 1.3079860849666802 .Validation MAE is: 0.966286136737181\n",
            "Iteration number: 11 .Validation RMSE is: 1.2989993279549539 .Validation MAE is: 0.9627009928084774\n",
            "-----------------------------------------------------------------------------------\n",
            "Training model with learning rates of gamma = 0.005 and lamda = 0.02 :\n",
            "-----------------------------------------------------------------------------------\n",
            "Iteration number: 1 .Validation RMSE is: 1.5195522071469838 .Validation MAE is: 1.0669002326940158\n",
            "Iteration number: 2 .Validation RMSE is: 1.431785228061287 .Validation MAE is: 1.0195701170545903\n",
            "Iteration number: 3 .Validation RMSE is: 1.3829603813410734 .Validation MAE is: 0.997019185963822\n",
            "Iteration number: 4 .Validation RMSE is: 1.350580749761893 .Validation MAE is: 0.9831426982832104\n",
            "Iteration number: 5 .Validation RMSE is: 1.3270597681436997 .Validation MAE is: 0.973399193766581\n",
            "Iteration number: 6 .Validation RMSE is: 1.309000734499033 .Validation MAE is: 0.9660681449592191\n",
            "Iteration number: 7 .Validation RMSE is: 1.2946113491980897 .Validation MAE is: 0.9602914213030272\n",
            "Iteration number: 8 .Validation RMSE is: 1.2828380975343106 .Validation MAE is: 0.9555722336664583\n",
            "Iteration number: 9 .Validation RMSE is: 1.2730127709133823 .Validation MAE is: 0.9516344459956031\n",
            "-----------------------------------------------------------------------------------\n",
            "Training model with learning rates of gamma = 0.005 and lamda = 0.06 :\n",
            "-----------------------------------------------------------------------------------\n",
            "Iteration number: 1 .Validation RMSE is: 1.5178764463851016 .Validation MAE is: 1.0662533821346425\n",
            "Iteration number: 2 .Validation RMSE is: 1.4302762542651617 .Validation MAE is: 1.019259131884918\n",
            "Iteration number: 3 .Validation RMSE is: 1.3815859322374646 .Validation MAE is: 0.9969204353882212\n",
            "Iteration number: 4 .Validation RMSE is: 1.3492959298043383 .Validation MAE is: 0.9831779237449007\n",
            "Iteration number: 5 .Validation RMSE is: 1.3258358383360007 .Validation MAE is: 0.9735326919175092\n",
            "Iteration number: 6 .Validation RMSE is: 1.3078190020319092 .Validation MAE is: 0.9662692765179484\n",
            "Iteration number: 7 .Validation RMSE is: 1.2934587849238972 .Validation MAE is: 0.9605506368196062\n",
            "Iteration number: 8 .Validation RMSE is: 1.2817048997590805 .Validation MAE is: 0.9558766403670912\n",
            "Iteration number: 9 .Validation RMSE is: 1.2718909588615548 .Validation MAE is: 0.9519685141316593\n",
            "-----------------------------------------------------------------------------------\n"
          ],
          "name": "stdout"
        }
      ]
    },
    {
      "cell_type": "code",
      "metadata": {
        "colab": {
          "base_uri": "https://localhost:8080/"
        },
        "id": "mL6m_5TeO6m1",
        "outputId": "9d11be7b-22a1-4c98-fa21-e7e7a4393c0b"
      },
      "source": [
        "# Predicting for test set for each combinations model\n",
        "all_RMSE = []\n",
        "all_MAE =[]\n",
        "combinations = list(product(gamma_values, lamda_values))\n",
        "for index, model in enumerate(SVD_models):\n",
        "    gamma = combinations[index][0]\n",
        "    lamda = combinations[index][1]\n",
        "    print('-----------------------------------------------------------------------------------')\n",
        "    print('Testing model with learning rates of gamma =',gamma,'and lamda =',lamda, ':')\n",
        "    print('-----------------------------------------------------------------------------------')\n",
        "    RMSE, MAE = SVDTestPrediction(model)\n",
        "    all_RMSE.append(RMSE)\n",
        "    all_MAE.append(MAE)\n",
        "    print(' ')"
      ],
      "execution_count": null,
      "outputs": [
        {
          "output_type": "stream",
          "text": [
            "-----------------------------------------------------------------------------------\n",
            "Testing model with learning rates of gamma = 0.001 and lamda = 0.02 :\n",
            "-----------------------------------------------------------------------------------\n",
            "The RMSE of SVD for 20 latent features is: 1.402129021841937\n",
            "The MAE of SVD for 20 latent features is: 1.0061057137163945\n",
            " \n",
            "-----------------------------------------------------------------------------------\n",
            "Testing model with learning rates of gamma = 0.001 and lamda = 0.06 :\n",
            "-----------------------------------------------------------------------------------\n",
            "The RMSE of SVD for 20 latent features is: 1.4007151483870781\n",
            "The MAE of SVD for 20 latent features is: 1.0059762534633288\n",
            " \n",
            "-----------------------------------------------------------------------------------\n",
            "Testing model with learning rates of gamma = 0.003 and lamda = 0.02 :\n",
            "-----------------------------------------------------------------------------------\n",
            "The RMSE of SVD for 20 latent features is: 1.301600007200435\n",
            "The MAE of SVD for 20 latent features is: 0.9645796649568508\n",
            " \n",
            "-----------------------------------------------------------------------------------\n",
            "Testing model with learning rates of gamma = 0.003 and lamda = 0.06 :\n",
            "-----------------------------------------------------------------------------------\n",
            "The RMSE of SVD for 20 latent features is: 1.3004180659630298\n",
            "The MAE of SVD for 20 latent features is: 0.9648472324280676\n",
            " \n",
            "-----------------------------------------------------------------------------------\n",
            "Testing model with learning rates of gamma = 0.005 and lamda = 0.02 :\n",
            "-----------------------------------------------------------------------------------\n",
            "The RMSE of SVD for 20 latent features is: 1.2744671910783822\n",
            "The MAE of SVD for 20 latent features is: 0.9539485657540977\n",
            " \n",
            "-----------------------------------------------------------------------------------\n",
            "Testing model with learning rates of gamma = 0.005 and lamda = 0.06 :\n",
            "-----------------------------------------------------------------------------------\n",
            "The RMSE of SVD for 20 latent features is: 1.2733112950213552\n",
            "The MAE of SVD for 20 latent features is: 0.9543037032341942\n",
            " \n"
          ],
          "name": "stdout"
        }
      ]
    },
    {
      "cell_type": "markdown",
      "metadata": {
        "id": "tyRLZN5ODXAD"
      },
      "source": [
        "Next, we will compare the evaluations of our SVD model, for each examined learning rates combination"
      ]
    },
    {
      "cell_type": "code",
      "metadata": {
        "id": "mIV70Tz6fj3N"
      },
      "source": [
        "# Comparison table \n",
        "gammas = []\n",
        "lamdas = []\n",
        "\n",
        "for gamma, lamda in product(gamma_values, lamda_values):\n",
        "  gammas.append(gamma)\n",
        "  lamdas.append(lamda)"
      ],
      "execution_count": null,
      "outputs": []
    },
    {
      "cell_type": "code",
      "metadata": {
        "colab": {
          "base_uri": "https://localhost:8080/",
          "height": 367
        },
        "id": "juVvI1n94vcH",
        "outputId": "ef28aba8-cd05-4558-dff0-04746f8f5310"
      },
      "source": [
        "fig = go.Figure(data=[go.Table(\n",
        "    header=dict(values=['Gamma', 'Lamda', 'RMSE', 'R-Square'],\n",
        "                line_color='darkslategray',\n",
        "                fill_color='lightskyblue',\n",
        "                align='left'),\n",
        "    cells=dict(values=[gammas, # 1st column\n",
        "                       lamdas, all_RMSE, all_MAE], # 2nd column\n",
        "               line_color='darkslategray',\n",
        "               fill_color='lightcyan',\n",
        "               align='left'))\n",
        "])\n",
        "\n",
        "fig.update_layout(width=600, height=350)\n",
        "fig.show()"
      ],
      "execution_count": null,
      "outputs": [
        {
          "output_type": "display_data",
          "data": {
            "text/html": [
              "<html>\n",
              "<head><meta charset=\"utf-8\" /></head>\n",
              "<body>\n",
              "    <div>\n",
              "            <script src=\"https://cdnjs.cloudflare.com/ajax/libs/mathjax/2.7.5/MathJax.js?config=TeX-AMS-MML_SVG\"></script><script type=\"text/javascript\">if (window.MathJax) {MathJax.Hub.Config({SVG: {font: \"STIX-Web\"}});}</script>\n",
              "                <script type=\"text/javascript\">window.PlotlyConfig = {MathJaxConfig: 'local'};</script>\n",
              "        <script src=\"https://cdn.plot.ly/plotly-latest.min.js\"></script>    \n",
              "            <div id=\"dd6358c4-94e8-4971-bb47-800a8b16bf6f\" class=\"plotly-graph-div\" style=\"height:350px; width:600px;\"></div>\n",
              "            <script type=\"text/javascript\">\n",
              "                \n",
              "                    window.PLOTLYENV=window.PLOTLYENV || {};\n",
              "                    \n",
              "                if (document.getElementById(\"dd6358c4-94e8-4971-bb47-800a8b16bf6f\")) {\n",
              "                    Plotly.newPlot(\n",
              "                        'dd6358c4-94e8-4971-bb47-800a8b16bf6f',\n",
              "                        [{\"cells\": {\"align\": \"left\", \"fill\": {\"color\": \"lightcyan\"}, \"line\": {\"color\": \"darkslategray\"}, \"values\": [[0.001, 0.001, 0.003, 0.003, 0.005, 0.005], [0.02, 0.06, 0.02, 0.06, 0.02, 0.06], [1.402129021841937, 1.4007151483870781, 1.301600007200435, 1.3004180659630298, 1.2744671910783822, 1.2733112950213552], [1.0061057137163945, 1.0059762534633288, 0.9645796649568508, 0.9648472324280676, 0.9539485657540977, 0.9543037032341942]]}, \"header\": {\"align\": \"left\", \"fill\": {\"color\": \"lightskyblue\"}, \"line\": {\"color\": \"darkslategray\"}, \"values\": [\"Gamma\", \"Lamda\", \"RMSE\", \"R-Square\"]}, \"type\": \"table\"}],\n",
              "                        {\"height\": 350, \"template\": {\"data\": {\"bar\": [{\"error_x\": {\"color\": \"#2a3f5f\"}, \"error_y\": {\"color\": \"#2a3f5f\"}, \"marker\": {\"line\": {\"color\": \"#E5ECF6\", \"width\": 0.5}}, \"type\": \"bar\"}], \"barpolar\": [{\"marker\": {\"line\": {\"color\": \"#E5ECF6\", \"width\": 0.5}}, \"type\": \"barpolar\"}], \"carpet\": [{\"aaxis\": {\"endlinecolor\": \"#2a3f5f\", \"gridcolor\": \"white\", \"linecolor\": \"white\", \"minorgridcolor\": \"white\", \"startlinecolor\": \"#2a3f5f\"}, \"baxis\": {\"endlinecolor\": \"#2a3f5f\", \"gridcolor\": \"white\", \"linecolor\": \"white\", \"minorgridcolor\": \"white\", \"startlinecolor\": \"#2a3f5f\"}, \"type\": \"carpet\"}], \"choropleth\": [{\"colorbar\": {\"outlinewidth\": 0, \"ticks\": \"\"}, \"type\": \"choropleth\"}], \"contour\": [{\"colorbar\": {\"outlinewidth\": 0, \"ticks\": \"\"}, \"colorscale\": [[0.0, \"#0d0887\"], [0.1111111111111111, \"#46039f\"], [0.2222222222222222, \"#7201a8\"], [0.3333333333333333, \"#9c179e\"], [0.4444444444444444, \"#bd3786\"], [0.5555555555555556, \"#d8576b\"], [0.6666666666666666, \"#ed7953\"], [0.7777777777777778, \"#fb9f3a\"], [0.8888888888888888, \"#fdca26\"], [1.0, \"#f0f921\"]], \"type\": \"contour\"}], \"contourcarpet\": [{\"colorbar\": {\"outlinewidth\": 0, \"ticks\": \"\"}, \"type\": \"contourcarpet\"}], \"heatmap\": [{\"colorbar\": {\"outlinewidth\": 0, \"ticks\": \"\"}, \"colorscale\": [[0.0, \"#0d0887\"], [0.1111111111111111, \"#46039f\"], [0.2222222222222222, \"#7201a8\"], [0.3333333333333333, \"#9c179e\"], [0.4444444444444444, \"#bd3786\"], [0.5555555555555556, \"#d8576b\"], [0.6666666666666666, \"#ed7953\"], [0.7777777777777778, \"#fb9f3a\"], [0.8888888888888888, \"#fdca26\"], [1.0, \"#f0f921\"]], \"type\": \"heatmap\"}], \"heatmapgl\": [{\"colorbar\": {\"outlinewidth\": 0, \"ticks\": \"\"}, \"colorscale\": [[0.0, \"#0d0887\"], [0.1111111111111111, \"#46039f\"], [0.2222222222222222, \"#7201a8\"], [0.3333333333333333, \"#9c179e\"], [0.4444444444444444, \"#bd3786\"], [0.5555555555555556, \"#d8576b\"], [0.6666666666666666, \"#ed7953\"], [0.7777777777777778, \"#fb9f3a\"], [0.8888888888888888, \"#fdca26\"], [1.0, \"#f0f921\"]], \"type\": \"heatmapgl\"}], \"histogram\": [{\"marker\": {\"colorbar\": {\"outlinewidth\": 0, \"ticks\": \"\"}}, \"type\": \"histogram\"}], \"histogram2d\": [{\"colorbar\": {\"outlinewidth\": 0, \"ticks\": \"\"}, \"colorscale\": [[0.0, \"#0d0887\"], [0.1111111111111111, \"#46039f\"], [0.2222222222222222, \"#7201a8\"], [0.3333333333333333, \"#9c179e\"], [0.4444444444444444, \"#bd3786\"], [0.5555555555555556, \"#d8576b\"], [0.6666666666666666, \"#ed7953\"], [0.7777777777777778, \"#fb9f3a\"], [0.8888888888888888, \"#fdca26\"], [1.0, \"#f0f921\"]], \"type\": \"histogram2d\"}], \"histogram2dcontour\": [{\"colorbar\": {\"outlinewidth\": 0, \"ticks\": \"\"}, \"colorscale\": [[0.0, \"#0d0887\"], [0.1111111111111111, \"#46039f\"], [0.2222222222222222, \"#7201a8\"], [0.3333333333333333, \"#9c179e\"], [0.4444444444444444, \"#bd3786\"], [0.5555555555555556, \"#d8576b\"], [0.6666666666666666, \"#ed7953\"], [0.7777777777777778, \"#fb9f3a\"], [0.8888888888888888, \"#fdca26\"], [1.0, \"#f0f921\"]], \"type\": \"histogram2dcontour\"}], \"mesh3d\": [{\"colorbar\": {\"outlinewidth\": 0, \"ticks\": \"\"}, \"type\": \"mesh3d\"}], \"parcoords\": [{\"line\": {\"colorbar\": {\"outlinewidth\": 0, \"ticks\": \"\"}}, \"type\": \"parcoords\"}], \"pie\": [{\"automargin\": true, \"type\": \"pie\"}], \"scatter\": [{\"marker\": {\"colorbar\": {\"outlinewidth\": 0, \"ticks\": \"\"}}, \"type\": \"scatter\"}], \"scatter3d\": [{\"line\": {\"colorbar\": {\"outlinewidth\": 0, \"ticks\": \"\"}}, \"marker\": {\"colorbar\": {\"outlinewidth\": 0, \"ticks\": \"\"}}, \"type\": \"scatter3d\"}], \"scattercarpet\": [{\"marker\": {\"colorbar\": {\"outlinewidth\": 0, \"ticks\": \"\"}}, \"type\": \"scattercarpet\"}], \"scattergeo\": [{\"marker\": {\"colorbar\": {\"outlinewidth\": 0, \"ticks\": \"\"}}, \"type\": \"scattergeo\"}], \"scattergl\": [{\"marker\": {\"colorbar\": {\"outlinewidth\": 0, \"ticks\": \"\"}}, \"type\": \"scattergl\"}], \"scattermapbox\": [{\"marker\": {\"colorbar\": {\"outlinewidth\": 0, \"ticks\": \"\"}}, \"type\": \"scattermapbox\"}], \"scatterpolar\": [{\"marker\": {\"colorbar\": {\"outlinewidth\": 0, \"ticks\": \"\"}}, \"type\": \"scatterpolar\"}], \"scatterpolargl\": [{\"marker\": {\"colorbar\": {\"outlinewidth\": 0, \"ticks\": \"\"}}, \"type\": \"scatterpolargl\"}], \"scatterternary\": [{\"marker\": {\"colorbar\": {\"outlinewidth\": 0, \"ticks\": \"\"}}, \"type\": \"scatterternary\"}], \"surface\": [{\"colorbar\": {\"outlinewidth\": 0, \"ticks\": \"\"}, \"colorscale\": [[0.0, \"#0d0887\"], [0.1111111111111111, \"#46039f\"], [0.2222222222222222, \"#7201a8\"], [0.3333333333333333, \"#9c179e\"], [0.4444444444444444, \"#bd3786\"], [0.5555555555555556, \"#d8576b\"], [0.6666666666666666, \"#ed7953\"], [0.7777777777777778, \"#fb9f3a\"], [0.8888888888888888, \"#fdca26\"], [1.0, \"#f0f921\"]], \"type\": \"surface\"}], \"table\": [{\"cells\": {\"fill\": {\"color\": \"#EBF0F8\"}, \"line\": {\"color\": \"white\"}}, \"header\": {\"fill\": {\"color\": \"#C8D4E3\"}, \"line\": {\"color\": \"white\"}}, \"type\": \"table\"}]}, \"layout\": {\"annotationdefaults\": {\"arrowcolor\": \"#2a3f5f\", \"arrowhead\": 0, \"arrowwidth\": 1}, \"coloraxis\": {\"colorbar\": {\"outlinewidth\": 0, \"ticks\": \"\"}}, \"colorscale\": {\"diverging\": [[0, \"#8e0152\"], [0.1, \"#c51b7d\"], [0.2, \"#de77ae\"], [0.3, \"#f1b6da\"], [0.4, \"#fde0ef\"], [0.5, \"#f7f7f7\"], [0.6, \"#e6f5d0\"], [0.7, \"#b8e186\"], [0.8, \"#7fbc41\"], [0.9, \"#4d9221\"], [1, \"#276419\"]], \"sequential\": [[0.0, \"#0d0887\"], [0.1111111111111111, \"#46039f\"], [0.2222222222222222, \"#7201a8\"], [0.3333333333333333, \"#9c179e\"], [0.4444444444444444, \"#bd3786\"], [0.5555555555555556, \"#d8576b\"], [0.6666666666666666, \"#ed7953\"], [0.7777777777777778, \"#fb9f3a\"], [0.8888888888888888, \"#fdca26\"], [1.0, \"#f0f921\"]], \"sequentialminus\": [[0.0, \"#0d0887\"], [0.1111111111111111, \"#46039f\"], [0.2222222222222222, \"#7201a8\"], [0.3333333333333333, \"#9c179e\"], [0.4444444444444444, \"#bd3786\"], [0.5555555555555556, \"#d8576b\"], [0.6666666666666666, \"#ed7953\"], [0.7777777777777778, \"#fb9f3a\"], [0.8888888888888888, \"#fdca26\"], [1.0, \"#f0f921\"]]}, \"colorway\": [\"#636efa\", \"#EF553B\", \"#00cc96\", \"#ab63fa\", \"#FFA15A\", \"#19d3f3\", \"#FF6692\", \"#B6E880\", \"#FF97FF\", \"#FECB52\"], \"font\": {\"color\": \"#2a3f5f\"}, \"geo\": {\"bgcolor\": \"white\", \"lakecolor\": \"white\", \"landcolor\": \"#E5ECF6\", \"showlakes\": true, \"showland\": true, \"subunitcolor\": \"white\"}, \"hoverlabel\": {\"align\": \"left\"}, \"hovermode\": \"closest\", \"mapbox\": {\"style\": \"light\"}, \"paper_bgcolor\": \"white\", \"plot_bgcolor\": \"#E5ECF6\", \"polar\": {\"angularaxis\": {\"gridcolor\": \"white\", \"linecolor\": \"white\", \"ticks\": \"\"}, \"bgcolor\": \"#E5ECF6\", \"radialaxis\": {\"gridcolor\": \"white\", \"linecolor\": \"white\", \"ticks\": \"\"}}, \"scene\": {\"xaxis\": {\"backgroundcolor\": \"#E5ECF6\", \"gridcolor\": \"white\", \"gridwidth\": 2, \"linecolor\": \"white\", \"showbackground\": true, \"ticks\": \"\", \"zerolinecolor\": \"white\"}, \"yaxis\": {\"backgroundcolor\": \"#E5ECF6\", \"gridcolor\": \"white\", \"gridwidth\": 2, \"linecolor\": \"white\", \"showbackground\": true, \"ticks\": \"\", \"zerolinecolor\": \"white\"}, \"zaxis\": {\"backgroundcolor\": \"#E5ECF6\", \"gridcolor\": \"white\", \"gridwidth\": 2, \"linecolor\": \"white\", \"showbackground\": true, \"ticks\": \"\", \"zerolinecolor\": \"white\"}}, \"shapedefaults\": {\"line\": {\"color\": \"#2a3f5f\"}}, \"ternary\": {\"aaxis\": {\"gridcolor\": \"white\", \"linecolor\": \"white\", \"ticks\": \"\"}, \"baxis\": {\"gridcolor\": \"white\", \"linecolor\": \"white\", \"ticks\": \"\"}, \"bgcolor\": \"#E5ECF6\", \"caxis\": {\"gridcolor\": \"white\", \"linecolor\": \"white\", \"ticks\": \"\"}}, \"title\": {\"x\": 0.05}, \"xaxis\": {\"automargin\": true, \"gridcolor\": \"white\", \"linecolor\": \"white\", \"ticks\": \"\", \"title\": {\"standoff\": 15}, \"zerolinecolor\": \"white\", \"zerolinewidth\": 2}, \"yaxis\": {\"automargin\": true, \"gridcolor\": \"white\", \"linecolor\": \"white\", \"ticks\": \"\", \"title\": {\"standoff\": 15}, \"zerolinecolor\": \"white\", \"zerolinewidth\": 2}}}, \"width\": 600},\n",
              "                        {\"responsive\": true}\n",
              "                    ).then(function(){\n",
              "                            \n",
              "var gd = document.getElementById('dd6358c4-94e8-4971-bb47-800a8b16bf6f');\n",
              "var x = new MutationObserver(function (mutations, observer) {{\n",
              "        var display = window.getComputedStyle(gd).display;\n",
              "        if (!display || display === 'none') {{\n",
              "            console.log([gd, 'removed!']);\n",
              "            Plotly.purge(gd);\n",
              "            observer.disconnect();\n",
              "        }}\n",
              "}});\n",
              "\n",
              "// Listen for the removal of the full notebook cells\n",
              "var notebookContainer = gd.closest('#notebook-container');\n",
              "if (notebookContainer) {{\n",
              "    x.observe(notebookContainer, {childList: true});\n",
              "}}\n",
              "\n",
              "// Listen for the clearing of the current output cell\n",
              "var outputEl = gd.closest('.output');\n",
              "if (outputEl) {{\n",
              "    x.observe(outputEl, {childList: true});\n",
              "}}\n",
              "\n",
              "                        })\n",
              "                };\n",
              "                \n",
              "            </script>\n",
              "        </div>\n",
              "</body>\n",
              "</html>"
            ]
          },
          "metadata": {
            "tags": []
          }
        }
      ]
    },
    {
      "cell_type": "code",
      "metadata": {
        "colab": {
          "base_uri": "https://localhost:8080/",
          "height": 542
        },
        "id": "5DSNOKayGtd_",
        "outputId": "c057d931-8d35-4b9d-98cf-d35764caffa4"
      },
      "source": [
        "# Comparison graph\n",
        "comparison_df = pd.DataFrame()\n",
        "comparison_df['gammas'] = gammas\n",
        "comparison_df['lamdas'] = lamdas\n",
        "comparison_df['RMSE'] = all_RMSE\n",
        "comparison_df['MAE'] = all_MAE\n",
        "\n",
        "comparison_df['gammas'] = comparison_df.gammas.astype(str)\n",
        "comparison_df['lamdas'] = comparison_df.lamdas.astype(str)\n",
        "comparison_df[\"Learning_rates\"] = 'Gamma:' + comparison_df[\"gammas\"] + '\\n' +'Lamda:' +comparison_df[\"lamdas\"]\n",
        "\n",
        "fig = go.Figure(data=[\n",
        "    go.Bar(name='RMSE', x=comparison_df['Learning_rates'], y=comparison_df['RMSE']),\n",
        "    go.Bar(name='MAE', x=comparison_df['Learning_rates'], y=comparison_df['MAE'])\n",
        "])\n",
        "# Change the bar mode\n",
        "fig.update_layout(barmode='group',  title={'text': \"SVD - Learning Parameters Effect on Overall Performance (20 Latent Features)\",\n",
        "        'y':0.9,\n",
        "        'x':0.5,\n",
        "        'xanchor': 'center',\n",
        "        'yanchor': 'top'}, xaxis_title=\"Parameters values\", yaxis_title=\"Metric score\")\n",
        "fig.update_xaxes(title_font_family=\"Arial\")\n",
        "\n",
        "\n",
        "fig.show()"
      ],
      "execution_count": null,
      "outputs": [
        {
          "output_type": "display_data",
          "data": {
            "text/html": [
              "<html>\n",
              "<head><meta charset=\"utf-8\" /></head>\n",
              "<body>\n",
              "    <div>\n",
              "            <script src=\"https://cdnjs.cloudflare.com/ajax/libs/mathjax/2.7.5/MathJax.js?config=TeX-AMS-MML_SVG\"></script><script type=\"text/javascript\">if (window.MathJax) {MathJax.Hub.Config({SVG: {font: \"STIX-Web\"}});}</script>\n",
              "                <script type=\"text/javascript\">window.PlotlyConfig = {MathJaxConfig: 'local'};</script>\n",
              "        <script src=\"https://cdn.plot.ly/plotly-latest.min.js\"></script>    \n",
              "            <div id=\"5a4ebf6c-f27c-471b-bebf-c7b1e1d58437\" class=\"plotly-graph-div\" style=\"height:525px; width:100%;\"></div>\n",
              "            <script type=\"text/javascript\">\n",
              "                \n",
              "                    window.PLOTLYENV=window.PLOTLYENV || {};\n",
              "                    \n",
              "                if (document.getElementById(\"5a4ebf6c-f27c-471b-bebf-c7b1e1d58437\")) {\n",
              "                    Plotly.newPlot(\n",
              "                        '5a4ebf6c-f27c-471b-bebf-c7b1e1d58437',\n",
              "                        [{\"name\": \"RMSE\", \"type\": \"bar\", \"x\": [\"Gamma:0.001\\nLamda:0.02\", \"Gamma:0.001\\nLamda:0.06\", \"Gamma:0.003\\nLamda:0.02\", \"Gamma:0.003\\nLamda:0.06\", \"Gamma:0.005\\nLamda:0.02\", \"Gamma:0.005\\nLamda:0.06\"], \"y\": [1.402129021841937, 1.4007151483870781, 1.301600007200435, 1.3004180659630298, 1.2744671910783822, 1.2733112950213552]}, {\"name\": \"MAE\", \"type\": \"bar\", \"x\": [\"Gamma:0.001\\nLamda:0.02\", \"Gamma:0.001\\nLamda:0.06\", \"Gamma:0.003\\nLamda:0.02\", \"Gamma:0.003\\nLamda:0.06\", \"Gamma:0.005\\nLamda:0.02\", \"Gamma:0.005\\nLamda:0.06\"], \"y\": [1.0061057137163945, 1.0059762534633288, 0.9645796649568508, 0.9648472324280676, 0.9539485657540977, 0.9543037032341942]}],\n",
              "                        {\"barmode\": \"group\", \"template\": {\"data\": {\"bar\": [{\"error_x\": {\"color\": \"#2a3f5f\"}, \"error_y\": {\"color\": \"#2a3f5f\"}, \"marker\": {\"line\": {\"color\": \"#E5ECF6\", \"width\": 0.5}}, \"type\": \"bar\"}], \"barpolar\": [{\"marker\": {\"line\": {\"color\": \"#E5ECF6\", \"width\": 0.5}}, \"type\": \"barpolar\"}], \"carpet\": [{\"aaxis\": {\"endlinecolor\": \"#2a3f5f\", \"gridcolor\": \"white\", \"linecolor\": \"white\", \"minorgridcolor\": \"white\", \"startlinecolor\": \"#2a3f5f\"}, \"baxis\": {\"endlinecolor\": \"#2a3f5f\", \"gridcolor\": \"white\", \"linecolor\": \"white\", \"minorgridcolor\": \"white\", \"startlinecolor\": \"#2a3f5f\"}, \"type\": \"carpet\"}], \"choropleth\": [{\"colorbar\": {\"outlinewidth\": 0, \"ticks\": \"\"}, \"type\": \"choropleth\"}], \"contour\": [{\"colorbar\": {\"outlinewidth\": 0, \"ticks\": \"\"}, \"colorscale\": [[0.0, \"#0d0887\"], [0.1111111111111111, \"#46039f\"], [0.2222222222222222, \"#7201a8\"], [0.3333333333333333, \"#9c179e\"], [0.4444444444444444, \"#bd3786\"], [0.5555555555555556, \"#d8576b\"], [0.6666666666666666, \"#ed7953\"], [0.7777777777777778, \"#fb9f3a\"], [0.8888888888888888, \"#fdca26\"], [1.0, \"#f0f921\"]], \"type\": \"contour\"}], \"contourcarpet\": [{\"colorbar\": {\"outlinewidth\": 0, \"ticks\": \"\"}, \"type\": \"contourcarpet\"}], \"heatmap\": [{\"colorbar\": {\"outlinewidth\": 0, \"ticks\": \"\"}, \"colorscale\": [[0.0, \"#0d0887\"], [0.1111111111111111, \"#46039f\"], [0.2222222222222222, \"#7201a8\"], [0.3333333333333333, \"#9c179e\"], [0.4444444444444444, \"#bd3786\"], [0.5555555555555556, \"#d8576b\"], [0.6666666666666666, \"#ed7953\"], [0.7777777777777778, \"#fb9f3a\"], [0.8888888888888888, \"#fdca26\"], [1.0, \"#f0f921\"]], \"type\": \"heatmap\"}], \"heatmapgl\": [{\"colorbar\": {\"outlinewidth\": 0, \"ticks\": \"\"}, \"colorscale\": [[0.0, \"#0d0887\"], [0.1111111111111111, \"#46039f\"], [0.2222222222222222, \"#7201a8\"], [0.3333333333333333, \"#9c179e\"], [0.4444444444444444, \"#bd3786\"], [0.5555555555555556, \"#d8576b\"], [0.6666666666666666, \"#ed7953\"], [0.7777777777777778, \"#fb9f3a\"], [0.8888888888888888, \"#fdca26\"], [1.0, \"#f0f921\"]], \"type\": \"heatmapgl\"}], \"histogram\": [{\"marker\": {\"colorbar\": {\"outlinewidth\": 0, \"ticks\": \"\"}}, \"type\": \"histogram\"}], \"histogram2d\": [{\"colorbar\": {\"outlinewidth\": 0, \"ticks\": \"\"}, \"colorscale\": [[0.0, \"#0d0887\"], [0.1111111111111111, \"#46039f\"], [0.2222222222222222, \"#7201a8\"], [0.3333333333333333, \"#9c179e\"], [0.4444444444444444, \"#bd3786\"], [0.5555555555555556, \"#d8576b\"], [0.6666666666666666, \"#ed7953\"], [0.7777777777777778, \"#fb9f3a\"], [0.8888888888888888, \"#fdca26\"], [1.0, \"#f0f921\"]], \"type\": \"histogram2d\"}], \"histogram2dcontour\": [{\"colorbar\": {\"outlinewidth\": 0, \"ticks\": \"\"}, \"colorscale\": [[0.0, \"#0d0887\"], [0.1111111111111111, \"#46039f\"], [0.2222222222222222, \"#7201a8\"], [0.3333333333333333, \"#9c179e\"], [0.4444444444444444, \"#bd3786\"], [0.5555555555555556, \"#d8576b\"], [0.6666666666666666, \"#ed7953\"], [0.7777777777777778, \"#fb9f3a\"], [0.8888888888888888, \"#fdca26\"], [1.0, \"#f0f921\"]], \"type\": \"histogram2dcontour\"}], \"mesh3d\": [{\"colorbar\": {\"outlinewidth\": 0, \"ticks\": \"\"}, \"type\": \"mesh3d\"}], \"parcoords\": [{\"line\": {\"colorbar\": {\"outlinewidth\": 0, \"ticks\": \"\"}}, \"type\": \"parcoords\"}], \"pie\": [{\"automargin\": true, \"type\": \"pie\"}], \"scatter\": [{\"marker\": {\"colorbar\": {\"outlinewidth\": 0, \"ticks\": \"\"}}, \"type\": \"scatter\"}], \"scatter3d\": [{\"line\": {\"colorbar\": {\"outlinewidth\": 0, \"ticks\": \"\"}}, \"marker\": {\"colorbar\": {\"outlinewidth\": 0, \"ticks\": \"\"}}, \"type\": \"scatter3d\"}], \"scattercarpet\": [{\"marker\": {\"colorbar\": {\"outlinewidth\": 0, \"ticks\": \"\"}}, \"type\": \"scattercarpet\"}], \"scattergeo\": [{\"marker\": {\"colorbar\": {\"outlinewidth\": 0, \"ticks\": \"\"}}, \"type\": \"scattergeo\"}], \"scattergl\": [{\"marker\": {\"colorbar\": {\"outlinewidth\": 0, \"ticks\": \"\"}}, \"type\": \"scattergl\"}], \"scattermapbox\": [{\"marker\": {\"colorbar\": {\"outlinewidth\": 0, \"ticks\": \"\"}}, \"type\": \"scattermapbox\"}], \"scatterpolar\": [{\"marker\": {\"colorbar\": {\"outlinewidth\": 0, \"ticks\": \"\"}}, \"type\": \"scatterpolar\"}], \"scatterpolargl\": [{\"marker\": {\"colorbar\": {\"outlinewidth\": 0, \"ticks\": \"\"}}, \"type\": \"scatterpolargl\"}], \"scatterternary\": [{\"marker\": {\"colorbar\": {\"outlinewidth\": 0, \"ticks\": \"\"}}, \"type\": \"scatterternary\"}], \"surface\": [{\"colorbar\": {\"outlinewidth\": 0, \"ticks\": \"\"}, \"colorscale\": [[0.0, \"#0d0887\"], [0.1111111111111111, \"#46039f\"], [0.2222222222222222, \"#7201a8\"], [0.3333333333333333, \"#9c179e\"], [0.4444444444444444, \"#bd3786\"], [0.5555555555555556, \"#d8576b\"], [0.6666666666666666, \"#ed7953\"], [0.7777777777777778, \"#fb9f3a\"], [0.8888888888888888, \"#fdca26\"], [1.0, \"#f0f921\"]], \"type\": \"surface\"}], \"table\": [{\"cells\": {\"fill\": {\"color\": \"#EBF0F8\"}, \"line\": {\"color\": \"white\"}}, \"header\": {\"fill\": {\"color\": \"#C8D4E3\"}, \"line\": {\"color\": \"white\"}}, \"type\": \"table\"}]}, \"layout\": {\"annotationdefaults\": {\"arrowcolor\": \"#2a3f5f\", \"arrowhead\": 0, \"arrowwidth\": 1}, \"coloraxis\": {\"colorbar\": {\"outlinewidth\": 0, \"ticks\": \"\"}}, \"colorscale\": {\"diverging\": [[0, \"#8e0152\"], [0.1, \"#c51b7d\"], [0.2, \"#de77ae\"], [0.3, \"#f1b6da\"], [0.4, \"#fde0ef\"], [0.5, \"#f7f7f7\"], [0.6, \"#e6f5d0\"], [0.7, \"#b8e186\"], [0.8, \"#7fbc41\"], [0.9, \"#4d9221\"], [1, \"#276419\"]], \"sequential\": [[0.0, \"#0d0887\"], [0.1111111111111111, \"#46039f\"], [0.2222222222222222, \"#7201a8\"], [0.3333333333333333, \"#9c179e\"], [0.4444444444444444, \"#bd3786\"], [0.5555555555555556, \"#d8576b\"], [0.6666666666666666, \"#ed7953\"], [0.7777777777777778, \"#fb9f3a\"], [0.8888888888888888, \"#fdca26\"], [1.0, \"#f0f921\"]], \"sequentialminus\": [[0.0, \"#0d0887\"], [0.1111111111111111, \"#46039f\"], [0.2222222222222222, \"#7201a8\"], [0.3333333333333333, \"#9c179e\"], [0.4444444444444444, \"#bd3786\"], [0.5555555555555556, \"#d8576b\"], [0.6666666666666666, \"#ed7953\"], [0.7777777777777778, \"#fb9f3a\"], [0.8888888888888888, \"#fdca26\"], [1.0, \"#f0f921\"]]}, \"colorway\": [\"#636efa\", \"#EF553B\", \"#00cc96\", \"#ab63fa\", \"#FFA15A\", \"#19d3f3\", \"#FF6692\", \"#B6E880\", \"#FF97FF\", \"#FECB52\"], \"font\": {\"color\": \"#2a3f5f\"}, \"geo\": {\"bgcolor\": \"white\", \"lakecolor\": \"white\", \"landcolor\": \"#E5ECF6\", \"showlakes\": true, \"showland\": true, \"subunitcolor\": \"white\"}, \"hoverlabel\": {\"align\": \"left\"}, \"hovermode\": \"closest\", \"mapbox\": {\"style\": \"light\"}, \"paper_bgcolor\": \"white\", \"plot_bgcolor\": \"#E5ECF6\", \"polar\": {\"angularaxis\": {\"gridcolor\": \"white\", \"linecolor\": \"white\", \"ticks\": \"\"}, \"bgcolor\": \"#E5ECF6\", \"radialaxis\": {\"gridcolor\": \"white\", \"linecolor\": \"white\", \"ticks\": \"\"}}, \"scene\": {\"xaxis\": {\"backgroundcolor\": \"#E5ECF6\", \"gridcolor\": \"white\", \"gridwidth\": 2, \"linecolor\": \"white\", \"showbackground\": true, \"ticks\": \"\", \"zerolinecolor\": \"white\"}, \"yaxis\": {\"backgroundcolor\": \"#E5ECF6\", \"gridcolor\": \"white\", \"gridwidth\": 2, \"linecolor\": \"white\", \"showbackground\": true, \"ticks\": \"\", \"zerolinecolor\": \"white\"}, \"zaxis\": {\"backgroundcolor\": \"#E5ECF6\", \"gridcolor\": \"white\", \"gridwidth\": 2, \"linecolor\": \"white\", \"showbackground\": true, \"ticks\": \"\", \"zerolinecolor\": \"white\"}}, \"shapedefaults\": {\"line\": {\"color\": \"#2a3f5f\"}}, \"ternary\": {\"aaxis\": {\"gridcolor\": \"white\", \"linecolor\": \"white\", \"ticks\": \"\"}, \"baxis\": {\"gridcolor\": \"white\", \"linecolor\": \"white\", \"ticks\": \"\"}, \"bgcolor\": \"#E5ECF6\", \"caxis\": {\"gridcolor\": \"white\", \"linecolor\": \"white\", \"ticks\": \"\"}}, \"title\": {\"x\": 0.05}, \"xaxis\": {\"automargin\": true, \"gridcolor\": \"white\", \"linecolor\": \"white\", \"ticks\": \"\", \"title\": {\"standoff\": 15}, \"zerolinecolor\": \"white\", \"zerolinewidth\": 2}, \"yaxis\": {\"automargin\": true, \"gridcolor\": \"white\", \"linecolor\": \"white\", \"ticks\": \"\", \"title\": {\"standoff\": 15}, \"zerolinecolor\": \"white\", \"zerolinewidth\": 2}}}, \"title\": {\"text\": \"SVD - Learning Parameters Effect on Overall Performance (20 Latent Features)\", \"x\": 0.5, \"xanchor\": \"center\", \"y\": 0.9, \"yanchor\": \"top\"}, \"xaxis\": {\"title\": {\"font\": {\"family\": \"Arial\"}, \"text\": \"Parameters values\"}}, \"yaxis\": {\"title\": {\"text\": \"Metric score\"}}},\n",
              "                        {\"responsive\": true}\n",
              "                    ).then(function(){\n",
              "                            \n",
              "var gd = document.getElementById('5a4ebf6c-f27c-471b-bebf-c7b1e1d58437');\n",
              "var x = new MutationObserver(function (mutations, observer) {{\n",
              "        var display = window.getComputedStyle(gd).display;\n",
              "        if (!display || display === 'none') {{\n",
              "            console.log([gd, 'removed!']);\n",
              "            Plotly.purge(gd);\n",
              "            observer.disconnect();\n",
              "        }}\n",
              "}});\n",
              "\n",
              "// Listen for the removal of the full notebook cells\n",
              "var notebookContainer = gd.closest('#notebook-container');\n",
              "if (notebookContainer) {{\n",
              "    x.observe(notebookContainer, {childList: true});\n",
              "}}\n",
              "\n",
              "// Listen for the clearing of the current output cell\n",
              "var outputEl = gd.closest('.output');\n",
              "if (outputEl) {{\n",
              "    x.observe(outputEl, {childList: true});\n",
              "}}\n",
              "\n",
              "                        })\n",
              "                };\n",
              "                \n",
              "            </script>\n",
              "        </div>\n",
              "</body>\n",
              "</html>"
            ]
          },
          "metadata": {
            "tags": []
          }
        }
      ]
    },
    {
      "cell_type": "markdown",
      "metadata": {
        "id": "6_lTHqnCEfRk"
      },
      "source": [
        "As seen in the table and in the graph above, the optimal values for our examined learning rates are:\n",
        "\n",
        "\n",
        "*   Gamma =  0.005\n",
        "*   Lamda =  0.02\n",
        "\n",
        "Training the model using these parameters values resulted in the lowest metrics score (both RMSE and MAE) when evaluating it on the Test set. \n",
        "These values are similiar to the ones that are recommended in the course's book. When comparing the SVD performance in the next sections, we will train the model on these learning parameters, in order to represent it in the most efficient way. \n"
      ]
    },
    {
      "cell_type": "markdown",
      "metadata": {
        "id": "3z2_CzsjP-EO"
      },
      "source": [
        "## Part 4 - SVD++"
      ]
    },
    {
      "cell_type": "markdown",
      "metadata": {
        "id": "fSJRDXiQQHvI"
      },
      "source": [
        "### SVD++ Implementation"
      ]
    },
    {
      "cell_type": "markdown",
      "metadata": {
        "id": "sWT5TlSvTd28"
      },
      "source": [
        "The suggested article proposed two novel SVD variations, which attempted to improve the basic SVD model. \n",
        "\n",
        "We chose to examine the first one, which is SVD++."
      ]
    },
    {
      "cell_type": "markdown",
      "metadata": {
        "id": "_HpFbQgj8xpX"
      },
      "source": [
        "In order to implement this algoritm, we defined a new matrix, called \"Implicit items factors\". This matrix will contain the implicit factors for each item in the data set. The number of Implicit factors will be equal to this of the latent factors. We consider implicit factors as to whether a user rated an item atleast once. Whether a user rated item or not is an implict information regarding its preference. For that add two new data structures, in addition to the ones we had in the base SVD:\n",
        "\n",
        "\n",
        "*   Implicit items factors matrix, as explained above (may also be called Y matrix, in our case). \n",
        "*   Array which will contain the items that were rated by each user.\n",
        "\n",
        "As explained in part 1, we proccessed the data such that the id of each item and user represnts their correpsonding index in our dataset (In the aim of improving the runtime of the algorithms). \n",
        "Moreover, as explained in the SVD section, the first four data structures (the explicit factors matrices and the biases) will be adjusted here as well, as well as the two new additional data structures (implicit factors matrix and the rated items of each user). The adjustment will be based the gradient descent process, according to the given article and the course's book. We decided to reduce the learning parameter (gamma) by a factor of 0.9 after each parameter adjustment, and set it back to its original value when it was too small (lower than 0.004). We did that in order to prevent the learning steps to be too small, while also not cause any infinite values. \n",
        "\n"
      ]
    },
    {
      "cell_type": "code",
      "metadata": {
        "id": "ExThgrUQj9rX"
      },
      "source": [
        "def UserRatedItem():\n",
        "  all_users = list(range(0,R_matrix_shape[0]+1))\n",
        "  users_implicit = [[] for i in range(len(all_users))]\n",
        "  \n",
        "  # Iterate through training set\n",
        "  for index, row in train_data.iterrows():\n",
        "    user = row['user_id']\n",
        "    item = row['business_id']\n",
        "    users_implicit[user].append(item)\n",
        "\n",
        "  return users_implicit    "
      ],
      "execution_count": null,
      "outputs": []
    },
    {
      "cell_type": "code",
      "metadata": {
        "id": "T-Tk4dqopO8J"
      },
      "source": [
        "def PredictImprovedRating(mean_rating,b_i, b_u, p_u, q_i, implict_items_matrix, all_yj):\n",
        "  # calculate root square of number of items\n",
        "  root_num_items = 1 / len(all_yj)**(1/2)\n",
        "\n",
        "  # sum all yj\n",
        "  sum_yj = np.add.reduce(all_yj)\n",
        "\n",
        "  # implicit score\n",
        "  implicit_vector = [factor * root_num_items for factor in sum_yj]\n",
        "\n",
        "  # calculate final score\n",
        "  sograim = np.add.reduce([p_u, implicit_vector])\n",
        "  features_score = sum(np.multiply(q_i, sograim))\n",
        "  r_pred =  mean_rating + b_i + b_u + features_score\n",
        "  return r_pred "
      ],
      "execution_count": null,
      "outputs": []
    },
    {
      "cell_type": "code",
      "metadata": {
        "id": "Q_u3_PUUpPFT"
      },
      "source": [
        "def AdjustImprovedParameters(b_u, b_i, q_i, p_u, e, implict_items_matrix, rated_items, all_yj, gamma, lamda1, lamda2):\n",
        "  # update b_u\n",
        "  new_b_u = b_u + gamma*(e-lamda1*b_u)\n",
        "\n",
        "  # update b_i\n",
        "  new_b_i = b_i + gamma*(e-lamda1*b_i)\n",
        "\n",
        "  # calculate root square of number of items\n",
        "  root_num_items = 1 / len(rated_items)**(1/2)\n",
        "\n",
        "  # sum all yj\n",
        "  sum_yj = np.add.reduce(all_yj)\n",
        "\n",
        "  # implicit score\n",
        "  implicit_vector = [factor * root_num_items for factor in sum_yj]\n",
        "  sograim = np.add.reduce([p_u, implicit_vector])\n",
        "  \n",
        "  # update q_i\n",
        "  temp = np.subtract(e*sograim , lamda2*q_i)\n",
        "  new_q_i = q_i + gamma*temp\n",
        "\n",
        "  # update p_u\n",
        "  new_p_u = p_u + gamma*np.subtract(e*q_i,lamda2*p_u)\n",
        "\n",
        "  # update implicit items matrix - for each item of this user\n",
        "  for item in rated_items:\n",
        "    yj = implict_items_matrix[item]\n",
        "    sograim = np.subtract(e*root_num_items*q_i  ,lamda2*yj)\n",
        "    new_yj = yj + gamma*sograim\n",
        "    implict_items_matrix[item] = new_yj\n",
        "\n",
        "  return new_b_u, new_b_i, new_q_i, new_p_u, implict_items_matrix"
      ],
      "execution_count": null,
      "outputs": []
    },
    {
      "cell_type": "code",
      "metadata": {
        "id": "AyFv8LGXOn-r"
      },
      "source": [
        "# SVD++\n",
        "best_SVD_plus_val_RMSE = float('inf') # will be updated in the training phase\n",
        "\n",
        "def TrainImprovedModel(num_latent_features, gamma, lamda1, lamda2):\n",
        "  global best_SVD_plus_val_RMSE\n",
        "  # Mean rating (miu)\n",
        "  all_rating = list(train_data['stars'])\n",
        "  mean_rating = sum(all_rating) / len(all_rating)\n",
        "\n",
        "  # Initialize b_u for each user \n",
        "  users = list(range(0,R_matrix_shape[0]+1))\n",
        "  users.sort()\n",
        "  b_u = [0.5] * len(users)\n",
        "  users_b = dict(zip(users, b_u))\n",
        "\n",
        "  # Initialize b_i for each item \n",
        "  items = list(range(0,R_matrix_shape[1]+1))\n",
        "  items.sort()\n",
        "  b_i = [0.5] * len(items)\n",
        "  items_b = dict(zip(items, b_i))\n",
        "  \n",
        "  # Initialize p_u for each user  \n",
        "  p_u = np.array([[0.1]*num_latent_features] * len(users))\n",
        "  users_matrix = p_u.reshape(len(p_u), (num_latent_features))\n",
        "\n",
        "  # Initialize q_i for each item  \n",
        "  q_i = np.array([[0.1]*num_latent_features] * len(items))\n",
        "  items_matrix = q_i.reshape(len(q_i), (num_latent_features))\n",
        "\n",
        "  # Initialize impliact_factors matrix for each item  \n",
        "  y_j = np.array([[0.1]*num_latent_features] * len(items))\n",
        "  implict_items_matrix = y_j.reshape(len(y_j), (num_latent_features))\n",
        "\n",
        "  # Rated items for each user\n",
        "  users_implicit = UserRatedItem()\n",
        "\n",
        "  previous_RMSE = 100000\n",
        "  current_RMSE = 10000\n",
        "  epsilon = 0.01\n",
        "  num_iteration = 1\n",
        "  initial_gamma = gamma\n",
        "\n",
        "  # main loop\n",
        "  while current_RMSE < previous_RMSE and previous_RMSE - current_RMSE > epsilon:\n",
        "    gamma = initial_gamma\n",
        "    previous_RMSE = current_RMSE\n",
        "    # Iterate through training set\n",
        "    for index, row in train_data.iterrows():\n",
        "      user = row['user_id']\n",
        "      item = row['business_id']\n",
        "      r_real = row['stars']\n",
        "\n",
        "      # extract features of user and item\n",
        "      p_u = users_matrix[user]\n",
        "      q_i = items_matrix[item]\n",
        "\n",
        "      # extract b of user and item\n",
        "      b_u = users_b[user]\n",
        "      b_i = items_b[item]   \n",
        "\n",
        "      # extract rated items of user\n",
        "      rated_items = users_implicit[user]\n",
        "      \n",
        "      # get all yj of this user\n",
        "      all_yj = np.take(implict_items_matrix, rated_items, axis=0) \n",
        "\n",
        "      # predict rating\n",
        "      r_pred = PredictImprovedRating(mean_rating,b_i, b_u, p_u, q_i, implict_items_matrix, all_yj)\n",
        "      \n",
        "      # calculate error\n",
        "      e = r_real - r_pred\n",
        "      \n",
        "      # Adjust and update parameters\n",
        "      b_u, b_i, q_i, p_u, implict_items_matrix = AdjustImprovedParameters(b_u, b_i, q_i, p_u, e, implict_items_matrix, rated_items, all_yj,gamma, lamda1, lamda2)\n",
        "      users_matrix[user] = p_u\n",
        "      items_matrix[item] = q_i\n",
        "      users_b[user] = b_u \n",
        "      items_b[item] = b_i \n",
        "\n",
        "      gamma = gamma*0.9\n",
        "      if gamma < 0.004:\n",
        "        gamma = initial_gamma\n",
        "\n",
        "    # iterate through validation set\n",
        "    all_r_pred = []\n",
        "    all_r_real = []\n",
        "    for index, row in val_data.iterrows():\n",
        "      user = row['user_id']\n",
        "      item = row['business_id']\n",
        "      r_real = row['stars']\n",
        "\n",
        "      # extract features of user and item\n",
        "      p_u = users_matrix[user]\n",
        "      q_i = items_matrix[item]\n",
        "\n",
        "      # extract b of user and item\n",
        "      b_u = users_b[user]\n",
        "      b_i = items_b[item]   \n",
        "\n",
        "      # extract rated items of user\n",
        "      rated_items = users_implicit[user]\n",
        "\n",
        "      # get all yj of this user\n",
        "      all_yj = np.take(implict_items_matrix, rated_items, axis=0) \n",
        "\n",
        "      # predict rating\n",
        "      r_pred = PredictImprovedRating(mean_rating,b_i, b_u, p_u, q_i, implict_items_matrix, all_yj)\n",
        "\n",
        "      # calculate RMSE\n",
        "      all_r_pred.append(r_pred)\n",
        "      all_r_real.append(r_real)\n",
        "\n",
        "    current_RMSE = calculate_RMSE(all_r_real, all_r_pred) \n",
        "    best_SVD_plus_val_RMSE = current_RMSE\n",
        "    current_MAE = calculate_MAE(all_r_real,all_r_pred)\n",
        "    print('Iteration number:', num_iteration, '.Validation RMSE is:', current_RMSE, '.Validation MAE is:', current_MAE)    \n",
        "    num_iteration +=1\n",
        "\n",
        "  return [users_matrix, items_matrix, users_b, items_b, implict_items_matrix]"
      ],
      "execution_count": null,
      "outputs": []
    },
    {
      "cell_type": "code",
      "metadata": {
        "colab": {
          "base_uri": "https://localhost:8080/"
        },
        "id": "EIbS1VEr16Tl",
        "outputId": "b24446b1-a58f-4125-d8c1-161f02d82adc"
      },
      "source": [
        "# train the model  \n",
        "num_factors = 20\n",
        "gamma = 0.007\n",
        "lamda1 = 0.005\n",
        "lamda2 = 0.015\n",
        "\n",
        "SVD_PlusPlus_Model = TrainImprovedModel(num_factors, gamma, lamda1, lamda2)"
      ],
      "execution_count": null,
      "outputs": [
        {
          "output_type": "stream",
          "text": [
            "Iteration number: 1 .Validation RMSE is: 1.500189834334795 .Validation MAE is: 1.0585630455636506\n",
            "Iteration number: 2 .Validation RMSE is: 1.4099019486355768 .Validation MAE is: 1.010205796967372\n",
            "Iteration number: 3 .Validation RMSE is: 1.3635280854931526 .Validation MAE is: 0.9893866926661565\n",
            "Iteration number: 4 .Validation RMSE is: 1.3334106883522465 .Validation MAE is: 0.9767298427831231\n",
            "Iteration number: 5 .Validation RMSE is: 1.3117433805873195 .Validation MAE is: 0.9678350909872888\n",
            "Iteration number: 6 .Validation RMSE is: 1.2952268645400646 .Validation MAE is: 0.9610885400323362\n",
            "Iteration number: 7 .Validation RMSE is: 1.2821609889178935 .Validation MAE is: 0.9557403212327642\n",
            "Iteration number: 8 .Validation RMSE is: 1.271556855501739 .Validation MAE is: 0.951368150138661\n",
            "Iteration number: 9 .Validation RMSE is: 1.2627898948811198 .Validation MAE is: 0.9477569820002952\n",
            "Iteration number: 10 .Validation RMSE is: 1.2554413682363401 .Validation MAE is: 0.9447217348278657\n",
            "Iteration number: 11 .Validation RMSE is: 1.2492175318644576 .Validation MAE is: 0.9421454127500617\n",
            "Iteration number: 12 .Validation RMSE is: 1.2439048738878704 .Validation MAE is: 0.9399381434635854\n",
            "Iteration number: 13 .Validation RMSE is: 1.2393436872232937 .Validation MAE is: 0.9380444890650915\n"
          ],
          "name": "stdout"
        }
      ]
    },
    {
      "cell_type": "markdown",
      "metadata": {
        "id": "s_ymu5zZSbMw"
      },
      "source": [
        "###Evalute SVD++ Using Test Data"
      ]
    },
    {
      "cell_type": "code",
      "metadata": {
        "id": "q4oxNT7BSbca"
      },
      "source": [
        "def ImprovedSVDGetPredictions(SVD_PlusPlus_Model, dataset):\n",
        "  users_matrix, items_matrix, users_b, items_b, implict_items_matrix = SVD_PlusPlus_Model[0], SVD_PlusPlus_Model[1], SVD_PlusPlus_Model[2], SVD_PlusPlus_Model[3], SVD_PlusPlus_Model[4]\n",
        "\n",
        "  all_rating = list(train_data['stars'])\n",
        "  mean_rating = sum(all_rating) / len(all_rating)\n",
        "  all_r_pred = []\n",
        "  all_r_real = []\n",
        "\n",
        "  # Rated items for each user\n",
        "  users_implicit = UserRatedItem()\n",
        "\n",
        "  for index, row in dataset.iterrows():\n",
        "      user = row['user_id']\n",
        "      item = row['business_id']\n",
        "      r_real = row['stars']\n",
        "\n",
        "      # extract features of user and item\n",
        "      p_u = users_matrix[user]\n",
        "      q_i = items_matrix[item]\n",
        "\n",
        "      # extract b of user and item\n",
        "      b_u = users_b[user]\n",
        "      b_i = items_b[item]\n",
        "\n",
        "      # extract rated items of user\n",
        "      rated_items = users_implicit[user]\n",
        "\n",
        "      # get all yj of this user\n",
        "      all_yj = np.take(implict_items_matrix, rated_items, axis=0)\n",
        "\n",
        "      # predict rating\n",
        "      r_pred = PredictImprovedRating(mean_rating,b_i, b_u, p_u, q_i, implict_items_matrix, all_yj)\n",
        "\n",
        "      # calculate RMSE\n",
        "      all_r_pred.append(r_pred)\n",
        "      all_r_real.append(r_real)\n",
        "  return all_r_pred\n",
        "\n",
        "def ImprovedSVDTestPrediction(SVD_PlusPlus_Model):\n",
        "  users_matrix, items_matrix, users_b, items_b, implict_items_matrix = SVD_PlusPlus_Model[0], SVD_PlusPlus_Model[1], SVD_PlusPlus_Model[2], SVD_PlusPlus_Model[3], SVD_PlusPlus_Model[4]\n",
        "                                                                                 \n",
        "  all_rating = list(train_data['stars']) \n",
        "  mean_rating = sum(all_rating) / len(all_rating)\n",
        "  all_r_pred = []\n",
        "  all_r_real = []\n",
        "\n",
        "  # Rated items for each user\n",
        "  users_implicit = UserRatedItem()\n",
        "  \n",
        "  for index, row in test_data.iterrows():\n",
        "      user = row['user_id']\n",
        "      item = row['business_id']\n",
        "      r_real = row['stars']\n",
        "\n",
        "      # extract features of user and item\n",
        "      p_u = users_matrix[user]\n",
        "      q_i = items_matrix[item]\n",
        "\n",
        "      # extract b of user and item\n",
        "      b_u = users_b[user]\n",
        "      b_i = items_b[item]   \n",
        "\n",
        "      # extract rated items of user\n",
        "      rated_items = users_implicit[user]\n",
        "\n",
        "      # get all yj of this user\n",
        "      all_yj = np.take(implict_items_matrix, rated_items, axis=0) \n",
        "\n",
        "      # predict rating\n",
        "      r_pred = PredictImprovedRating(mean_rating,b_i, b_u, p_u, q_i, implict_items_matrix, all_yj)\n",
        "\n",
        "      # calculate RMSE\n",
        "      all_r_pred.append(r_pred)\n",
        "      all_r_real.append(r_real)\n",
        "\n",
        "  RMSE = calculate_RMSE(all_r_real, all_r_pred)\n",
        "  MAE = calculate_MAE(all_r_real,all_r_pred)\n",
        "  print('The RMSE of SVD++ for', num_factors, 'latent features is:',RMSE)\n",
        "  print('The MAE of SVD++ for', num_factors, 'latent features is:',MAE)\n",
        "\n",
        "  return RMSE, MAE\n"
      ],
      "execution_count": null,
      "outputs": []
    },
    {
      "cell_type": "code",
      "metadata": {
        "colab": {
          "base_uri": "https://localhost:8080/"
        },
        "id": "53E1kX_cD-R2",
        "outputId": "fc50f89a-8eef-4140-b967-e7cadd0de6d3"
      },
      "source": [
        "RMSE, MAE = ImprovedSVDTestPrediction(SVD_PlusPlus_Model)"
      ],
      "execution_count": null,
      "outputs": [
        {
          "output_type": "stream",
          "text": [
            "The RMSE of SVD++ for 20 latent features is: 1.2423875387287435\n",
            "The MAE of SVD++ for 20 latent features is: 0.9408145196120326\n"
          ],
          "name": "stdout"
        }
      ]
    },
    {
      "cell_type": "markdown",
      "metadata": {
        "id": "Fq7QJgivQT2i"
      },
      "source": [
        "### Models Comparison"
      ]
    },
    {
      "cell_type": "markdown",
      "metadata": {
        "id": "XWvzPEaHMMYb"
      },
      "source": [
        "We will compare the performance of the improved model (SVD++) and the basic SVD. As seen in the proposed article, SVD++ managed to get a slightly better RMSE score, than the basic model (SVD). We would like to examine whether this occurs here as well and to examine whether our implicit data can help improve the metrics values. Each trained model will be evaluated on the same test set. It is important to note that the train data that each model was trained on is the same for each model. \n",
        "\n",
        "It is importnat to note that these two models were trained using 20 latent features (explicit ones for the SVD and explicit, implicit for SVD++). In part 8 we will make a through comparison between all of our examined models, using different latent features vector sizes. "
      ]
    },
    {
      "cell_type": "code",
      "metadata": {
        "colab": {
          "base_uri": "https://localhost:8080/"
        },
        "id": "t3B6hbpRQj52",
        "outputId": "229a289a-fa86-49de-9371-e6bf66280604"
      },
      "source": [
        "# Comparison graph\n",
        "comparison_df = pd.DataFrame()\n",
        "models  = ['SVD', 'SVD++']\n",
        "all_RMSE = []\n",
        "all_MAE = []\n",
        "\n",
        "# SVD\n",
        "RMSE, MAE = SVDTestPrediction(SVD_model)\n",
        "all_RMSE.append(RMSE)\n",
        "all_MAE.append(MAE)\n",
        "\n",
        "print('---------------------------------------------------------------------------')\n",
        "\n",
        "# SVD ++\n",
        "RMSE, MAE = ImprovedSVDTestPrediction(SVD_PlusPlus_Model)\n",
        "all_RMSE.append(RMSE)\n",
        "all_MAE.append(MAE)\n"
      ],
      "execution_count": null,
      "outputs": [
        {
          "output_type": "stream",
          "text": [
            "The RMSE of SVD for 20 latent features is: 1.2744671910783822\n",
            "The MAE of SVD for 20 latent features is: 0.9539485657540977\n",
            "---------------------------------------------------------------------------\n",
            "The RMSE of SVD++ for 20 latent features is: 1.2423875387287435\n",
            "The MAE of SVD++ for 20 latent features is: 0.9408145196120326\n"
          ],
          "name": "stdout"
        }
      ]
    },
    {
      "cell_type": "code",
      "metadata": {
        "colab": {
          "base_uri": "https://localhost:8080/",
          "height": 105
        },
        "id": "tYAr8RuX1HA3",
        "outputId": "d948efe1-7a37-42aa-f16d-7b6d04729f40"
      },
      "source": [
        "# comparison table\n",
        "comparison_df['model'] = models\n",
        "comparison_df['RMSE'] = all_RMSE\n",
        "comparison_df['MAE'] = all_MAE\n",
        "comparison_df"
      ],
      "execution_count": null,
      "outputs": [
        {
          "output_type": "execute_result",
          "data": {
            "text/html": [
              "<div>\n",
              "<style scoped>\n",
              "    .dataframe tbody tr th:only-of-type {\n",
              "        vertical-align: middle;\n",
              "    }\n",
              "\n",
              "    .dataframe tbody tr th {\n",
              "        vertical-align: top;\n",
              "    }\n",
              "\n",
              "    .dataframe thead th {\n",
              "        text-align: right;\n",
              "    }\n",
              "</style>\n",
              "<table border=\"1\" class=\"dataframe\">\n",
              "  <thead>\n",
              "    <tr style=\"text-align: right;\">\n",
              "      <th></th>\n",
              "      <th>model</th>\n",
              "      <th>RMSE</th>\n",
              "      <th>MAE</th>\n",
              "    </tr>\n",
              "  </thead>\n",
              "  <tbody>\n",
              "    <tr>\n",
              "      <th>0</th>\n",
              "      <td>SVD</td>\n",
              "      <td>1.274</td>\n",
              "      <td>0.953</td>\n",
              "    </tr>\n",
              "    <tr>\n",
              "      <th>1</th>\n",
              "      <td>SVD++</td>\n",
              "      <td>1.242</td>\n",
              "      <td>0.940</td>\n",
              "    </tr>\n",
              "  </tbody>\n",
              "</table>\n",
              "</div>"
            ],
            "text/plain": [
              "   model   RMSE    MAE\n",
              "0    SVD  1.274  0.953\n",
              "1  SVD++  1.242  0.940"
            ]
          },
          "metadata": {
            "tags": []
          },
          "execution_count": 47
        }
      ]
    },
    {
      "cell_type": "code",
      "metadata": {
        "colab": {
          "base_uri": "https://localhost:8080/",
          "height": 542
        },
        "id": "lDUKXNI-0AcO",
        "outputId": "313b2bb7-67f8-4cfa-a64f-a90b87a852b8"
      },
      "source": [
        "fig = go.Figure(data=[\n",
        "    go.Bar(name='RMSE', x=comparison_df['model'], y=comparison_df['RMSE']),\n",
        "    go.Bar(name='MAE', x=comparison_df['model'], y=comparison_df['MAE'])\n",
        "])\n",
        "# Change the bar mode\n",
        "fig.update_layout(barmode='group',  title={'text': \"SVD and SVD++ Performance Comparison (20 Latent Features)\",\n",
        "        'y':0.9,\n",
        "        'x':0.5,\n",
        "        'xanchor': 'center',\n",
        "        'yanchor': 'top'}, xaxis_title=\"Model\", yaxis_title=\"Metric score\")\n",
        "fig.update_xaxes(title_font_family=\"Arial\")\n",
        "\n",
        "\n",
        "fig.show()"
      ],
      "execution_count": null,
      "outputs": [
        {
          "output_type": "display_data",
          "data": {
            "text/html": [
              "<html>\n",
              "<head><meta charset=\"utf-8\" /></head>\n",
              "<body>\n",
              "    <div>\n",
              "            <script src=\"https://cdnjs.cloudflare.com/ajax/libs/mathjax/2.7.5/MathJax.js?config=TeX-AMS-MML_SVG\"></script><script type=\"text/javascript\">if (window.MathJax) {MathJax.Hub.Config({SVG: {font: \"STIX-Web\"}});}</script>\n",
              "                <script type=\"text/javascript\">window.PlotlyConfig = {MathJaxConfig: 'local'};</script>\n",
              "        <script src=\"https://cdn.plot.ly/plotly-latest.min.js\"></script>    \n",
              "            <div id=\"5565140f-a412-46a5-a37b-929caf3deaf4\" class=\"plotly-graph-div\" style=\"height:525px; width:100%;\"></div>\n",
              "            <script type=\"text/javascript\">\n",
              "                \n",
              "                    window.PLOTLYENV=window.PLOTLYENV || {};\n",
              "                    \n",
              "                if (document.getElementById(\"5565140f-a412-46a5-a37b-929caf3deaf4\")) {\n",
              "                    Plotly.newPlot(\n",
              "                        '5565140f-a412-46a5-a37b-929caf3deaf4',\n",
              "                        [{\"name\": \"RMSE\", \"type\": \"bar\", \"x\": [\"SVD\", \"SVD++\"], \"y\": [1.274, 1.242]}, {\"name\": \"MAE\", \"type\": \"bar\", \"x\": [\"SVD\", \"SVD++\"], \"y\": [0.953, 0.94]}],\n",
              "                        {\"barmode\": \"group\", \"template\": {\"data\": {\"bar\": [{\"error_x\": {\"color\": \"#2a3f5f\"}, \"error_y\": {\"color\": \"#2a3f5f\"}, \"marker\": {\"line\": {\"color\": \"#E5ECF6\", \"width\": 0.5}}, \"type\": \"bar\"}], \"barpolar\": [{\"marker\": {\"line\": {\"color\": \"#E5ECF6\", \"width\": 0.5}}, \"type\": \"barpolar\"}], \"carpet\": [{\"aaxis\": {\"endlinecolor\": \"#2a3f5f\", \"gridcolor\": \"white\", \"linecolor\": \"white\", \"minorgridcolor\": \"white\", \"startlinecolor\": \"#2a3f5f\"}, \"baxis\": {\"endlinecolor\": \"#2a3f5f\", \"gridcolor\": \"white\", \"linecolor\": \"white\", \"minorgridcolor\": \"white\", \"startlinecolor\": \"#2a3f5f\"}, \"type\": \"carpet\"}], \"choropleth\": [{\"colorbar\": {\"outlinewidth\": 0, \"ticks\": \"\"}, \"type\": \"choropleth\"}], \"contour\": [{\"colorbar\": {\"outlinewidth\": 0, \"ticks\": \"\"}, \"colorscale\": [[0.0, \"#0d0887\"], [0.1111111111111111, \"#46039f\"], [0.2222222222222222, \"#7201a8\"], [0.3333333333333333, \"#9c179e\"], [0.4444444444444444, \"#bd3786\"], [0.5555555555555556, \"#d8576b\"], [0.6666666666666666, \"#ed7953\"], [0.7777777777777778, \"#fb9f3a\"], [0.8888888888888888, \"#fdca26\"], [1.0, \"#f0f921\"]], \"type\": \"contour\"}], \"contourcarpet\": [{\"colorbar\": {\"outlinewidth\": 0, \"ticks\": \"\"}, \"type\": \"contourcarpet\"}], \"heatmap\": [{\"colorbar\": {\"outlinewidth\": 0, \"ticks\": \"\"}, \"colorscale\": [[0.0, \"#0d0887\"], [0.1111111111111111, \"#46039f\"], [0.2222222222222222, \"#7201a8\"], [0.3333333333333333, \"#9c179e\"], [0.4444444444444444, \"#bd3786\"], [0.5555555555555556, \"#d8576b\"], [0.6666666666666666, \"#ed7953\"], [0.7777777777777778, \"#fb9f3a\"], [0.8888888888888888, \"#fdca26\"], [1.0, \"#f0f921\"]], \"type\": \"heatmap\"}], \"heatmapgl\": [{\"colorbar\": {\"outlinewidth\": 0, \"ticks\": \"\"}, \"colorscale\": [[0.0, \"#0d0887\"], [0.1111111111111111, \"#46039f\"], [0.2222222222222222, \"#7201a8\"], [0.3333333333333333, \"#9c179e\"], [0.4444444444444444, \"#bd3786\"], [0.5555555555555556, \"#d8576b\"], [0.6666666666666666, \"#ed7953\"], [0.7777777777777778, \"#fb9f3a\"], [0.8888888888888888, \"#fdca26\"], [1.0, \"#f0f921\"]], \"type\": \"heatmapgl\"}], \"histogram\": [{\"marker\": {\"colorbar\": {\"outlinewidth\": 0, \"ticks\": \"\"}}, \"type\": \"histogram\"}], \"histogram2d\": [{\"colorbar\": {\"outlinewidth\": 0, \"ticks\": \"\"}, \"colorscale\": [[0.0, \"#0d0887\"], [0.1111111111111111, \"#46039f\"], [0.2222222222222222, \"#7201a8\"], [0.3333333333333333, \"#9c179e\"], [0.4444444444444444, \"#bd3786\"], [0.5555555555555556, \"#d8576b\"], [0.6666666666666666, \"#ed7953\"], [0.7777777777777778, \"#fb9f3a\"], [0.8888888888888888, \"#fdca26\"], [1.0, \"#f0f921\"]], \"type\": \"histogram2d\"}], \"histogram2dcontour\": [{\"colorbar\": {\"outlinewidth\": 0, \"ticks\": \"\"}, \"colorscale\": [[0.0, \"#0d0887\"], [0.1111111111111111, \"#46039f\"], [0.2222222222222222, \"#7201a8\"], [0.3333333333333333, \"#9c179e\"], [0.4444444444444444, \"#bd3786\"], [0.5555555555555556, \"#d8576b\"], [0.6666666666666666, \"#ed7953\"], [0.7777777777777778, \"#fb9f3a\"], [0.8888888888888888, \"#fdca26\"], [1.0, \"#f0f921\"]], \"type\": \"histogram2dcontour\"}], \"mesh3d\": [{\"colorbar\": {\"outlinewidth\": 0, \"ticks\": \"\"}, \"type\": \"mesh3d\"}], \"parcoords\": [{\"line\": {\"colorbar\": {\"outlinewidth\": 0, \"ticks\": \"\"}}, \"type\": \"parcoords\"}], \"pie\": [{\"automargin\": true, \"type\": \"pie\"}], \"scatter\": [{\"marker\": {\"colorbar\": {\"outlinewidth\": 0, \"ticks\": \"\"}}, \"type\": \"scatter\"}], \"scatter3d\": [{\"line\": {\"colorbar\": {\"outlinewidth\": 0, \"ticks\": \"\"}}, \"marker\": {\"colorbar\": {\"outlinewidth\": 0, \"ticks\": \"\"}}, \"type\": \"scatter3d\"}], \"scattercarpet\": [{\"marker\": {\"colorbar\": {\"outlinewidth\": 0, \"ticks\": \"\"}}, \"type\": \"scattercarpet\"}], \"scattergeo\": [{\"marker\": {\"colorbar\": {\"outlinewidth\": 0, \"ticks\": \"\"}}, \"type\": \"scattergeo\"}], \"scattergl\": [{\"marker\": {\"colorbar\": {\"outlinewidth\": 0, \"ticks\": \"\"}}, \"type\": \"scattergl\"}], \"scattermapbox\": [{\"marker\": {\"colorbar\": {\"outlinewidth\": 0, \"ticks\": \"\"}}, \"type\": \"scattermapbox\"}], \"scatterpolar\": [{\"marker\": {\"colorbar\": {\"outlinewidth\": 0, \"ticks\": \"\"}}, \"type\": \"scatterpolar\"}], \"scatterpolargl\": [{\"marker\": {\"colorbar\": {\"outlinewidth\": 0, \"ticks\": \"\"}}, \"type\": \"scatterpolargl\"}], \"scatterternary\": [{\"marker\": {\"colorbar\": {\"outlinewidth\": 0, \"ticks\": \"\"}}, \"type\": \"scatterternary\"}], \"surface\": [{\"colorbar\": {\"outlinewidth\": 0, \"ticks\": \"\"}, \"colorscale\": [[0.0, \"#0d0887\"], [0.1111111111111111, \"#46039f\"], [0.2222222222222222, \"#7201a8\"], [0.3333333333333333, \"#9c179e\"], [0.4444444444444444, \"#bd3786\"], [0.5555555555555556, \"#d8576b\"], [0.6666666666666666, \"#ed7953\"], [0.7777777777777778, \"#fb9f3a\"], [0.8888888888888888, \"#fdca26\"], [1.0, \"#f0f921\"]], \"type\": \"surface\"}], \"table\": [{\"cells\": {\"fill\": {\"color\": \"#EBF0F8\"}, \"line\": {\"color\": \"white\"}}, \"header\": {\"fill\": {\"color\": \"#C8D4E3\"}, \"line\": {\"color\": \"white\"}}, \"type\": \"table\"}]}, \"layout\": {\"annotationdefaults\": {\"arrowcolor\": \"#2a3f5f\", \"arrowhead\": 0, \"arrowwidth\": 1}, \"coloraxis\": {\"colorbar\": {\"outlinewidth\": 0, \"ticks\": \"\"}}, \"colorscale\": {\"diverging\": [[0, \"#8e0152\"], [0.1, \"#c51b7d\"], [0.2, \"#de77ae\"], [0.3, \"#f1b6da\"], [0.4, \"#fde0ef\"], [0.5, \"#f7f7f7\"], [0.6, \"#e6f5d0\"], [0.7, \"#b8e186\"], [0.8, \"#7fbc41\"], [0.9, \"#4d9221\"], [1, \"#276419\"]], \"sequential\": [[0.0, \"#0d0887\"], [0.1111111111111111, \"#46039f\"], [0.2222222222222222, \"#7201a8\"], [0.3333333333333333, \"#9c179e\"], [0.4444444444444444, \"#bd3786\"], [0.5555555555555556, \"#d8576b\"], [0.6666666666666666, \"#ed7953\"], [0.7777777777777778, \"#fb9f3a\"], [0.8888888888888888, \"#fdca26\"], [1.0, \"#f0f921\"]], \"sequentialminus\": [[0.0, \"#0d0887\"], [0.1111111111111111, \"#46039f\"], [0.2222222222222222, \"#7201a8\"], [0.3333333333333333, \"#9c179e\"], [0.4444444444444444, \"#bd3786\"], [0.5555555555555556, \"#d8576b\"], [0.6666666666666666, \"#ed7953\"], [0.7777777777777778, \"#fb9f3a\"], [0.8888888888888888, \"#fdca26\"], [1.0, \"#f0f921\"]]}, \"colorway\": [\"#636efa\", \"#EF553B\", \"#00cc96\", \"#ab63fa\", \"#FFA15A\", \"#19d3f3\", \"#FF6692\", \"#B6E880\", \"#FF97FF\", \"#FECB52\"], \"font\": {\"color\": \"#2a3f5f\"}, \"geo\": {\"bgcolor\": \"white\", \"lakecolor\": \"white\", \"landcolor\": \"#E5ECF6\", \"showlakes\": true, \"showland\": true, \"subunitcolor\": \"white\"}, \"hoverlabel\": {\"align\": \"left\"}, \"hovermode\": \"closest\", \"mapbox\": {\"style\": \"light\"}, \"paper_bgcolor\": \"white\", \"plot_bgcolor\": \"#E5ECF6\", \"polar\": {\"angularaxis\": {\"gridcolor\": \"white\", \"linecolor\": \"white\", \"ticks\": \"\"}, \"bgcolor\": \"#E5ECF6\", \"radialaxis\": {\"gridcolor\": \"white\", \"linecolor\": \"white\", \"ticks\": \"\"}}, \"scene\": {\"xaxis\": {\"backgroundcolor\": \"#E5ECF6\", \"gridcolor\": \"white\", \"gridwidth\": 2, \"linecolor\": \"white\", \"showbackground\": true, \"ticks\": \"\", \"zerolinecolor\": \"white\"}, \"yaxis\": {\"backgroundcolor\": \"#E5ECF6\", \"gridcolor\": \"white\", \"gridwidth\": 2, \"linecolor\": \"white\", \"showbackground\": true, \"ticks\": \"\", \"zerolinecolor\": \"white\"}, \"zaxis\": {\"backgroundcolor\": \"#E5ECF6\", \"gridcolor\": \"white\", \"gridwidth\": 2, \"linecolor\": \"white\", \"showbackground\": true, \"ticks\": \"\", \"zerolinecolor\": \"white\"}}, \"shapedefaults\": {\"line\": {\"color\": \"#2a3f5f\"}}, \"ternary\": {\"aaxis\": {\"gridcolor\": \"white\", \"linecolor\": \"white\", \"ticks\": \"\"}, \"baxis\": {\"gridcolor\": \"white\", \"linecolor\": \"white\", \"ticks\": \"\"}, \"bgcolor\": \"#E5ECF6\", \"caxis\": {\"gridcolor\": \"white\", \"linecolor\": \"white\", \"ticks\": \"\"}}, \"title\": {\"x\": 0.05}, \"xaxis\": {\"automargin\": true, \"gridcolor\": \"white\", \"linecolor\": \"white\", \"ticks\": \"\", \"title\": {\"standoff\": 15}, \"zerolinecolor\": \"white\", \"zerolinewidth\": 2}, \"yaxis\": {\"automargin\": true, \"gridcolor\": \"white\", \"linecolor\": \"white\", \"ticks\": \"\", \"title\": {\"standoff\": 15}, \"zerolinecolor\": \"white\", \"zerolinewidth\": 2}}}, \"title\": {\"text\": \"SVD and SVD++ Performance Comparison (20 Latent Features)\", \"x\": 0.5, \"xanchor\": \"center\", \"y\": 0.9, \"yanchor\": \"top\"}, \"xaxis\": {\"title\": {\"font\": {\"family\": \"Arial\"}, \"text\": \"Model\"}}, \"yaxis\": {\"title\": {\"text\": \"Metric score\"}}},\n",
              "                        {\"responsive\": true}\n",
              "                    ).then(function(){\n",
              "                            \n",
              "var gd = document.getElementById('5565140f-a412-46a5-a37b-929caf3deaf4');\n",
              "var x = new MutationObserver(function (mutations, observer) {{\n",
              "        var display = window.getComputedStyle(gd).display;\n",
              "        if (!display || display === 'none') {{\n",
              "            console.log([gd, 'removed!']);\n",
              "            Plotly.purge(gd);\n",
              "            observer.disconnect();\n",
              "        }}\n",
              "}});\n",
              "\n",
              "// Listen for the removal of the full notebook cells\n",
              "var notebookContainer = gd.closest('#notebook-container');\n",
              "if (notebookContainer) {{\n",
              "    x.observe(notebookContainer, {childList: true});\n",
              "}}\n",
              "\n",
              "// Listen for the clearing of the current output cell\n",
              "var outputEl = gd.closest('.output');\n",
              "if (outputEl) {{\n",
              "    x.observe(outputEl, {childList: true});\n",
              "}}\n",
              "\n",
              "                        })\n",
              "                };\n",
              "                \n",
              "            </script>\n",
              "        </div>\n",
              "</body>\n",
              "</html>"
            ]
          },
          "metadata": {
            "tags": []
          }
        }
      ]
    },
    {
      "cell_type": "markdown",
      "metadata": {
        "id": "5X2bYzVGCx-X"
      },
      "source": [
        "Viewing the results, we can see that SVD++ achieved slightly better RMSE and MAE, compared to SVD. It is important to note, however, that it also needed more training iterations to converge and each iteration is longer. Our recommendation is to use more implicit data and thus add another matrix to the model (similiar to our Y matrix).  This can be done by using more Yelp reviews' related data, taken from other sources. We belive that using more implicit data may result in an even better SVD++ model. "
      ]
    },
    {
      "cell_type": "markdown",
      "metadata": {
        "id": "W5FBrCsZQj_V"
      },
      "source": [
        "## Part 5 - Content Model"
      ]
    },
    {
      "cell_type": "markdown",
      "metadata": {
        "id": "ppiZ1sWlQ1lq"
      },
      "source": [
        "### Data cleaning and Feature Selection"
      ]
    },
    {
      "cell_type": "markdown",
      "metadata": {
        "id": "nOj4RPBk6_SK"
      },
      "source": [
        "We selected features that seemed useful and relevant for predicting a user rating for a given item:\n",
        "\n",
        "\n",
        "\n",
        "1.   User features, as following - review count (numeric), number of fans (numeric), average star rating (numeric).\n",
        "2.   Business features, as follwing - review count(numeric), average star rating (numeric), if the business is open (binary), city (categorical), state (categorical), categories (textual).\n",
        "\n",
        "for the 'categories' text feature, we used tf-idf on the terms used in the categories, using sklearn's TfidfVectorizer, which also cleans it. Moreover, we will perform label encoding for the city and state features.\n",
        "\n",
        "Duplicate entries for the same business ID are droped, keeping the first one encountered."
      ]
    },
    {
      "cell_type": "code",
      "metadata": {
        "colab": {
          "base_uri": "https://localhost:8080/"
        },
        "id": "UEiIWEM17HlN",
        "outputId": "8cdcd540-7744-4232-b8d2-63f693a1dcfb"
      },
      "source": [
        "user_features_useful = user_features[['user_id', 'review_count', 'fans', 'average_stars']]\n",
        "user_features_useful.columns = ['user_id', 'review_count', 'fans', 'average_stars']\n",
        "business_features_useful = business_features[['business_id', 'review_count', 'stars', 'is_open', 'city', 'state', 'categories']]\n",
        "business_features_useful.columns = ['business_id', 'business_review_count', 'business_avg_stars', 'is_open', 'city', 'state', 'categories']\n",
        "\n",
        "for feature in ['city', 'state']:\n",
        "    business_features_useful[feature] = LabelEncoder().fit_transform(business_features_useful[feature].astype(str))\n",
        "\n",
        "# tf-idf on categories\n",
        "tfid_vectorizer = TfidfVectorizer(strip_accents='ascii', stop_words='english', min_df=100, max_df=0.6, max_features=100)\n",
        "business_features_useful = pd.concat([business_features_useful, pd.DataFrame(tfid_vectorizer.fit_transform(business_features_useful['categories']).toarray())], axis=1)\n",
        "business_features_useful.drop('categories', axis=1,  inplace=True)\n",
        "business_features_useful = business_features_useful.fillna(0)\n",
        "business_features_useful = business_features_useful.drop_duplicates(subset='business_id', keep='first')"
      ],
      "execution_count": null,
      "outputs": [
        {
          "output_type": "stream",
          "text": [
            "/usr/local/lib/python3.7/dist-packages/ipykernel_launcher.py:7: SettingWithCopyWarning:\n",
            "\n",
            "\n",
            "A value is trying to be set on a copy of a slice from a DataFrame.\n",
            "Try using .loc[row_indexer,col_indexer] = value instead\n",
            "\n",
            "See the caveats in the documentation: https://pandas.pydata.org/pandas-docs/stable/user_guide/indexing.html#returning-a-view-versus-a-copy\n",
            "\n"
          ],
          "name": "stderr"
        }
      ]
    },
    {
      "cell_type": "markdown",
      "metadata": {
        "id": "ZZ_KRIn57Hwh"
      },
      "source": [
        "We will split to train, validation, test sets"
      ]
    },
    {
      "cell_type": "code",
      "metadata": {
        "colab": {
          "base_uri": "https://localhost:8080/"
        },
        "id": "vNbbHFiI7NFp",
        "outputId": "d3b7c5f3-eda8-4489-af8c-e6d3fc344420"
      },
      "source": [
        "content_train = train_data.merge(user_features_useful, on='user_id', how='inner')\n",
        "content_train = content_train.merge(business_features_useful, on='business_id', how='inner')\n",
        "content_train = content_train[[c for c in content_train if c != 'stars'] + ['stars']]\n",
        "content_train.sort_values(by='user_id', inplace=True, ascending=True)\n",
        "content_val = val_data.merge(user_features_useful, on='user_id', how='inner')\n",
        "content_val = content_val.merge(business_features_useful, on='business_id', how='inner')\n",
        "content_val = content_val[[c for c in content_val if c != 'stars'] + ['stars']]\n",
        "content_val.sort_values(by='user_id', inplace=True, ascending=True)\n",
        "content_test = test_data.merge(user_features_useful, on='user_id', how='inner')\n",
        "content_test = content_test.merge(business_features_useful, on='business_id', how='inner')\n",
        "content_test = content_test[[c for c in content_test if c != 'stars'] + ['stars']]\n",
        "content_test.sort_values(by='user_id', inplace=True, ascending=True)\n",
        "\n",
        "# print(content_train.head())\n",
        "print(f'content training data shape: {content_train.shape}')\n",
        "# print(content_val.head())\n",
        "print(f'content validation data shape: {content_val.shape}')\n",
        "# print(content_test.head())\n",
        "print(f'content test data shape: {content_test.shape}')"
      ],
      "execution_count": null,
      "outputs": [
        {
          "output_type": "stream",
          "text": [
            "content training data shape: (1826145, 111)\n",
            "content validation data shape: (450980, 111)\n",
            "content test data shape: (569025, 111)\n"
          ],
          "name": "stdout"
        }
      ]
    },
    {
      "cell_type": "markdown",
      "metadata": {
        "id": "h_inPP3dQ13B"
      },
      "source": [
        "### Content Model Implementation"
      ]
    },
    {
      "cell_type": "markdown",
      "metadata": {
        "id": "x8qqorIb7Q77"
      },
      "source": [
        "We create an individual regression model for each user, to try and learn the each user's individual preferences. Each model will be constructed based on the features described above. Moreover, we examine 3 different regression models, and pick the one with the best validation RMSE: LinearRegression, DecisionTreeRegressor, and SVR."
      ]
    },
    {
      "cell_type": "markdown",
      "metadata": {
        "id": "RXtMLCv-7Yyb"
      },
      "source": [
        "First, we will first split data per user, in the aim to get all the ratings of an individual user. "
      ]
    },
    {
      "cell_type": "code",
      "metadata": {
        "colab": {
          "base_uri": "https://localhost:8080/"
        },
        "id": "eL9Ugsf37cB8",
        "outputId": "8dd5ff1c-4e44-466b-deb0-ed689dfccc7a"
      },
      "source": [
        "content_train_user_grouped = [df for _, df in content_train.groupby('user_id')]\n",
        "print(content_train_user_grouped[0].head())"
      ],
      "execution_count": null,
      "outputs": [
        {
          "output_type": "stream",
          "text": [
            "         user_id  business_id  review_count  fans  ...   97   98   99  stars\n",
            "1506299        0       127583           246    15  ...  0.0  0.0  0.0      3\n",
            "1319097        0        99699           246    15  ...  0.0  0.0  0.0      5\n",
            "374336         0        79520           246    15  ...  0.0  0.0  0.0      5\n",
            "1471544        0       102473           246    15  ...  0.0  0.0  0.0      5\n",
            "10732          0       136307           246    15  ...  0.0  0.0  0.0      5\n",
            "\n",
            "[5 rows x 111 columns]\n"
          ],
          "name": "stdout"
        }
      ]
    },
    {
      "cell_type": "markdown",
      "metadata": {
        "id": "OWd_U2Mu7fAM"
      },
      "source": [
        "Next, we will train the models:"
      ]
    },
    {
      "cell_type": "code",
      "metadata": {
        "id": "PmdGe-swRZuJ"
      },
      "source": [
        "def TrainContentModel(regressor, kwargs):\n",
        "    c_model_start_time = time.time()\n",
        "    users_content_models = defaultdict(None)\n",
        "\n",
        "    for u_df in content_train_user_grouped:\n",
        "        users_content_models[u_df.iloc[0,0]] = regressor(**kwargs).fit(X=u_df.iloc[:, :-1], y=u_df['stars'])\n",
        "\n",
        "    print(f'time (seconds) to train content model {regressor.__name__}: {time.time() - c_model_start_time: .1f}')\n",
        "    return users_content_models"
      ],
      "execution_count": null,
      "outputs": []
    },
    {
      "cell_type": "markdown",
      "metadata": {
        "id": "w7A_GF047tIO"
      },
      "source": [
        "During evaluation, we treat all the individual models as one single model, that predicts ratings by delegating to the appropriate internal model"
      ]
    },
    {
      "cell_type": "code",
      "metadata": {
        "id": "KzT_hM3g7vHE"
      },
      "source": [
        "def content_model_predict(test_df, content_model):\n",
        "  user_grouped = [df for _, df in test_df.groupby('user_id')]\n",
        "  res = []\n",
        "  for user_test_df in user_grouped:\n",
        "      u_id = user_test_df.iloc[0, 0]\n",
        "      m = content_model[u_id]\n",
        "      res += list(m.predict(X=user_test_df.iloc[:, :-1]) if m is not None else 3)\n",
        "  return res"
      ],
      "execution_count": null,
      "outputs": []
    },
    {
      "cell_type": "code",
      "metadata": {
        "id": "sdOrkIFgLJZg"
      },
      "source": [
        "def content_model_eval(test_df, content_model):\n",
        "  preds = content_model_predict(test_df, content_model)\n",
        "  return calculate_RMSE(test_df['stars'].to_numpy(), preds), calculate_MAE(test_df['stars'].to_numpy(), preds)"
      ],
      "execution_count": null,
      "outputs": []
    },
    {
      "cell_type": "markdown",
      "metadata": {
        "id": "bfP9Mwaf74gj"
      },
      "source": [
        "We will train content models, choosing the best one according to validation RMSE"
      ]
    },
    {
      "cell_type": "code",
      "metadata": {
        "colab": {
          "base_uri": "https://localhost:8080/"
        },
        "id": "rFCafsYk79Ay",
        "outputId": "a44fccf5-5d08-461b-df9d-134abef8b55a"
      },
      "source": [
        "best_content_model_val_RMSE = float('inf')\n",
        "best_content_model = None\n",
        "for regressor, kwargs in [(LinearRegression, {}), (DecisionTreeRegressor, {'max_depth': 3}), (SVR, {'gamma': 'auto'})]:\n",
        "    model = TrainContentModel(regressor=regressor, kwargs=kwargs)\n",
        "    content_model_validation_RMSE = calculate_RMSE(content_val['stars'].to_numpy(), content_model_predict(content_val, model))\n",
        "    print(f'content model {regressor.__name__} validation RMSE: {content_model_validation_RMSE: .3f}')\n",
        "    if content_model_validation_RMSE < best_content_model_val_RMSE:\n",
        "        best_content_model_val_RMSE = content_model_validation_RMSE\n",
        "        best_content_model = model\n",
        "        print(f'current best content model is {regressor.__name__}')\n",
        "        print('----------------------------------------------------------')"
      ],
      "execution_count": null,
      "outputs": [
        {
          "output_type": "stream",
          "text": [
            "time (seconds) to train content model LinearRegression:  493.6\n",
            "content model LinearRegression validation RMSE:  8201.943\n",
            "current best content model is LinearRegression\n",
            "----------------------------------------------------------\n",
            "time (seconds) to train content model DecisionTreeRegressor:  288.1\n",
            "content model DecisionTreeRegressor validation RMSE:  1.589\n",
            "current best content model is DecisionTreeRegressor\n",
            "----------------------------------------------------------\n",
            "time (seconds) to train content model SVR:  319.1\n",
            "content model SVR validation RMSE:  1.381\n",
            "current best content model is SVR\n",
            "----------------------------------------------------------\n"
          ],
          "name": "stdout"
        }
      ]
    },
    {
      "cell_type": "markdown",
      "metadata": {
        "id": "9eOTjj0fpMVs"
      },
      "source": [
        "As seen above, the chosen content model, based on best RMSE performance, is SVR (Epsilon-Support Vector Regression).\n",
        "In the following sections we will evaluate and compare it to the rest of our constructed models. We will also intergreate these models into a single ensemble model, in order to try and achieve better metric values."
      ]
    },
    {
      "cell_type": "markdown",
      "metadata": {
        "id": "sqktLpZiSvyx"
      },
      "source": [
        "We can now delete the train data for the content model, along with additional used vectors that took part in the training phase, since we already trained the content model. We would want to clear the ram for the next run."
      ]
    },
    {
      "cell_type": "code",
      "metadata": {
        "id": "C7pbBI5bSsoF"
      },
      "source": [
        "del user_features_useful  \n",
        "del business_features_useful \n",
        "del content_train"
      ],
      "execution_count": null,
      "outputs": []
    },
    {
      "cell_type": "markdown",
      "metadata": {
        "id": "P0C_ugV0Q16O"
      },
      "source": [
        "## Part 6 - API"
      ]
    },
    {
      "cell_type": "markdown",
      "metadata": {
        "id": "qfcfCgFAc_a4"
      },
      "source": [
        "###Rating Prediction Given a Model String"
      ]
    },
    {
      "cell_type": "markdown",
      "metadata": {
        "id": "A63hqFBXObbj"
      },
      "source": [
        "The following function will make ratings prediction, based on the given data and the trained model. It is important to note that the format of the model name needs to be corresponding to the the function's description."
      ]
    },
    {
      "cell_type": "code",
      "metadata": {
        "id": "h-d1Cbu9Rune"
      },
      "source": [
        "def PredictRating(model, data):\n",
        "  \"\"\"\n",
        "  Predict ratings using the chosen model. \n",
        "  \n",
        "  Parameters:\n",
        "  model: string representing chosen model.\n",
        "  data: data for the model to predict on. should be in the correct format, depending on the model you choose.\n",
        "  \"\"\"\n",
        "  if model == 'Content Model':\n",
        "    return content_model_eval(data, best_content_model)\n",
        "  elif  model == 'SVD': \n",
        "    return SVDTestPrediction(SVD_model)\n",
        "  elif  model == 'SVD++':\n",
        "    return ImprovedSVDTestPrediction(SVD_PlusPlus_Model)\n",
        "  else: \n",
        "    return 'Not valid model name'  "
      ],
      "execution_count": null,
      "outputs": []
    },
    {
      "cell_type": "code",
      "metadata": {
        "id": "ems4R33mnK0z"
      },
      "source": [
        "# for testing\n",
        "SVD_model = np.load(os.path.join(MODELS_DIR, 'svd_model.npy'), allow_pickle=True)\n",
        "num_factors = 20\n",
        "gamma = 0.007\n",
        "lamda1 = 0.005\n",
        "lamda2 = 0.015\n",
        "SVD_PlusPlus_Model = np.load(os.path.join(MODELS_DIR, 'svd_plusplus_model.npy'), allow_pickle=True)"
      ],
      "execution_count": null,
      "outputs": []
    },
    {
      "cell_type": "code",
      "metadata": {
        "colab": {
          "base_uri": "https://localhost:8080/"
        },
        "id": "J40tfQD5tjLK",
        "outputId": "e5761784-54f1-406b-f497-46b2a53be73e"
      },
      "source": [
        "model_names = ['SVD', 'SVD++', 'Content Model']\n",
        "all_RMSE = []\n",
        "all_MAE = []\n",
        "\n",
        "# Calculating metrics for each single model\n",
        "for model in model_names:\n",
        "  RMSE, MAE = PredictRating(model, content_test)\n",
        "  all_RMSE.append(RMSE)\n",
        "  all_MAE.append(MAE)\n",
        "  print('---------------------------------------------')"
      ],
      "execution_count": null,
      "outputs": [
        {
          "output_type": "stream",
          "text": [
            "The RMSE of SVD for 20 latent features is: 1.2744671910783822\n",
            "The MAE of SVD for 20 latent features is: 0.9539485657541048\n",
            "---------------------------------------------\n",
            "The RMSE of SVD++ for 20 latent features is: 1.2423875387287435\n",
            "The MAE of SVD++ for 20 latent features is: 0.9408145196120585\n",
            "---------------------------------------------\n",
            "---------------------------------------------\n"
          ],
          "name": "stdout"
        }
      ]
    },
    {
      "cell_type": "markdown",
      "metadata": {
        "id": "8DsKux9oRX6a"
      },
      "source": [
        "## Part 7 - Comparing Models"
      ]
    },
    {
      "cell_type": "markdown",
      "metadata": {
        "id": "I1b8dtHwdKgB"
      },
      "source": [
        "### Examined Models Comparison"
      ]
    },
    {
      "cell_type": "markdown",
      "metadata": {
        "id": "yf6mpf9N-enC"
      },
      "source": [
        "We will compare of our three examined single models, based on our two proposed measures.\n",
        "\n",
        "It is importnat to note that, as in part 4, SVD and SVD ++ were trained using 20 latent features (explicit ones for the SVD and explicit, implicit for SVD++).\n",
        "\n"
      ]
    },
    {
      "cell_type": "code",
      "metadata": {
        "colab": {
          "base_uri": "https://localhost:8080/",
          "height": 717
        },
        "id": "Zcl3PlptSLcp",
        "outputId": "86c49826-4f3f-4d2f-dd5e-453ecf59b825"
      },
      "source": [
        "# Comparison table\n",
        "fig = go.Figure(data=[go.Table(\n",
        "    header=dict(values=['Model name', 'RMSE', 'MAE'],\n",
        "                line_color='darkslategray',\n",
        "                fill_color='lightskyblue',\n",
        "                align='left'),\n",
        "    cells=dict(values=[model_names, \n",
        "                       all_RMSE, all_MAE], \n",
        "               line_color='darkslategray',\n",
        "               fill_color='lightcyan',\n",
        "               align='left'))\n",
        "])\n",
        "\n",
        "fig.update_layout(width=700, height=700)\n",
        "fig.show()"
      ],
      "execution_count": null,
      "outputs": [
        {
          "output_type": "display_data",
          "data": {
            "text/html": [
              "<html>\n",
              "<head><meta charset=\"utf-8\" /></head>\n",
              "<body>\n",
              "    <div>\n",
              "            <script src=\"https://cdnjs.cloudflare.com/ajax/libs/mathjax/2.7.5/MathJax.js?config=TeX-AMS-MML_SVG\"></script><script type=\"text/javascript\">if (window.MathJax) {MathJax.Hub.Config({SVG: {font: \"STIX-Web\"}});}</script>\n",
              "                <script type=\"text/javascript\">window.PlotlyConfig = {MathJaxConfig: 'local'};</script>\n",
              "        <script src=\"https://cdn.plot.ly/plotly-latest.min.js\"></script>    \n",
              "            <div id=\"88e1c2a9-4f3d-4ecc-bcd2-fefa468ce85f\" class=\"plotly-graph-div\" style=\"height:700px; width:700px;\"></div>\n",
              "            <script type=\"text/javascript\">\n",
              "                \n",
              "                    window.PLOTLYENV=window.PLOTLYENV || {};\n",
              "                    \n",
              "                if (document.getElementById(\"88e1c2a9-4f3d-4ecc-bcd2-fefa468ce85f\")) {\n",
              "                    Plotly.newPlot(\n",
              "                        '88e1c2a9-4f3d-4ecc-bcd2-fefa468ce85f',\n",
              "                        [{\"cells\": {\"align\": \"left\", \"fill\": {\"color\": \"lightcyan\"}, \"line\": {\"color\": \"darkslategray\"}, \"values\": [[\"SVD\", \"SVD++\", \"Content Model\"], [\"1.274\", \"1.242\", \"1.373\"], [\"0.953\", \"0.940\", \"1.010\"]]}, \"header\": {\"align\": \"left\", \"fill\": {\"color\": \"lightskyblue\"}, \"line\": {\"color\": \"darkslategray\"}, \"values\": [\"Model name\", \"RMSE\", \"MAE\"]}, \"type\": \"table\"}],\n",
              "                        {\"height\": 700, \"template\": {\"data\": {\"bar\": [{\"error_x\": {\"color\": \"#2a3f5f\"}, \"error_y\": {\"color\": \"#2a3f5f\"}, \"marker\": {\"line\": {\"color\": \"#E5ECF6\", \"width\": 0.5}}, \"type\": \"bar\"}], \"barpolar\": [{\"marker\": {\"line\": {\"color\": \"#E5ECF6\", \"width\": 0.5}}, \"type\": \"barpolar\"}], \"carpet\": [{\"aaxis\": {\"endlinecolor\": \"#2a3f5f\", \"gridcolor\": \"white\", \"linecolor\": \"white\", \"minorgridcolor\": \"white\", \"startlinecolor\": \"#2a3f5f\"}, \"baxis\": {\"endlinecolor\": \"#2a3f5f\", \"gridcolor\": \"white\", \"linecolor\": \"white\", \"minorgridcolor\": \"white\", \"startlinecolor\": \"#2a3f5f\"}, \"type\": \"carpet\"}], \"choropleth\": [{\"colorbar\": {\"outlinewidth\": 0, \"ticks\": \"\"}, \"type\": \"choropleth\"}], \"contour\": [{\"colorbar\": {\"outlinewidth\": 0, \"ticks\": \"\"}, \"colorscale\": [[0.0, \"#0d0887\"], [0.1111111111111111, \"#46039f\"], [0.2222222222222222, \"#7201a8\"], [0.3333333333333333, \"#9c179e\"], [0.4444444444444444, \"#bd3786\"], [0.5555555555555556, \"#d8576b\"], [0.6666666666666666, \"#ed7953\"], [0.7777777777777778, \"#fb9f3a\"], [0.8888888888888888, \"#fdca26\"], [1.0, \"#f0f921\"]], \"type\": \"contour\"}], \"contourcarpet\": [{\"colorbar\": {\"outlinewidth\": 0, \"ticks\": \"\"}, \"type\": \"contourcarpet\"}], \"heatmap\": [{\"colorbar\": {\"outlinewidth\": 0, \"ticks\": \"\"}, \"colorscale\": [[0.0, \"#0d0887\"], [0.1111111111111111, \"#46039f\"], [0.2222222222222222, \"#7201a8\"], [0.3333333333333333, \"#9c179e\"], [0.4444444444444444, \"#bd3786\"], [0.5555555555555556, \"#d8576b\"], [0.6666666666666666, \"#ed7953\"], [0.7777777777777778, \"#fb9f3a\"], [0.8888888888888888, \"#fdca26\"], [1.0, \"#f0f921\"]], \"type\": \"heatmap\"}], \"heatmapgl\": [{\"colorbar\": {\"outlinewidth\": 0, \"ticks\": \"\"}, \"colorscale\": [[0.0, \"#0d0887\"], [0.1111111111111111, \"#46039f\"], [0.2222222222222222, \"#7201a8\"], [0.3333333333333333, \"#9c179e\"], [0.4444444444444444, \"#bd3786\"], [0.5555555555555556, \"#d8576b\"], [0.6666666666666666, \"#ed7953\"], [0.7777777777777778, \"#fb9f3a\"], [0.8888888888888888, \"#fdca26\"], [1.0, \"#f0f921\"]], \"type\": \"heatmapgl\"}], \"histogram\": [{\"marker\": {\"colorbar\": {\"outlinewidth\": 0, \"ticks\": \"\"}}, \"type\": \"histogram\"}], \"histogram2d\": [{\"colorbar\": {\"outlinewidth\": 0, \"ticks\": \"\"}, \"colorscale\": [[0.0, \"#0d0887\"], [0.1111111111111111, \"#46039f\"], [0.2222222222222222, \"#7201a8\"], [0.3333333333333333, \"#9c179e\"], [0.4444444444444444, \"#bd3786\"], [0.5555555555555556, \"#d8576b\"], [0.6666666666666666, \"#ed7953\"], [0.7777777777777778, \"#fb9f3a\"], [0.8888888888888888, \"#fdca26\"], [1.0, \"#f0f921\"]], \"type\": \"histogram2d\"}], \"histogram2dcontour\": [{\"colorbar\": {\"outlinewidth\": 0, \"ticks\": \"\"}, \"colorscale\": [[0.0, \"#0d0887\"], [0.1111111111111111, \"#46039f\"], [0.2222222222222222, \"#7201a8\"], [0.3333333333333333, \"#9c179e\"], [0.4444444444444444, \"#bd3786\"], [0.5555555555555556, \"#d8576b\"], [0.6666666666666666, \"#ed7953\"], [0.7777777777777778, \"#fb9f3a\"], [0.8888888888888888, \"#fdca26\"], [1.0, \"#f0f921\"]], \"type\": \"histogram2dcontour\"}], \"mesh3d\": [{\"colorbar\": {\"outlinewidth\": 0, \"ticks\": \"\"}, \"type\": \"mesh3d\"}], \"parcoords\": [{\"line\": {\"colorbar\": {\"outlinewidth\": 0, \"ticks\": \"\"}}, \"type\": \"parcoords\"}], \"pie\": [{\"automargin\": true, \"type\": \"pie\"}], \"scatter\": [{\"marker\": {\"colorbar\": {\"outlinewidth\": 0, \"ticks\": \"\"}}, \"type\": \"scatter\"}], \"scatter3d\": [{\"line\": {\"colorbar\": {\"outlinewidth\": 0, \"ticks\": \"\"}}, \"marker\": {\"colorbar\": {\"outlinewidth\": 0, \"ticks\": \"\"}}, \"type\": \"scatter3d\"}], \"scattercarpet\": [{\"marker\": {\"colorbar\": {\"outlinewidth\": 0, \"ticks\": \"\"}}, \"type\": \"scattercarpet\"}], \"scattergeo\": [{\"marker\": {\"colorbar\": {\"outlinewidth\": 0, \"ticks\": \"\"}}, \"type\": \"scattergeo\"}], \"scattergl\": [{\"marker\": {\"colorbar\": {\"outlinewidth\": 0, \"ticks\": \"\"}}, \"type\": \"scattergl\"}], \"scattermapbox\": [{\"marker\": {\"colorbar\": {\"outlinewidth\": 0, \"ticks\": \"\"}}, \"type\": \"scattermapbox\"}], \"scatterpolar\": [{\"marker\": {\"colorbar\": {\"outlinewidth\": 0, \"ticks\": \"\"}}, \"type\": \"scatterpolar\"}], \"scatterpolargl\": [{\"marker\": {\"colorbar\": {\"outlinewidth\": 0, \"ticks\": \"\"}}, \"type\": \"scatterpolargl\"}], \"scatterternary\": [{\"marker\": {\"colorbar\": {\"outlinewidth\": 0, \"ticks\": \"\"}}, \"type\": \"scatterternary\"}], \"surface\": [{\"colorbar\": {\"outlinewidth\": 0, \"ticks\": \"\"}, \"colorscale\": [[0.0, \"#0d0887\"], [0.1111111111111111, \"#46039f\"], [0.2222222222222222, \"#7201a8\"], [0.3333333333333333, \"#9c179e\"], [0.4444444444444444, \"#bd3786\"], [0.5555555555555556, \"#d8576b\"], [0.6666666666666666, \"#ed7953\"], [0.7777777777777778, \"#fb9f3a\"], [0.8888888888888888, \"#fdca26\"], [1.0, \"#f0f921\"]], \"type\": \"surface\"}], \"table\": [{\"cells\": {\"fill\": {\"color\": \"#EBF0F8\"}, \"line\": {\"color\": \"white\"}}, \"header\": {\"fill\": {\"color\": \"#C8D4E3\"}, \"line\": {\"color\": \"white\"}}, \"type\": \"table\"}]}, \"layout\": {\"annotationdefaults\": {\"arrowcolor\": \"#2a3f5f\", \"arrowhead\": 0, \"arrowwidth\": 1}, \"coloraxis\": {\"colorbar\": {\"outlinewidth\": 0, \"ticks\": \"\"}}, \"colorscale\": {\"diverging\": [[0, \"#8e0152\"], [0.1, \"#c51b7d\"], [0.2, \"#de77ae\"], [0.3, \"#f1b6da\"], [0.4, \"#fde0ef\"], [0.5, \"#f7f7f7\"], [0.6, \"#e6f5d0\"], [0.7, \"#b8e186\"], [0.8, \"#7fbc41\"], [0.9, \"#4d9221\"], [1, \"#276419\"]], \"sequential\": [[0.0, \"#0d0887\"], [0.1111111111111111, \"#46039f\"], [0.2222222222222222, \"#7201a8\"], [0.3333333333333333, \"#9c179e\"], [0.4444444444444444, \"#bd3786\"], [0.5555555555555556, \"#d8576b\"], [0.6666666666666666, \"#ed7953\"], [0.7777777777777778, \"#fb9f3a\"], [0.8888888888888888, \"#fdca26\"], [1.0, \"#f0f921\"]], \"sequentialminus\": [[0.0, \"#0d0887\"], [0.1111111111111111, \"#46039f\"], [0.2222222222222222, \"#7201a8\"], [0.3333333333333333, \"#9c179e\"], [0.4444444444444444, \"#bd3786\"], [0.5555555555555556, \"#d8576b\"], [0.6666666666666666, \"#ed7953\"], [0.7777777777777778, \"#fb9f3a\"], [0.8888888888888888, \"#fdca26\"], [1.0, \"#f0f921\"]]}, \"colorway\": [\"#636efa\", \"#EF553B\", \"#00cc96\", \"#ab63fa\", \"#FFA15A\", \"#19d3f3\", \"#FF6692\", \"#B6E880\", \"#FF97FF\", \"#FECB52\"], \"font\": {\"color\": \"#2a3f5f\"}, \"geo\": {\"bgcolor\": \"white\", \"lakecolor\": \"white\", \"landcolor\": \"#E5ECF6\", \"showlakes\": true, \"showland\": true, \"subunitcolor\": \"white\"}, \"hoverlabel\": {\"align\": \"left\"}, \"hovermode\": \"closest\", \"mapbox\": {\"style\": \"light\"}, \"paper_bgcolor\": \"white\", \"plot_bgcolor\": \"#E5ECF6\", \"polar\": {\"angularaxis\": {\"gridcolor\": \"white\", \"linecolor\": \"white\", \"ticks\": \"\"}, \"bgcolor\": \"#E5ECF6\", \"radialaxis\": {\"gridcolor\": \"white\", \"linecolor\": \"white\", \"ticks\": \"\"}}, \"scene\": {\"xaxis\": {\"backgroundcolor\": \"#E5ECF6\", \"gridcolor\": \"white\", \"gridwidth\": 2, \"linecolor\": \"white\", \"showbackground\": true, \"ticks\": \"\", \"zerolinecolor\": \"white\"}, \"yaxis\": {\"backgroundcolor\": \"#E5ECF6\", \"gridcolor\": \"white\", \"gridwidth\": 2, \"linecolor\": \"white\", \"showbackground\": true, \"ticks\": \"\", \"zerolinecolor\": \"white\"}, \"zaxis\": {\"backgroundcolor\": \"#E5ECF6\", \"gridcolor\": \"white\", \"gridwidth\": 2, \"linecolor\": \"white\", \"showbackground\": true, \"ticks\": \"\", \"zerolinecolor\": \"white\"}}, \"shapedefaults\": {\"line\": {\"color\": \"#2a3f5f\"}}, \"ternary\": {\"aaxis\": {\"gridcolor\": \"white\", \"linecolor\": \"white\", \"ticks\": \"\"}, \"baxis\": {\"gridcolor\": \"white\", \"linecolor\": \"white\", \"ticks\": \"\"}, \"bgcolor\": \"#E5ECF6\", \"caxis\": {\"gridcolor\": \"white\", \"linecolor\": \"white\", \"ticks\": \"\"}}, \"title\": {\"x\": 0.05}, \"xaxis\": {\"automargin\": true, \"gridcolor\": \"white\", \"linecolor\": \"white\", \"ticks\": \"\", \"title\": {\"standoff\": 15}, \"zerolinecolor\": \"white\", \"zerolinewidth\": 2}, \"yaxis\": {\"automargin\": true, \"gridcolor\": \"white\", \"linecolor\": \"white\", \"ticks\": \"\", \"title\": {\"standoff\": 15}, \"zerolinecolor\": \"white\", \"zerolinewidth\": 2}}}, \"width\": 700},\n",
              "                        {\"responsive\": true}\n",
              "                    ).then(function(){\n",
              "                            \n",
              "var gd = document.getElementById('88e1c2a9-4f3d-4ecc-bcd2-fefa468ce85f');\n",
              "var x = new MutationObserver(function (mutations, observer) {{\n",
              "        var display = window.getComputedStyle(gd).display;\n",
              "        if (!display || display === 'none') {{\n",
              "            console.log([gd, 'removed!']);\n",
              "            Plotly.purge(gd);\n",
              "            observer.disconnect();\n",
              "        }}\n",
              "}});\n",
              "\n",
              "// Listen for the removal of the full notebook cells\n",
              "var notebookContainer = gd.closest('#notebook-container');\n",
              "if (notebookContainer) {{\n",
              "    x.observe(notebookContainer, {childList: true});\n",
              "}}\n",
              "\n",
              "// Listen for the clearing of the current output cell\n",
              "var outputEl = gd.closest('.output');\n",
              "if (outputEl) {{\n",
              "    x.observe(outputEl, {childList: true});\n",
              "}}\n",
              "\n",
              "                        })\n",
              "                };\n",
              "                \n",
              "            </script>\n",
              "        </div>\n",
              "</body>\n",
              "</html>"
            ]
          },
          "metadata": {
            "tags": []
          }
        }
      ]
    },
    {
      "cell_type": "code",
      "metadata": {
        "colab": {
          "base_uri": "https://localhost:8080/",
          "height": 1000
        },
        "id": "_65LCc94AAde",
        "outputId": "fac72664-87f2-47f6-eb26-d90e9e07139a"
      },
      "source": [
        "# Comparison graph\n",
        "comparison_df = pd.DataFrame()\n",
        "comparison_df['Model name'] = model_names\n",
        "comparison_df['RMSE'] = all_RMSE\n",
        "comparison_df['MAE'] = all_MAE\n",
        "\n",
        "fig = go.Figure(data=[\n",
        "    go.Bar(name='RMSE', x=comparison_df['Model name'], y=comparison_df['RMSE']),\n",
        "    go.Bar(name='MAE', x=comparison_df['Model name'], y=comparison_df['MAE'])\n",
        "])\n",
        "# Change the bar mode\n",
        "fig.update_layout(barmode='group',  title={'text': \"Single Models Comparison\",\n",
        "        'y':0.9,\n",
        "        'x':0.5,\n",
        "        'xanchor': 'center',\n",
        "        'yanchor': 'top'}, xaxis_title=\"Model\")\n",
        "fig.show()"
      ],
      "execution_count": null,
      "outputs": [
        {
          "output_type": "display_data",
          "data": {
            "text/html": [
              "<html>\n",
              "<head><meta charset=\"utf-8\" /></head>\n",
              "<body>\n",
              "    <div>\n",
              "            <script src=\"https://cdnjs.cloudflare.com/ajax/libs/mathjax/2.7.5/MathJax.js?config=TeX-AMS-MML_SVG\"></script><script type=\"text/javascript\">if (window.MathJax) {MathJax.Hub.Config({SVG: {font: \"STIX-Web\"}});}</script>\n",
              "                <script type=\"text/javascript\">window.PlotlyConfig = {MathJaxConfig: 'local'};</script>\n",
              "        <script src=\"https://cdn.plot.ly/plotly-latest.min.js\"></script>    \n",
              "            <div id=\"f10c8567-a9d3-4666-8343-958599a7f615\" class=\"plotly-graph-div\" style=\"height:525px; width:100%;\"></div>\n",
              "            <script type=\"text/javascript\">\n",
              "                \n",
              "                    window.PLOTLYENV=window.PLOTLYENV || {};\n",
              "                    \n",
              "                if (document.getElementById(\"f10c8567-a9d3-4666-8343-958599a7f615\")) {\n",
              "                    Plotly.newPlot(\n",
              "                        'f10c8567-a9d3-4666-8343-958599a7f615',\n",
              "                        [{\"name\": \"RMSE\", \"type\": \"bar\", \"x\": [\"SVD\", \"SVD++\", \"Content Model\"], \"y\": [1.2744671910783822, 1.2423875387287435, 1.3733065301970406]}, {\"name\": \"MAE\", \"type\": \"bar\", \"x\": [\"SVD\", \"SVD++\", \"Content Model\"], \"y\": [0.9539485657541048, 0.9408145196120585, 1.019183807919129]}],\n",
              "                        {\"barmode\": \"group\", \"template\": {\"data\": {\"bar\": [{\"error_x\": {\"color\": \"#2a3f5f\"}, \"error_y\": {\"color\": \"#2a3f5f\"}, \"marker\": {\"line\": {\"color\": \"#E5ECF6\", \"width\": 0.5}}, \"type\": \"bar\"}], \"barpolar\": [{\"marker\": {\"line\": {\"color\": \"#E5ECF6\", \"width\": 0.5}}, \"type\": \"barpolar\"}], \"carpet\": [{\"aaxis\": {\"endlinecolor\": \"#2a3f5f\", \"gridcolor\": \"white\", \"linecolor\": \"white\", \"minorgridcolor\": \"white\", \"startlinecolor\": \"#2a3f5f\"}, \"baxis\": {\"endlinecolor\": \"#2a3f5f\", \"gridcolor\": \"white\", \"linecolor\": \"white\", \"minorgridcolor\": \"white\", \"startlinecolor\": \"#2a3f5f\"}, \"type\": \"carpet\"}], \"choropleth\": [{\"colorbar\": {\"outlinewidth\": 0, \"ticks\": \"\"}, \"type\": \"choropleth\"}], \"contour\": [{\"colorbar\": {\"outlinewidth\": 0, \"ticks\": \"\"}, \"colorscale\": [[0.0, \"#0d0887\"], [0.1111111111111111, \"#46039f\"], [0.2222222222222222, \"#7201a8\"], [0.3333333333333333, \"#9c179e\"], [0.4444444444444444, \"#bd3786\"], [0.5555555555555556, \"#d8576b\"], [0.6666666666666666, \"#ed7953\"], [0.7777777777777778, \"#fb9f3a\"], [0.8888888888888888, \"#fdca26\"], [1.0, \"#f0f921\"]], \"type\": \"contour\"}], \"contourcarpet\": [{\"colorbar\": {\"outlinewidth\": 0, \"ticks\": \"\"}, \"type\": \"contourcarpet\"}], \"heatmap\": [{\"colorbar\": {\"outlinewidth\": 0, \"ticks\": \"\"}, \"colorscale\": [[0.0, \"#0d0887\"], [0.1111111111111111, \"#46039f\"], [0.2222222222222222, \"#7201a8\"], [0.3333333333333333, \"#9c179e\"], [0.4444444444444444, \"#bd3786\"], [0.5555555555555556, \"#d8576b\"], [0.6666666666666666, \"#ed7953\"], [0.7777777777777778, \"#fb9f3a\"], [0.8888888888888888, \"#fdca26\"], [1.0, \"#f0f921\"]], \"type\": \"heatmap\"}], \"heatmapgl\": [{\"colorbar\": {\"outlinewidth\": 0, \"ticks\": \"\"}, \"colorscale\": [[0.0, \"#0d0887\"], [0.1111111111111111, \"#46039f\"], [0.2222222222222222, \"#7201a8\"], [0.3333333333333333, \"#9c179e\"], [0.4444444444444444, \"#bd3786\"], [0.5555555555555556, \"#d8576b\"], [0.6666666666666666, \"#ed7953\"], [0.7777777777777778, \"#fb9f3a\"], [0.8888888888888888, \"#fdca26\"], [1.0, \"#f0f921\"]], \"type\": \"heatmapgl\"}], \"histogram\": [{\"marker\": {\"colorbar\": {\"outlinewidth\": 0, \"ticks\": \"\"}}, \"type\": \"histogram\"}], \"histogram2d\": [{\"colorbar\": {\"outlinewidth\": 0, \"ticks\": \"\"}, \"colorscale\": [[0.0, \"#0d0887\"], [0.1111111111111111, \"#46039f\"], [0.2222222222222222, \"#7201a8\"], [0.3333333333333333, \"#9c179e\"], [0.4444444444444444, \"#bd3786\"], [0.5555555555555556, \"#d8576b\"], [0.6666666666666666, \"#ed7953\"], [0.7777777777777778, \"#fb9f3a\"], [0.8888888888888888, \"#fdca26\"], [1.0, \"#f0f921\"]], \"type\": \"histogram2d\"}], \"histogram2dcontour\": [{\"colorbar\": {\"outlinewidth\": 0, \"ticks\": \"\"}, \"colorscale\": [[0.0, \"#0d0887\"], [0.1111111111111111, \"#46039f\"], [0.2222222222222222, \"#7201a8\"], [0.3333333333333333, \"#9c179e\"], [0.4444444444444444, \"#bd3786\"], [0.5555555555555556, \"#d8576b\"], [0.6666666666666666, \"#ed7953\"], [0.7777777777777778, \"#fb9f3a\"], [0.8888888888888888, \"#fdca26\"], [1.0, \"#f0f921\"]], \"type\": \"histogram2dcontour\"}], \"mesh3d\": [{\"colorbar\": {\"outlinewidth\": 0, \"ticks\": \"\"}, \"type\": \"mesh3d\"}], \"parcoords\": [{\"line\": {\"colorbar\": {\"outlinewidth\": 0, \"ticks\": \"\"}}, \"type\": \"parcoords\"}], \"pie\": [{\"automargin\": true, \"type\": \"pie\"}], \"scatter\": [{\"marker\": {\"colorbar\": {\"outlinewidth\": 0, \"ticks\": \"\"}}, \"type\": \"scatter\"}], \"scatter3d\": [{\"line\": {\"colorbar\": {\"outlinewidth\": 0, \"ticks\": \"\"}}, \"marker\": {\"colorbar\": {\"outlinewidth\": 0, \"ticks\": \"\"}}, \"type\": \"scatter3d\"}], \"scattercarpet\": [{\"marker\": {\"colorbar\": {\"outlinewidth\": 0, \"ticks\": \"\"}}, \"type\": \"scattercarpet\"}], \"scattergeo\": [{\"marker\": {\"colorbar\": {\"outlinewidth\": 0, \"ticks\": \"\"}}, \"type\": \"scattergeo\"}], \"scattergl\": [{\"marker\": {\"colorbar\": {\"outlinewidth\": 0, \"ticks\": \"\"}}, \"type\": \"scattergl\"}], \"scattermapbox\": [{\"marker\": {\"colorbar\": {\"outlinewidth\": 0, \"ticks\": \"\"}}, \"type\": \"scattermapbox\"}], \"scatterpolar\": [{\"marker\": {\"colorbar\": {\"outlinewidth\": 0, \"ticks\": \"\"}}, \"type\": \"scatterpolar\"}], \"scatterpolargl\": [{\"marker\": {\"colorbar\": {\"outlinewidth\": 0, \"ticks\": \"\"}}, \"type\": \"scatterpolargl\"}], \"scatterternary\": [{\"marker\": {\"colorbar\": {\"outlinewidth\": 0, \"ticks\": \"\"}}, \"type\": \"scatterternary\"}], \"surface\": [{\"colorbar\": {\"outlinewidth\": 0, \"ticks\": \"\"}, \"colorscale\": [[0.0, \"#0d0887\"], [0.1111111111111111, \"#46039f\"], [0.2222222222222222, \"#7201a8\"], [0.3333333333333333, \"#9c179e\"], [0.4444444444444444, \"#bd3786\"], [0.5555555555555556, \"#d8576b\"], [0.6666666666666666, \"#ed7953\"], [0.7777777777777778, \"#fb9f3a\"], [0.8888888888888888, \"#fdca26\"], [1.0, \"#f0f921\"]], \"type\": \"surface\"}], \"table\": [{\"cells\": {\"fill\": {\"color\": \"#EBF0F8\"}, \"line\": {\"color\": \"white\"}}, \"header\": {\"fill\": {\"color\": \"#C8D4E3\"}, \"line\": {\"color\": \"white\"}}, \"type\": \"table\"}]}, \"layout\": {\"annotationdefaults\": {\"arrowcolor\": \"#2a3f5f\", \"arrowhead\": 0, \"arrowwidth\": 1}, \"coloraxis\": {\"colorbar\": {\"outlinewidth\": 0, \"ticks\": \"\"}}, \"colorscale\": {\"diverging\": [[0, \"#8e0152\"], [0.1, \"#c51b7d\"], [0.2, \"#de77ae\"], [0.3, \"#f1b6da\"], [0.4, \"#fde0ef\"], [0.5, \"#f7f7f7\"], [0.6, \"#e6f5d0\"], [0.7, \"#b8e186\"], [0.8, \"#7fbc41\"], [0.9, \"#4d9221\"], [1, \"#276419\"]], \"sequential\": [[0.0, \"#0d0887\"], [0.1111111111111111, \"#46039f\"], [0.2222222222222222, \"#7201a8\"], [0.3333333333333333, \"#9c179e\"], [0.4444444444444444, \"#bd3786\"], [0.5555555555555556, \"#d8576b\"], [0.6666666666666666, \"#ed7953\"], [0.7777777777777778, \"#fb9f3a\"], [0.8888888888888888, \"#fdca26\"], [1.0, \"#f0f921\"]], \"sequentialminus\": [[0.0, \"#0d0887\"], [0.1111111111111111, \"#46039f\"], [0.2222222222222222, \"#7201a8\"], [0.3333333333333333, \"#9c179e\"], [0.4444444444444444, \"#bd3786\"], [0.5555555555555556, \"#d8576b\"], [0.6666666666666666, \"#ed7953\"], [0.7777777777777778, \"#fb9f3a\"], [0.8888888888888888, \"#fdca26\"], [1.0, \"#f0f921\"]]}, \"colorway\": [\"#636efa\", \"#EF553B\", \"#00cc96\", \"#ab63fa\", \"#FFA15A\", \"#19d3f3\", \"#FF6692\", \"#B6E880\", \"#FF97FF\", \"#FECB52\"], \"font\": {\"color\": \"#2a3f5f\"}, \"geo\": {\"bgcolor\": \"white\", \"lakecolor\": \"white\", \"landcolor\": \"#E5ECF6\", \"showlakes\": true, \"showland\": true, \"subunitcolor\": \"white\"}, \"hoverlabel\": {\"align\": \"left\"}, \"hovermode\": \"closest\", \"mapbox\": {\"style\": \"light\"}, \"paper_bgcolor\": \"white\", \"plot_bgcolor\": \"#E5ECF6\", \"polar\": {\"angularaxis\": {\"gridcolor\": \"white\", \"linecolor\": \"white\", \"ticks\": \"\"}, \"bgcolor\": \"#E5ECF6\", \"radialaxis\": {\"gridcolor\": \"white\", \"linecolor\": \"white\", \"ticks\": \"\"}}, \"scene\": {\"xaxis\": {\"backgroundcolor\": \"#E5ECF6\", \"gridcolor\": \"white\", \"gridwidth\": 2, \"linecolor\": \"white\", \"showbackground\": true, \"ticks\": \"\", \"zerolinecolor\": \"white\"}, \"yaxis\": {\"backgroundcolor\": \"#E5ECF6\", \"gridcolor\": \"white\", \"gridwidth\": 2, \"linecolor\": \"white\", \"showbackground\": true, \"ticks\": \"\", \"zerolinecolor\": \"white\"}, \"zaxis\": {\"backgroundcolor\": \"#E5ECF6\", \"gridcolor\": \"white\", \"gridwidth\": 2, \"linecolor\": \"white\", \"showbackground\": true, \"ticks\": \"\", \"zerolinecolor\": \"white\"}}, \"shapedefaults\": {\"line\": {\"color\": \"#2a3f5f\"}}, \"ternary\": {\"aaxis\": {\"gridcolor\": \"white\", \"linecolor\": \"white\", \"ticks\": \"\"}, \"baxis\": {\"gridcolor\": \"white\", \"linecolor\": \"white\", \"ticks\": \"\"}, \"bgcolor\": \"#E5ECF6\", \"caxis\": {\"gridcolor\": \"white\", \"linecolor\": \"white\", \"ticks\": \"\"}}, \"title\": {\"x\": 0.05}, \"xaxis\": {\"automargin\": true, \"gridcolor\": \"white\", \"linecolor\": \"white\", \"ticks\": \"\", \"title\": {\"standoff\": 15}, \"zerolinecolor\": \"white\", \"zerolinewidth\": 2}, \"yaxis\": {\"automargin\": true, \"gridcolor\": \"white\", \"linecolor\": \"white\", \"ticks\": \"\", \"title\": {\"standoff\": 15}, \"zerolinecolor\": \"white\", \"zerolinewidth\": 2}}}, \"title\": {\"text\": \"Single Models Comparison\", \"x\": 0.5, \"xanchor\": \"center\", \"y\": 0.9, \"yanchor\": \"top\"}, \"xaxis\": {\"title\": {\"text\": \"Model\"}}},\n",
              "                        {\"responsive\": true}\n",
              "                    ).then(function(){\n",
              "                            \n",
              "var gd = document.getElementById('f10c8567-a9d3-4666-8343-958599a7f615');\n",
              "var x = new MutationObserver(function (mutations, observer) {{\n",
              "        var display = window.getComputedStyle(gd).display;\n",
              "        if (!display || display === 'none') {{\n",
              "            console.log([gd, 'removed!']);\n",
              "            Plotly.purge(gd);\n",
              "            observer.disconnect();\n",
              "        }}\n",
              "}});\n",
              "\n",
              "// Listen for the removal of the full notebook cells\n",
              "var notebookContainer = gd.closest('#notebook-container');\n",
              "if (notebookContainer) {{\n",
              "    x.observe(notebookContainer, {childList: true});\n",
              "}}\n",
              "\n",
              "// Listen for the clearing of the current output cell\n",
              "var outputEl = gd.closest('.output');\n",
              "if (outputEl) {{\n",
              "    x.observe(outputEl, {childList: true});\n",
              "}}\n",
              "\n",
              "                        })\n",
              "                };\n",
              "                \n",
              "            </script>\n",
              "        </div>\n",
              "</body>\n",
              "</html>"
            ]
          },
          "metadata": {
            "tags": []
          }
        },
        {
          "output_type": "display_data",
          "data": {
            "text/html": [
              "<html>\n",
              "<head><meta charset=\"utf-8\" /></head>\n",
              "<body>\n",
              "    <div>\n",
              "            <script src=\"https://cdnjs.cloudflare.com/ajax/libs/mathjax/2.7.5/MathJax.js?config=TeX-AMS-MML_SVG\"></script><script type=\"text/javascript\">if (window.MathJax) {MathJax.Hub.Config({SVG: {font: \"STIX-Web\"}});}</script>\n",
              "                <script type=\"text/javascript\">window.PlotlyConfig = {MathJaxConfig: 'local'};</script>\n",
              "        <script src=\"https://cdn.plot.ly/plotly-latest.min.js\"></script>    \n",
              "            <div id=\"f10c8567-a9d3-4666-8343-958599a7f615\" class=\"plotly-graph-div\" style=\"height:525px; width:100%;\"></div>\n",
              "            <script type=\"text/javascript\">\n",
              "                \n",
              "                    window.PLOTLYENV=window.PLOTLYENV || {};\n",
              "                    \n",
              "                if (document.getElementById(\"f10c8567-a9d3-4666-8343-958599a7f615\")) {\n",
              "                    Plotly.newPlot(\n",
              "                        'f10c8567-a9d3-4666-8343-958599a7f615',\n",
              "                        [{\"name\": \"RMSE\", \"type\": \"bar\", \"x\": [\"SVD\", \"SVD++\", \"Content Model\"], \"y\": [1.2744671910783822, 1.2423875387287435, 1.3733065301970406]}, {\"name\": \"MAE\", \"type\": \"bar\", \"x\": [\"SVD\", \"SVD++\", \"Content Model\"], \"y\": [0.9539485657541048, 0.9408145196120585, 1.019183807919129]}],\n",
              "                        {\"barmode\": \"group\", \"template\": {\"data\": {\"bar\": [{\"error_x\": {\"color\": \"#2a3f5f\"}, \"error_y\": {\"color\": \"#2a3f5f\"}, \"marker\": {\"line\": {\"color\": \"#E5ECF6\", \"width\": 0.5}}, \"type\": \"bar\"}], \"barpolar\": [{\"marker\": {\"line\": {\"color\": \"#E5ECF6\", \"width\": 0.5}}, \"type\": \"barpolar\"}], \"carpet\": [{\"aaxis\": {\"endlinecolor\": \"#2a3f5f\", \"gridcolor\": \"white\", \"linecolor\": \"white\", \"minorgridcolor\": \"white\", \"startlinecolor\": \"#2a3f5f\"}, \"baxis\": {\"endlinecolor\": \"#2a3f5f\", \"gridcolor\": \"white\", \"linecolor\": \"white\", \"minorgridcolor\": \"white\", \"startlinecolor\": \"#2a3f5f\"}, \"type\": \"carpet\"}], \"choropleth\": [{\"colorbar\": {\"outlinewidth\": 0, \"ticks\": \"\"}, \"type\": \"choropleth\"}], \"contour\": [{\"colorbar\": {\"outlinewidth\": 0, \"ticks\": \"\"}, \"colorscale\": [[0.0, \"#0d0887\"], [0.1111111111111111, \"#46039f\"], [0.2222222222222222, \"#7201a8\"], [0.3333333333333333, \"#9c179e\"], [0.4444444444444444, \"#bd3786\"], [0.5555555555555556, \"#d8576b\"], [0.6666666666666666, \"#ed7953\"], [0.7777777777777778, \"#fb9f3a\"], [0.8888888888888888, \"#fdca26\"], [1.0, \"#f0f921\"]], \"type\": \"contour\"}], \"contourcarpet\": [{\"colorbar\": {\"outlinewidth\": 0, \"ticks\": \"\"}, \"type\": \"contourcarpet\"}], \"heatmap\": [{\"colorbar\": {\"outlinewidth\": 0, \"ticks\": \"\"}, \"colorscale\": [[0.0, \"#0d0887\"], [0.1111111111111111, \"#46039f\"], [0.2222222222222222, \"#7201a8\"], [0.3333333333333333, \"#9c179e\"], [0.4444444444444444, \"#bd3786\"], [0.5555555555555556, \"#d8576b\"], [0.6666666666666666, \"#ed7953\"], [0.7777777777777778, \"#fb9f3a\"], [0.8888888888888888, \"#fdca26\"], [1.0, \"#f0f921\"]], \"type\": \"heatmap\"}], \"heatmapgl\": [{\"colorbar\": {\"outlinewidth\": 0, \"ticks\": \"\"}, \"colorscale\": [[0.0, \"#0d0887\"], [0.1111111111111111, \"#46039f\"], [0.2222222222222222, \"#7201a8\"], [0.3333333333333333, \"#9c179e\"], [0.4444444444444444, \"#bd3786\"], [0.5555555555555556, \"#d8576b\"], [0.6666666666666666, \"#ed7953\"], [0.7777777777777778, \"#fb9f3a\"], [0.8888888888888888, \"#fdca26\"], [1.0, \"#f0f921\"]], \"type\": \"heatmapgl\"}], \"histogram\": [{\"marker\": {\"colorbar\": {\"outlinewidth\": 0, \"ticks\": \"\"}}, \"type\": \"histogram\"}], \"histogram2d\": [{\"colorbar\": {\"outlinewidth\": 0, \"ticks\": \"\"}, \"colorscale\": [[0.0, \"#0d0887\"], [0.1111111111111111, \"#46039f\"], [0.2222222222222222, \"#7201a8\"], [0.3333333333333333, \"#9c179e\"], [0.4444444444444444, \"#bd3786\"], [0.5555555555555556, \"#d8576b\"], [0.6666666666666666, \"#ed7953\"], [0.7777777777777778, \"#fb9f3a\"], [0.8888888888888888, \"#fdca26\"], [1.0, \"#f0f921\"]], \"type\": \"histogram2d\"}], \"histogram2dcontour\": [{\"colorbar\": {\"outlinewidth\": 0, \"ticks\": \"\"}, \"colorscale\": [[0.0, \"#0d0887\"], [0.1111111111111111, \"#46039f\"], [0.2222222222222222, \"#7201a8\"], [0.3333333333333333, \"#9c179e\"], [0.4444444444444444, \"#bd3786\"], [0.5555555555555556, \"#d8576b\"], [0.6666666666666666, \"#ed7953\"], [0.7777777777777778, \"#fb9f3a\"], [0.8888888888888888, \"#fdca26\"], [1.0, \"#f0f921\"]], \"type\": \"histogram2dcontour\"}], \"mesh3d\": [{\"colorbar\": {\"outlinewidth\": 0, \"ticks\": \"\"}, \"type\": \"mesh3d\"}], \"parcoords\": [{\"line\": {\"colorbar\": {\"outlinewidth\": 0, \"ticks\": \"\"}}, \"type\": \"parcoords\"}], \"pie\": [{\"automargin\": true, \"type\": \"pie\"}], \"scatter\": [{\"marker\": {\"colorbar\": {\"outlinewidth\": 0, \"ticks\": \"\"}}, \"type\": \"scatter\"}], \"scatter3d\": [{\"line\": {\"colorbar\": {\"outlinewidth\": 0, \"ticks\": \"\"}}, \"marker\": {\"colorbar\": {\"outlinewidth\": 0, \"ticks\": \"\"}}, \"type\": \"scatter3d\"}], \"scattercarpet\": [{\"marker\": {\"colorbar\": {\"outlinewidth\": 0, \"ticks\": \"\"}}, \"type\": \"scattercarpet\"}], \"scattergeo\": [{\"marker\": {\"colorbar\": {\"outlinewidth\": 0, \"ticks\": \"\"}}, \"type\": \"scattergeo\"}], \"scattergl\": [{\"marker\": {\"colorbar\": {\"outlinewidth\": 0, \"ticks\": \"\"}}, \"type\": \"scattergl\"}], \"scattermapbox\": [{\"marker\": {\"colorbar\": {\"outlinewidth\": 0, \"ticks\": \"\"}}, \"type\": \"scattermapbox\"}], \"scatterpolar\": [{\"marker\": {\"colorbar\": {\"outlinewidth\": 0, \"ticks\": \"\"}}, \"type\": \"scatterpolar\"}], \"scatterpolargl\": [{\"marker\": {\"colorbar\": {\"outlinewidth\": 0, \"ticks\": \"\"}}, \"type\": \"scatterpolargl\"}], \"scatterternary\": [{\"marker\": {\"colorbar\": {\"outlinewidth\": 0, \"ticks\": \"\"}}, \"type\": \"scatterternary\"}], \"surface\": [{\"colorbar\": {\"outlinewidth\": 0, \"ticks\": \"\"}, \"colorscale\": [[0.0, \"#0d0887\"], [0.1111111111111111, \"#46039f\"], [0.2222222222222222, \"#7201a8\"], [0.3333333333333333, \"#9c179e\"], [0.4444444444444444, \"#bd3786\"], [0.5555555555555556, \"#d8576b\"], [0.6666666666666666, \"#ed7953\"], [0.7777777777777778, \"#fb9f3a\"], [0.8888888888888888, \"#fdca26\"], [1.0, \"#f0f921\"]], \"type\": \"surface\"}], \"table\": [{\"cells\": {\"fill\": {\"color\": \"#EBF0F8\"}, \"line\": {\"color\": \"white\"}}, \"header\": {\"fill\": {\"color\": \"#C8D4E3\"}, \"line\": {\"color\": \"white\"}}, \"type\": \"table\"}]}, \"layout\": {\"annotationdefaults\": {\"arrowcolor\": \"#2a3f5f\", \"arrowhead\": 0, \"arrowwidth\": 1}, \"coloraxis\": {\"colorbar\": {\"outlinewidth\": 0, \"ticks\": \"\"}}, \"colorscale\": {\"diverging\": [[0, \"#8e0152\"], [0.1, \"#c51b7d\"], [0.2, \"#de77ae\"], [0.3, \"#f1b6da\"], [0.4, \"#fde0ef\"], [0.5, \"#f7f7f7\"], [0.6, \"#e6f5d0\"], [0.7, \"#b8e186\"], [0.8, \"#7fbc41\"], [0.9, \"#4d9221\"], [1, \"#276419\"]], \"sequential\": [[0.0, \"#0d0887\"], [0.1111111111111111, \"#46039f\"], [0.2222222222222222, \"#7201a8\"], [0.3333333333333333, \"#9c179e\"], [0.4444444444444444, \"#bd3786\"], [0.5555555555555556, \"#d8576b\"], [0.6666666666666666, \"#ed7953\"], [0.7777777777777778, \"#fb9f3a\"], [0.8888888888888888, \"#fdca26\"], [1.0, \"#f0f921\"]], \"sequentialminus\": [[0.0, \"#0d0887\"], [0.1111111111111111, \"#46039f\"], [0.2222222222222222, \"#7201a8\"], [0.3333333333333333, \"#9c179e\"], [0.4444444444444444, \"#bd3786\"], [0.5555555555555556, \"#d8576b\"], [0.6666666666666666, \"#ed7953\"], [0.7777777777777778, \"#fb9f3a\"], [0.8888888888888888, \"#fdca26\"], [1.0, \"#f0f921\"]]}, \"colorway\": [\"#636efa\", \"#EF553B\", \"#00cc96\", \"#ab63fa\", \"#FFA15A\", \"#19d3f3\", \"#FF6692\", \"#B6E880\", \"#FF97FF\", \"#FECB52\"], \"font\": {\"color\": \"#2a3f5f\"}, \"geo\": {\"bgcolor\": \"white\", \"lakecolor\": \"white\", \"landcolor\": \"#E5ECF6\", \"showlakes\": true, \"showland\": true, \"subunitcolor\": \"white\"}, \"hoverlabel\": {\"align\": \"left\"}, \"hovermode\": \"closest\", \"mapbox\": {\"style\": \"light\"}, \"paper_bgcolor\": \"white\", \"plot_bgcolor\": \"#E5ECF6\", \"polar\": {\"angularaxis\": {\"gridcolor\": \"white\", \"linecolor\": \"white\", \"ticks\": \"\"}, \"bgcolor\": \"#E5ECF6\", \"radialaxis\": {\"gridcolor\": \"white\", \"linecolor\": \"white\", \"ticks\": \"\"}}, \"scene\": {\"xaxis\": {\"backgroundcolor\": \"#E5ECF6\", \"gridcolor\": \"white\", \"gridwidth\": 2, \"linecolor\": \"white\", \"showbackground\": true, \"ticks\": \"\", \"zerolinecolor\": \"white\"}, \"yaxis\": {\"backgroundcolor\": \"#E5ECF6\", \"gridcolor\": \"white\", \"gridwidth\": 2, \"linecolor\": \"white\", \"showbackground\": true, \"ticks\": \"\", \"zerolinecolor\": \"white\"}, \"zaxis\": {\"backgroundcolor\": \"#E5ECF6\", \"gridcolor\": \"white\", \"gridwidth\": 2, \"linecolor\": \"white\", \"showbackground\": true, \"ticks\": \"\", \"zerolinecolor\": \"white\"}}, \"shapedefaults\": {\"line\": {\"color\": \"#2a3f5f\"}}, \"ternary\": {\"aaxis\": {\"gridcolor\": \"white\", \"linecolor\": \"white\", \"ticks\": \"\"}, \"baxis\": {\"gridcolor\": \"white\", \"linecolor\": \"white\", \"ticks\": \"\"}, \"bgcolor\": \"#E5ECF6\", \"caxis\": {\"gridcolor\": \"white\", \"linecolor\": \"white\", \"ticks\": \"\"}}, \"title\": {\"x\": 0.05}, \"xaxis\": {\"automargin\": true, \"gridcolor\": \"white\", \"linecolor\": \"white\", \"ticks\": \"\", \"title\": {\"standoff\": 15}, \"zerolinecolor\": \"white\", \"zerolinewidth\": 2}, \"yaxis\": {\"automargin\": true, \"gridcolor\": \"white\", \"linecolor\": \"white\", \"ticks\": \"\", \"title\": {\"standoff\": 15}, \"zerolinecolor\": \"white\", \"zerolinewidth\": 2}}}, \"title\": {\"text\": \"Single Models Comparison\", \"x\": 0.5, \"xanchor\": \"center\", \"y\": 0.9, \"yanchor\": \"top\"}, \"xaxis\": {\"title\": {\"text\": \"Model\"}}},\n",
              "                        {\"responsive\": true}\n",
              "                    ).then(function(){\n",
              "                            \n",
              "var gd = document.getElementById('f10c8567-a9d3-4666-8343-958599a7f615');\n",
              "var x = new MutationObserver(function (mutations, observer) {{\n",
              "        var display = window.getComputedStyle(gd).display;\n",
              "        if (!display || display === 'none') {{\n",
              "            console.log([gd, 'removed!']);\n",
              "            Plotly.purge(gd);\n",
              "            observer.disconnect();\n",
              "        }}\n",
              "}});\n",
              "\n",
              "// Listen for the removal of the full notebook cells\n",
              "var notebookContainer = gd.closest('#notebook-container');\n",
              "if (notebookContainer) {{\n",
              "    x.observe(notebookContainer, {childList: true});\n",
              "}}\n",
              "\n",
              "// Listen for the clearing of the current output cell\n",
              "var outputEl = gd.closest('.output');\n",
              "if (outputEl) {{\n",
              "    x.observe(outputEl, {childList: true});\n",
              "}}\n",
              "\n",
              "                        })\n",
              "                };\n",
              "                \n",
              "            </script>\n",
              "        </div>\n",
              "</body>\n",
              "</html>"
            ]
          },
          "metadata": {
            "tags": []
          }
        }
      ]
    },
    {
      "cell_type": "markdown",
      "metadata": {
        "id": "EBxg_9cPCJXm"
      },
      "source": [
        "When comparing all the single models to one another, we notice that SVD and SVD++ outperform the content model, both by RMSE and MAE. Moreover, as already seen in the comparison we conducted between the first two models in part 4, SVD++ outperforms SVD, which makes it the best single model in terms of RMSE and MAE, among the ones examined. "
      ]
    },
    {
      "cell_type": "markdown",
      "metadata": {
        "id": "saZI8HOoR4Gy"
      },
      "source": [
        "## Part 8 - Ensamble Model"
      ]
    },
    {
      "cell_type": "markdown",
      "metadata": {
        "id": "YXpoRQMQUUuc"
      },
      "source": [
        "### Combining the three examined models"
      ]
    },
    {
      "cell_type": "markdown",
      "metadata": {
        "id": "yr-Iwhv_CPV4"
      },
      "source": [
        "We will combine our three previous models, in the aim to make use of the advantages of each one of them and hopefully improve the metrics results.\n",
        "Afterwards, we will compare the performance of the combined model (ensemble) and the single models."
      ]
    },
    {
      "cell_type": "markdown",
      "metadata": {
        "id": "sjREcuVSzKDs"
      },
      "source": [
        "Our ensamble model uses a weighted average of the predictions from the three models. We devide 1 by each model's RMSE, so that a larger RMSE will result in a lower weight for that model. We then normalize the weights so that they will sum to 1. In this way, we give greater weight to models that performed better during validation."
      ]
    },
    {
      "cell_type": "code",
      "metadata": {
        "id": "d693LYFf2Zww"
      },
      "source": [
        "def TrainHybridModel():\n",
        "  sum_RMSE = (1/best_content_model_val_RMSE) + (1/best_SVD_val_RMSE) + (1/best_SVD_plus_val_RMSE)\n",
        "  # normalize\n",
        "  weights = {'content': (1/best_content_model_val_RMSE)/sum_RMSE, 'SVD': (1/best_SVD_val_RMSE)/sum_RMSE, 'SVD++': (1/best_SVD_plus_val_RMSE)/sum_RMSE} \n",
        "  return weights\n",
        "\n",
        "def hybrid_model_predict(data_ratings, data_content):\n",
        "    global SVD_model, SVD_PlusPlus_Model\n",
        "    predictions = np.zeros(len(data_ratings))\n",
        "    # Weights\n",
        "    weights_dict = TrainHybridModel()\n",
        "    # SVD\n",
        "    predictions += weights_dict['SVD'] * np.array(SVDGetPredictions(SVD_model, data_ratings))\n",
        "    del SVD_model\n",
        "    # SVD++\n",
        "    predictions += weights_dict['SVD++'] * np.array(ImprovedSVDGetPredictions(SVD_PlusPlus_Model, data_ratings))\n",
        "    del SVD_PlusPlus_Model\n",
        "    # Content model\n",
        "    predictions += weights_dict['content'] * np.array(content_model_predict(data_content, best_content_model))\n",
        "\n",
        "    return predictions"
      ],
      "execution_count": null,
      "outputs": []
    },
    {
      "cell_type": "code",
      "metadata": {
        "id": "OA6EItQcA5-p"
      },
      "source": [
        "# predict for ensemble model\n",
        "predictions = hybrid_model_predict(test_data, content_test)\n",
        "r_real = list(test_data['stars'])\n",
        "RMSE = calculate_RMSE(r_real, predictions)\n",
        "MAE = calculate_MAE(r_real, predictions)\n",
        "\n",
        "model_names.append('Ensemble')\n",
        "all_RMSE.append(RMSE)\n",
        "all_MAE.append(MAE)"
      ],
      "execution_count": null,
      "outputs": []
    },
    {
      "cell_type": "markdown",
      "metadata": {
        "id": "8wx6_4362WgY"
      },
      "source": [
        "### Ensemble model and Single Model Comparison\n"
      ]
    },
    {
      "cell_type": "code",
      "metadata": {
        "colab": {
          "base_uri": "https://localhost:8080/",
          "height": 317
        },
        "id": "S_AwEsdaVKUi",
        "outputId": "a30613b0-0d14-45f5-e1cc-069255fb19f8"
      },
      "source": [
        "# Comparison table\n",
        "fig = go.Figure(data=[go.Table(\n",
        "    header=dict(values=['Model name', 'RMSE', 'MAE'],\n",
        "                line_color='darkslategray',\n",
        "                fill_color='lightskyblue',\n",
        "                align='left'),\n",
        "    cells=dict(values=[model_names,\n",
        "                       [f'{rmse: .3f}'for rmse in all_RMSE], [f'{mae: .3f}'for mae in all_MAE]],\n",
        "               line_color='darkslategray',\n",
        "               fill_color='lightcyan',\n",
        "               align='left'))\n",
        "])\n",
        "\n",
        "fig.update_layout(width=500, height=300)\n",
        "fig.show()"
      ],
      "execution_count": null,
      "outputs": [
        {
          "output_type": "display_data",
          "data": {
            "text/html": [
              "<html>\n",
              "<head><meta charset=\"utf-8\" /></head>\n",
              "<body>\n",
              "    <div>\n",
              "            <script src=\"https://cdnjs.cloudflare.com/ajax/libs/mathjax/2.7.5/MathJax.js?config=TeX-AMS-MML_SVG\"></script><script type=\"text/javascript\">if (window.MathJax) {MathJax.Hub.Config({SVG: {font: \"STIX-Web\"}});}</script>\n",
              "                <script type=\"text/javascript\">window.PlotlyConfig = {MathJaxConfig: 'local'};</script>\n",
              "        <script src=\"https://cdn.plot.ly/plotly-latest.min.js\"></script>    \n",
              "            <div id=\"b7ad32d2-74da-4c34-9554-3e6a951d325c\" class=\"plotly-graph-div\" style=\"height:300px; width:500px;\"></div>\n",
              "            <script type=\"text/javascript\">\n",
              "                \n",
              "                    window.PLOTLYENV=window.PLOTLYENV || {};\n",
              "                    \n",
              "                if (document.getElementById(\"b7ad32d2-74da-4c34-9554-3e6a951d325c\")) {\n",
              "                    Plotly.newPlot(\n",
              "                        'b7ad32d2-74da-4c34-9554-3e6a951d325c',\n",
              "                        [{\"cells\": {\"align\": \"left\", \"fill\": {\"color\": \"lightcyan\"}, \"line\": {\"color\": \"darkslategray\"}, \"values\": [[\"SVD\", \"SVD++\", \"Content Model\", \"Ensemble\"], [\" 1.274\", \" 1.242\", \" 1.373\", \" 1.242\"], [\" 0.954\", \" 0.941\", \" 1.019\", \" 0.946\"]]}, \"header\": {\"align\": \"left\", \"fill\": {\"color\": \"lightskyblue\"}, \"line\": {\"color\": \"darkslategray\"}, \"values\": [\"Model name\", \"RMSE\", \"MAE\"]}, \"type\": \"table\"}],\n",
              "                        {\"height\": 300, \"template\": {\"data\": {\"bar\": [{\"error_x\": {\"color\": \"#2a3f5f\"}, \"error_y\": {\"color\": \"#2a3f5f\"}, \"marker\": {\"line\": {\"color\": \"#E5ECF6\", \"width\": 0.5}}, \"type\": \"bar\"}], \"barpolar\": [{\"marker\": {\"line\": {\"color\": \"#E5ECF6\", \"width\": 0.5}}, \"type\": \"barpolar\"}], \"carpet\": [{\"aaxis\": {\"endlinecolor\": \"#2a3f5f\", \"gridcolor\": \"white\", \"linecolor\": \"white\", \"minorgridcolor\": \"white\", \"startlinecolor\": \"#2a3f5f\"}, \"baxis\": {\"endlinecolor\": \"#2a3f5f\", \"gridcolor\": \"white\", \"linecolor\": \"white\", \"minorgridcolor\": \"white\", \"startlinecolor\": \"#2a3f5f\"}, \"type\": \"carpet\"}], \"choropleth\": [{\"colorbar\": {\"outlinewidth\": 0, \"ticks\": \"\"}, \"type\": \"choropleth\"}], \"contour\": [{\"colorbar\": {\"outlinewidth\": 0, \"ticks\": \"\"}, \"colorscale\": [[0.0, \"#0d0887\"], [0.1111111111111111, \"#46039f\"], [0.2222222222222222, \"#7201a8\"], [0.3333333333333333, \"#9c179e\"], [0.4444444444444444, \"#bd3786\"], [0.5555555555555556, \"#d8576b\"], [0.6666666666666666, \"#ed7953\"], [0.7777777777777778, \"#fb9f3a\"], [0.8888888888888888, \"#fdca26\"], [1.0, \"#f0f921\"]], \"type\": \"contour\"}], \"contourcarpet\": [{\"colorbar\": {\"outlinewidth\": 0, \"ticks\": \"\"}, \"type\": \"contourcarpet\"}], \"heatmap\": [{\"colorbar\": {\"outlinewidth\": 0, \"ticks\": \"\"}, \"colorscale\": [[0.0, \"#0d0887\"], [0.1111111111111111, \"#46039f\"], [0.2222222222222222, \"#7201a8\"], [0.3333333333333333, \"#9c179e\"], [0.4444444444444444, \"#bd3786\"], [0.5555555555555556, \"#d8576b\"], [0.6666666666666666, \"#ed7953\"], [0.7777777777777778, \"#fb9f3a\"], [0.8888888888888888, \"#fdca26\"], [1.0, \"#f0f921\"]], \"type\": \"heatmap\"}], \"heatmapgl\": [{\"colorbar\": {\"outlinewidth\": 0, \"ticks\": \"\"}, \"colorscale\": [[0.0, \"#0d0887\"], [0.1111111111111111, \"#46039f\"], [0.2222222222222222, \"#7201a8\"], [0.3333333333333333, \"#9c179e\"], [0.4444444444444444, \"#bd3786\"], [0.5555555555555556, \"#d8576b\"], [0.6666666666666666, \"#ed7953\"], [0.7777777777777778, \"#fb9f3a\"], [0.8888888888888888, \"#fdca26\"], [1.0, \"#f0f921\"]], \"type\": \"heatmapgl\"}], \"histogram\": [{\"marker\": {\"colorbar\": {\"outlinewidth\": 0, \"ticks\": \"\"}}, \"type\": \"histogram\"}], \"histogram2d\": [{\"colorbar\": {\"outlinewidth\": 0, \"ticks\": \"\"}, \"colorscale\": [[0.0, \"#0d0887\"], [0.1111111111111111, \"#46039f\"], [0.2222222222222222, \"#7201a8\"], [0.3333333333333333, \"#9c179e\"], [0.4444444444444444, \"#bd3786\"], [0.5555555555555556, \"#d8576b\"], [0.6666666666666666, \"#ed7953\"], [0.7777777777777778, \"#fb9f3a\"], [0.8888888888888888, \"#fdca26\"], [1.0, \"#f0f921\"]], \"type\": \"histogram2d\"}], \"histogram2dcontour\": [{\"colorbar\": {\"outlinewidth\": 0, \"ticks\": \"\"}, \"colorscale\": [[0.0, \"#0d0887\"], [0.1111111111111111, \"#46039f\"], [0.2222222222222222, \"#7201a8\"], [0.3333333333333333, \"#9c179e\"], [0.4444444444444444, \"#bd3786\"], [0.5555555555555556, \"#d8576b\"], [0.6666666666666666, \"#ed7953\"], [0.7777777777777778, \"#fb9f3a\"], [0.8888888888888888, \"#fdca26\"], [1.0, \"#f0f921\"]], \"type\": \"histogram2dcontour\"}], \"mesh3d\": [{\"colorbar\": {\"outlinewidth\": 0, \"ticks\": \"\"}, \"type\": \"mesh3d\"}], \"parcoords\": [{\"line\": {\"colorbar\": {\"outlinewidth\": 0, \"ticks\": \"\"}}, \"type\": \"parcoords\"}], \"pie\": [{\"automargin\": true, \"type\": \"pie\"}], \"scatter\": [{\"marker\": {\"colorbar\": {\"outlinewidth\": 0, \"ticks\": \"\"}}, \"type\": \"scatter\"}], \"scatter3d\": [{\"line\": {\"colorbar\": {\"outlinewidth\": 0, \"ticks\": \"\"}}, \"marker\": {\"colorbar\": {\"outlinewidth\": 0, \"ticks\": \"\"}}, \"type\": \"scatter3d\"}], \"scattercarpet\": [{\"marker\": {\"colorbar\": {\"outlinewidth\": 0, \"ticks\": \"\"}}, \"type\": \"scattercarpet\"}], \"scattergeo\": [{\"marker\": {\"colorbar\": {\"outlinewidth\": 0, \"ticks\": \"\"}}, \"type\": \"scattergeo\"}], \"scattergl\": [{\"marker\": {\"colorbar\": {\"outlinewidth\": 0, \"ticks\": \"\"}}, \"type\": \"scattergl\"}], \"scattermapbox\": [{\"marker\": {\"colorbar\": {\"outlinewidth\": 0, \"ticks\": \"\"}}, \"type\": \"scattermapbox\"}], \"scatterpolar\": [{\"marker\": {\"colorbar\": {\"outlinewidth\": 0, \"ticks\": \"\"}}, \"type\": \"scatterpolar\"}], \"scatterpolargl\": [{\"marker\": {\"colorbar\": {\"outlinewidth\": 0, \"ticks\": \"\"}}, \"type\": \"scatterpolargl\"}], \"scatterternary\": [{\"marker\": {\"colorbar\": {\"outlinewidth\": 0, \"ticks\": \"\"}}, \"type\": \"scatterternary\"}], \"surface\": [{\"colorbar\": {\"outlinewidth\": 0, \"ticks\": \"\"}, \"colorscale\": [[0.0, \"#0d0887\"], [0.1111111111111111, \"#46039f\"], [0.2222222222222222, \"#7201a8\"], [0.3333333333333333, \"#9c179e\"], [0.4444444444444444, \"#bd3786\"], [0.5555555555555556, \"#d8576b\"], [0.6666666666666666, \"#ed7953\"], [0.7777777777777778, \"#fb9f3a\"], [0.8888888888888888, \"#fdca26\"], [1.0, \"#f0f921\"]], \"type\": \"surface\"}], \"table\": [{\"cells\": {\"fill\": {\"color\": \"#EBF0F8\"}, \"line\": {\"color\": \"white\"}}, \"header\": {\"fill\": {\"color\": \"#C8D4E3\"}, \"line\": {\"color\": \"white\"}}, \"type\": \"table\"}]}, \"layout\": {\"annotationdefaults\": {\"arrowcolor\": \"#2a3f5f\", \"arrowhead\": 0, \"arrowwidth\": 1}, \"coloraxis\": {\"colorbar\": {\"outlinewidth\": 0, \"ticks\": \"\"}}, \"colorscale\": {\"diverging\": [[0, \"#8e0152\"], [0.1, \"#c51b7d\"], [0.2, \"#de77ae\"], [0.3, \"#f1b6da\"], [0.4, \"#fde0ef\"], [0.5, \"#f7f7f7\"], [0.6, \"#e6f5d0\"], [0.7, \"#b8e186\"], [0.8, \"#7fbc41\"], [0.9, \"#4d9221\"], [1, \"#276419\"]], \"sequential\": [[0.0, \"#0d0887\"], [0.1111111111111111, \"#46039f\"], [0.2222222222222222, \"#7201a8\"], [0.3333333333333333, \"#9c179e\"], [0.4444444444444444, \"#bd3786\"], [0.5555555555555556, \"#d8576b\"], [0.6666666666666666, \"#ed7953\"], [0.7777777777777778, \"#fb9f3a\"], [0.8888888888888888, \"#fdca26\"], [1.0, \"#f0f921\"]], \"sequentialminus\": [[0.0, \"#0d0887\"], [0.1111111111111111, \"#46039f\"], [0.2222222222222222, \"#7201a8\"], [0.3333333333333333, \"#9c179e\"], [0.4444444444444444, \"#bd3786\"], [0.5555555555555556, \"#d8576b\"], [0.6666666666666666, \"#ed7953\"], [0.7777777777777778, \"#fb9f3a\"], [0.8888888888888888, \"#fdca26\"], [1.0, \"#f0f921\"]]}, \"colorway\": [\"#636efa\", \"#EF553B\", \"#00cc96\", \"#ab63fa\", \"#FFA15A\", \"#19d3f3\", \"#FF6692\", \"#B6E880\", \"#FF97FF\", \"#FECB52\"], \"font\": {\"color\": \"#2a3f5f\"}, \"geo\": {\"bgcolor\": \"white\", \"lakecolor\": \"white\", \"landcolor\": \"#E5ECF6\", \"showlakes\": true, \"showland\": true, \"subunitcolor\": \"white\"}, \"hoverlabel\": {\"align\": \"left\"}, \"hovermode\": \"closest\", \"mapbox\": {\"style\": \"light\"}, \"paper_bgcolor\": \"white\", \"plot_bgcolor\": \"#E5ECF6\", \"polar\": {\"angularaxis\": {\"gridcolor\": \"white\", \"linecolor\": \"white\", \"ticks\": \"\"}, \"bgcolor\": \"#E5ECF6\", \"radialaxis\": {\"gridcolor\": \"white\", \"linecolor\": \"white\", \"ticks\": \"\"}}, \"scene\": {\"xaxis\": {\"backgroundcolor\": \"#E5ECF6\", \"gridcolor\": \"white\", \"gridwidth\": 2, \"linecolor\": \"white\", \"showbackground\": true, \"ticks\": \"\", \"zerolinecolor\": \"white\"}, \"yaxis\": {\"backgroundcolor\": \"#E5ECF6\", \"gridcolor\": \"white\", \"gridwidth\": 2, \"linecolor\": \"white\", \"showbackground\": true, \"ticks\": \"\", \"zerolinecolor\": \"white\"}, \"zaxis\": {\"backgroundcolor\": \"#E5ECF6\", \"gridcolor\": \"white\", \"gridwidth\": 2, \"linecolor\": \"white\", \"showbackground\": true, \"ticks\": \"\", \"zerolinecolor\": \"white\"}}, \"shapedefaults\": {\"line\": {\"color\": \"#2a3f5f\"}}, \"ternary\": {\"aaxis\": {\"gridcolor\": \"white\", \"linecolor\": \"white\", \"ticks\": \"\"}, \"baxis\": {\"gridcolor\": \"white\", \"linecolor\": \"white\", \"ticks\": \"\"}, \"bgcolor\": \"#E5ECF6\", \"caxis\": {\"gridcolor\": \"white\", \"linecolor\": \"white\", \"ticks\": \"\"}}, \"title\": {\"x\": 0.05}, \"xaxis\": {\"automargin\": true, \"gridcolor\": \"white\", \"linecolor\": \"white\", \"ticks\": \"\", \"title\": {\"standoff\": 15}, \"zerolinecolor\": \"white\", \"zerolinewidth\": 2}, \"yaxis\": {\"automargin\": true, \"gridcolor\": \"white\", \"linecolor\": \"white\", \"ticks\": \"\", \"title\": {\"standoff\": 15}, \"zerolinecolor\": \"white\", \"zerolinewidth\": 2}}}, \"width\": 500},\n",
              "                        {\"responsive\": true}\n",
              "                    ).then(function(){\n",
              "                            \n",
              "var gd = document.getElementById('b7ad32d2-74da-4c34-9554-3e6a951d325c');\n",
              "var x = new MutationObserver(function (mutations, observer) {{\n",
              "        var display = window.getComputedStyle(gd).display;\n",
              "        if (!display || display === 'none') {{\n",
              "            console.log([gd, 'removed!']);\n",
              "            Plotly.purge(gd);\n",
              "            observer.disconnect();\n",
              "        }}\n",
              "}});\n",
              "\n",
              "// Listen for the removal of the full notebook cells\n",
              "var notebookContainer = gd.closest('#notebook-container');\n",
              "if (notebookContainer) {{\n",
              "    x.observe(notebookContainer, {childList: true});\n",
              "}}\n",
              "\n",
              "// Listen for the clearing of the current output cell\n",
              "var outputEl = gd.closest('.output');\n",
              "if (outputEl) {{\n",
              "    x.observe(outputEl, {childList: true});\n",
              "}}\n",
              "\n",
              "                        })\n",
              "                };\n",
              "                \n",
              "            </script>\n",
              "        </div>\n",
              "</body>\n",
              "</html>"
            ]
          },
          "metadata": {
            "tags": []
          }
        }
      ]
    },
    {
      "cell_type": "code",
      "metadata": {
        "colab": {
          "base_uri": "https://localhost:8080/",
          "height": 542
        },
        "id": "vb56UrfPBs_U",
        "outputId": "78a4ea34-a121-4ce1-c5d5-48e0527ddbd8"
      },
      "source": [
        "# Comparison graph\n",
        "comparison_df = pd.DataFrame()\n",
        "comparison_df['Model name'] = model_names\n",
        "comparison_df['RMSE'] = all_RMSE\n",
        "comparison_df['MAE'] = all_MAE\n",
        "\n",
        "fig = go.Figure(data=[\n",
        "    go.Bar(name='RMSE', x=comparison_df['Model name'], y=comparison_df['RMSE']),\n",
        "    go.Bar(name='MAE', x=comparison_df['Model name'], y=comparison_df['MAE'])\n",
        "])\n",
        "# Change the bar mode\n",
        "fig.update_layout(barmode='group',  title={'text': \"All Models Comparison\",\n",
        "        'y':0.9,\n",
        "        'x':0.5,\n",
        "        'xanchor': 'center',\n",
        "        'yanchor': 'top'}, xaxis_title=\"Model\")\n",
        "fig.show()"
      ],
      "execution_count": null,
      "outputs": [
        {
          "output_type": "display_data",
          "data": {
            "text/html": [
              "<html>\n",
              "<head><meta charset=\"utf-8\" /></head>\n",
              "<body>\n",
              "    <div>\n",
              "            <script src=\"https://cdnjs.cloudflare.com/ajax/libs/mathjax/2.7.5/MathJax.js?config=TeX-AMS-MML_SVG\"></script><script type=\"text/javascript\">if (window.MathJax) {MathJax.Hub.Config({SVG: {font: \"STIX-Web\"}});}</script>\n",
              "                <script type=\"text/javascript\">window.PlotlyConfig = {MathJaxConfig: 'local'};</script>\n",
              "        <script src=\"https://cdn.plot.ly/plotly-latest.min.js\"></script>    \n",
              "            <div id=\"56dcc24b-b9ef-464b-921f-f88ed3efbab2\" class=\"plotly-graph-div\" style=\"height:525px; width:100%;\"></div>\n",
              "            <script type=\"text/javascript\">\n",
              "                \n",
              "                    window.PLOTLYENV=window.PLOTLYENV || {};\n",
              "                    \n",
              "                if (document.getElementById(\"56dcc24b-b9ef-464b-921f-f88ed3efbab2\")) {\n",
              "                    Plotly.newPlot(\n",
              "                        '56dcc24b-b9ef-464b-921f-f88ed3efbab2',\n",
              "                        [{\"name\": \"RMSE\", \"type\": \"bar\", \"x\": [\"SVD\", \"SVD++\", \"Content Model\", \"Ensemble\"], \"y\": [1.2744671910783822, 1.2423875387287435, 1.3733065301970406, 1.2417635861061593]}, {\"name\": \"MAE\", \"type\": \"bar\", \"x\": [\"SVD\", \"SVD++\", \"Content Model\", \"Ensemble\"], \"y\": [0.9539485657541048, 0.9408145196120585, 1.019183807919129, 0.9461763705508172]}],\n",
              "                        {\"barmode\": \"group\", \"template\": {\"data\": {\"bar\": [{\"error_x\": {\"color\": \"#2a3f5f\"}, \"error_y\": {\"color\": \"#2a3f5f\"}, \"marker\": {\"line\": {\"color\": \"#E5ECF6\", \"width\": 0.5}}, \"type\": \"bar\"}], \"barpolar\": [{\"marker\": {\"line\": {\"color\": \"#E5ECF6\", \"width\": 0.5}}, \"type\": \"barpolar\"}], \"carpet\": [{\"aaxis\": {\"endlinecolor\": \"#2a3f5f\", \"gridcolor\": \"white\", \"linecolor\": \"white\", \"minorgridcolor\": \"white\", \"startlinecolor\": \"#2a3f5f\"}, \"baxis\": {\"endlinecolor\": \"#2a3f5f\", \"gridcolor\": \"white\", \"linecolor\": \"white\", \"minorgridcolor\": \"white\", \"startlinecolor\": \"#2a3f5f\"}, \"type\": \"carpet\"}], \"choropleth\": [{\"colorbar\": {\"outlinewidth\": 0, \"ticks\": \"\"}, \"type\": \"choropleth\"}], \"contour\": [{\"colorbar\": {\"outlinewidth\": 0, \"ticks\": \"\"}, \"colorscale\": [[0.0, \"#0d0887\"], [0.1111111111111111, \"#46039f\"], [0.2222222222222222, \"#7201a8\"], [0.3333333333333333, \"#9c179e\"], [0.4444444444444444, \"#bd3786\"], [0.5555555555555556, \"#d8576b\"], [0.6666666666666666, \"#ed7953\"], [0.7777777777777778, \"#fb9f3a\"], [0.8888888888888888, \"#fdca26\"], [1.0, \"#f0f921\"]], \"type\": \"contour\"}], \"contourcarpet\": [{\"colorbar\": {\"outlinewidth\": 0, \"ticks\": \"\"}, \"type\": \"contourcarpet\"}], \"heatmap\": [{\"colorbar\": {\"outlinewidth\": 0, \"ticks\": \"\"}, \"colorscale\": [[0.0, \"#0d0887\"], [0.1111111111111111, \"#46039f\"], [0.2222222222222222, \"#7201a8\"], [0.3333333333333333, \"#9c179e\"], [0.4444444444444444, \"#bd3786\"], [0.5555555555555556, \"#d8576b\"], [0.6666666666666666, \"#ed7953\"], [0.7777777777777778, \"#fb9f3a\"], [0.8888888888888888, \"#fdca26\"], [1.0, \"#f0f921\"]], \"type\": \"heatmap\"}], \"heatmapgl\": [{\"colorbar\": {\"outlinewidth\": 0, \"ticks\": \"\"}, \"colorscale\": [[0.0, \"#0d0887\"], [0.1111111111111111, \"#46039f\"], [0.2222222222222222, \"#7201a8\"], [0.3333333333333333, \"#9c179e\"], [0.4444444444444444, \"#bd3786\"], [0.5555555555555556, \"#d8576b\"], [0.6666666666666666, \"#ed7953\"], [0.7777777777777778, \"#fb9f3a\"], [0.8888888888888888, \"#fdca26\"], [1.0, \"#f0f921\"]], \"type\": \"heatmapgl\"}], \"histogram\": [{\"marker\": {\"colorbar\": {\"outlinewidth\": 0, \"ticks\": \"\"}}, \"type\": \"histogram\"}], \"histogram2d\": [{\"colorbar\": {\"outlinewidth\": 0, \"ticks\": \"\"}, \"colorscale\": [[0.0, \"#0d0887\"], [0.1111111111111111, \"#46039f\"], [0.2222222222222222, \"#7201a8\"], [0.3333333333333333, \"#9c179e\"], [0.4444444444444444, \"#bd3786\"], [0.5555555555555556, \"#d8576b\"], [0.6666666666666666, \"#ed7953\"], [0.7777777777777778, \"#fb9f3a\"], [0.8888888888888888, \"#fdca26\"], [1.0, \"#f0f921\"]], \"type\": \"histogram2d\"}], \"histogram2dcontour\": [{\"colorbar\": {\"outlinewidth\": 0, \"ticks\": \"\"}, \"colorscale\": [[0.0, \"#0d0887\"], [0.1111111111111111, \"#46039f\"], [0.2222222222222222, \"#7201a8\"], [0.3333333333333333, \"#9c179e\"], [0.4444444444444444, \"#bd3786\"], [0.5555555555555556, \"#d8576b\"], [0.6666666666666666, \"#ed7953\"], [0.7777777777777778, \"#fb9f3a\"], [0.8888888888888888, \"#fdca26\"], [1.0, \"#f0f921\"]], \"type\": \"histogram2dcontour\"}], \"mesh3d\": [{\"colorbar\": {\"outlinewidth\": 0, \"ticks\": \"\"}, \"type\": \"mesh3d\"}], \"parcoords\": [{\"line\": {\"colorbar\": {\"outlinewidth\": 0, \"ticks\": \"\"}}, \"type\": \"parcoords\"}], \"pie\": [{\"automargin\": true, \"type\": \"pie\"}], \"scatter\": [{\"marker\": {\"colorbar\": {\"outlinewidth\": 0, \"ticks\": \"\"}}, \"type\": \"scatter\"}], \"scatter3d\": [{\"line\": {\"colorbar\": {\"outlinewidth\": 0, \"ticks\": \"\"}}, \"marker\": {\"colorbar\": {\"outlinewidth\": 0, \"ticks\": \"\"}}, \"type\": \"scatter3d\"}], \"scattercarpet\": [{\"marker\": {\"colorbar\": {\"outlinewidth\": 0, \"ticks\": \"\"}}, \"type\": \"scattercarpet\"}], \"scattergeo\": [{\"marker\": {\"colorbar\": {\"outlinewidth\": 0, \"ticks\": \"\"}}, \"type\": \"scattergeo\"}], \"scattergl\": [{\"marker\": {\"colorbar\": {\"outlinewidth\": 0, \"ticks\": \"\"}}, \"type\": \"scattergl\"}], \"scattermapbox\": [{\"marker\": {\"colorbar\": {\"outlinewidth\": 0, \"ticks\": \"\"}}, \"type\": \"scattermapbox\"}], \"scatterpolar\": [{\"marker\": {\"colorbar\": {\"outlinewidth\": 0, \"ticks\": \"\"}}, \"type\": \"scatterpolar\"}], \"scatterpolargl\": [{\"marker\": {\"colorbar\": {\"outlinewidth\": 0, \"ticks\": \"\"}}, \"type\": \"scatterpolargl\"}], \"scatterternary\": [{\"marker\": {\"colorbar\": {\"outlinewidth\": 0, \"ticks\": \"\"}}, \"type\": \"scatterternary\"}], \"surface\": [{\"colorbar\": {\"outlinewidth\": 0, \"ticks\": \"\"}, \"colorscale\": [[0.0, \"#0d0887\"], [0.1111111111111111, \"#46039f\"], [0.2222222222222222, \"#7201a8\"], [0.3333333333333333, \"#9c179e\"], [0.4444444444444444, \"#bd3786\"], [0.5555555555555556, \"#d8576b\"], [0.6666666666666666, \"#ed7953\"], [0.7777777777777778, \"#fb9f3a\"], [0.8888888888888888, \"#fdca26\"], [1.0, \"#f0f921\"]], \"type\": \"surface\"}], \"table\": [{\"cells\": {\"fill\": {\"color\": \"#EBF0F8\"}, \"line\": {\"color\": \"white\"}}, \"header\": {\"fill\": {\"color\": \"#C8D4E3\"}, \"line\": {\"color\": \"white\"}}, \"type\": \"table\"}]}, \"layout\": {\"annotationdefaults\": {\"arrowcolor\": \"#2a3f5f\", \"arrowhead\": 0, \"arrowwidth\": 1}, \"coloraxis\": {\"colorbar\": {\"outlinewidth\": 0, \"ticks\": \"\"}}, \"colorscale\": {\"diverging\": [[0, \"#8e0152\"], [0.1, \"#c51b7d\"], [0.2, \"#de77ae\"], [0.3, \"#f1b6da\"], [0.4, \"#fde0ef\"], [0.5, \"#f7f7f7\"], [0.6, \"#e6f5d0\"], [0.7, \"#b8e186\"], [0.8, \"#7fbc41\"], [0.9, \"#4d9221\"], [1, \"#276419\"]], \"sequential\": [[0.0, \"#0d0887\"], [0.1111111111111111, \"#46039f\"], [0.2222222222222222, \"#7201a8\"], [0.3333333333333333, \"#9c179e\"], [0.4444444444444444, \"#bd3786\"], [0.5555555555555556, \"#d8576b\"], [0.6666666666666666, \"#ed7953\"], [0.7777777777777778, \"#fb9f3a\"], [0.8888888888888888, \"#fdca26\"], [1.0, \"#f0f921\"]], \"sequentialminus\": [[0.0, \"#0d0887\"], [0.1111111111111111, \"#46039f\"], [0.2222222222222222, \"#7201a8\"], [0.3333333333333333, \"#9c179e\"], [0.4444444444444444, \"#bd3786\"], [0.5555555555555556, \"#d8576b\"], [0.6666666666666666, \"#ed7953\"], [0.7777777777777778, \"#fb9f3a\"], [0.8888888888888888, \"#fdca26\"], [1.0, \"#f0f921\"]]}, \"colorway\": [\"#636efa\", \"#EF553B\", \"#00cc96\", \"#ab63fa\", \"#FFA15A\", \"#19d3f3\", \"#FF6692\", \"#B6E880\", \"#FF97FF\", \"#FECB52\"], \"font\": {\"color\": \"#2a3f5f\"}, \"geo\": {\"bgcolor\": \"white\", \"lakecolor\": \"white\", \"landcolor\": \"#E5ECF6\", \"showlakes\": true, \"showland\": true, \"subunitcolor\": \"white\"}, \"hoverlabel\": {\"align\": \"left\"}, \"hovermode\": \"closest\", \"mapbox\": {\"style\": \"light\"}, \"paper_bgcolor\": \"white\", \"plot_bgcolor\": \"#E5ECF6\", \"polar\": {\"angularaxis\": {\"gridcolor\": \"white\", \"linecolor\": \"white\", \"ticks\": \"\"}, \"bgcolor\": \"#E5ECF6\", \"radialaxis\": {\"gridcolor\": \"white\", \"linecolor\": \"white\", \"ticks\": \"\"}}, \"scene\": {\"xaxis\": {\"backgroundcolor\": \"#E5ECF6\", \"gridcolor\": \"white\", \"gridwidth\": 2, \"linecolor\": \"white\", \"showbackground\": true, \"ticks\": \"\", \"zerolinecolor\": \"white\"}, \"yaxis\": {\"backgroundcolor\": \"#E5ECF6\", \"gridcolor\": \"white\", \"gridwidth\": 2, \"linecolor\": \"white\", \"showbackground\": true, \"ticks\": \"\", \"zerolinecolor\": \"white\"}, \"zaxis\": {\"backgroundcolor\": \"#E5ECF6\", \"gridcolor\": \"white\", \"gridwidth\": 2, \"linecolor\": \"white\", \"showbackground\": true, \"ticks\": \"\", \"zerolinecolor\": \"white\"}}, \"shapedefaults\": {\"line\": {\"color\": \"#2a3f5f\"}}, \"ternary\": {\"aaxis\": {\"gridcolor\": \"white\", \"linecolor\": \"white\", \"ticks\": \"\"}, \"baxis\": {\"gridcolor\": \"white\", \"linecolor\": \"white\", \"ticks\": \"\"}, \"bgcolor\": \"#E5ECF6\", \"caxis\": {\"gridcolor\": \"white\", \"linecolor\": \"white\", \"ticks\": \"\"}}, \"title\": {\"x\": 0.05}, \"xaxis\": {\"automargin\": true, \"gridcolor\": \"white\", \"linecolor\": \"white\", \"ticks\": \"\", \"title\": {\"standoff\": 15}, \"zerolinecolor\": \"white\", \"zerolinewidth\": 2}, \"yaxis\": {\"automargin\": true, \"gridcolor\": \"white\", \"linecolor\": \"white\", \"ticks\": \"\", \"title\": {\"standoff\": 15}, \"zerolinecolor\": \"white\", \"zerolinewidth\": 2}}}, \"title\": {\"text\": \"All Models Comparison\", \"x\": 0.5, \"xanchor\": \"center\", \"y\": 0.9, \"yanchor\": \"top\"}, \"xaxis\": {\"title\": {\"text\": \"Model\"}}},\n",
              "                        {\"responsive\": true}\n",
              "                    ).then(function(){\n",
              "                            \n",
              "var gd = document.getElementById('56dcc24b-b9ef-464b-921f-f88ed3efbab2');\n",
              "var x = new MutationObserver(function (mutations, observer) {{\n",
              "        var display = window.getComputedStyle(gd).display;\n",
              "        if (!display || display === 'none') {{\n",
              "            console.log([gd, 'removed!']);\n",
              "            Plotly.purge(gd);\n",
              "            observer.disconnect();\n",
              "        }}\n",
              "}});\n",
              "\n",
              "// Listen for the removal of the full notebook cells\n",
              "var notebookContainer = gd.closest('#notebook-container');\n",
              "if (notebookContainer) {{\n",
              "    x.observe(notebookContainer, {childList: true});\n",
              "}}\n",
              "\n",
              "// Listen for the clearing of the current output cell\n",
              "var outputEl = gd.closest('.output');\n",
              "if (outputEl) {{\n",
              "    x.observe(outputEl, {childList: true});\n",
              "}}\n",
              "\n",
              "                        })\n",
              "                };\n",
              "                \n",
              "            </script>\n",
              "        </div>\n",
              "</body>\n",
              "</html>"
            ]
          },
          "metadata": {
            "tags": []
          }
        }
      ]
    },
    {
      "cell_type": "markdown",
      "metadata": {
        "id": "fn_y-pkHHVfX"
      },
      "source": [
        "Viewing the results, we can see that SVD++ and the ensemble achieved the best (lowest) test RMSE, SVD performed worse, and content model had the highest test RMSE. Looking at MAE, the same relation exists, except that SVD++ slightly outperforms the ensemble. "
      ]
    },
    {
      "cell_type": "markdown",
      "metadata": {
        "id": "yfCE_8WOIdc6"
      },
      "source": [
        "We will now conduct the same comparison, using different number of latent featuers (for SVD and SVD++), in the aim to see if it makes any change. We will use the same learning parameters we used in the previous comparison, for each corresponding model, in order to avoid any bias. The content model will also not change, for the same purpose. We will use 35 latent features, as following:"
      ]
    },
    {
      "cell_type": "code",
      "metadata": {
        "id": "HrrIt7iYINPt"
      },
      "source": [
        "# Delete previous variables to clear ram memory\n",
        "del predictions\n",
        "del all_RMSE\n",
        "del all_MAE"
      ],
      "execution_count": null,
      "outputs": []
    },
    {
      "cell_type": "code",
      "metadata": {
        "colab": {
          "base_uri": "https://localhost:8080/"
        },
        "id": "qqYOj8BgI06D",
        "outputId": "8c0c5532-092c-46ca-d51a-395928437a87"
      },
      "source": [
        "# train SVD  \n",
        "num_factors = 35\n",
        "gamma = 0.005\n",
        "lamda = 0.02\n",
        "\n",
        "SVD_model = TrainBaseModel(num_factors, gamma, lamda)"
      ],
      "execution_count": null,
      "outputs": [
        {
          "output_type": "stream",
          "text": [
            "Iteration number: 1 .Validation RMSE is: 1.5592257808520542 .Validation MAE is: 1.0802771339020405\n",
            "Iteration number: 2 .Validation RMSE is: 1.4581655761275323 .Validation MAE is: 1.0262879204512405\n",
            "Iteration number: 3 .Validation RMSE is: 1.4030617226157476 .Validation MAE is: 1.0014915563123705\n",
            "Iteration number: 4 .Validation RMSE is: 1.3669225520530828 .Validation MAE is: 0.986563552039432\n",
            "Iteration number: 5 .Validation RMSE is: 1.3408692922322651 .Validation MAE is: 0.9762630297720306\n",
            "Iteration number: 6 .Validation RMSE is: 1.3209806608904555 .Validation MAE is: 0.9685894096916629\n",
            "Iteration number: 7 .Validation RMSE is: 1.305206707975669 .Validation MAE is: 0.9625815779594121\n",
            "Iteration number: 8 .Validation RMSE is: 1.2923510479516012 .Validation MAE is: 0.957700517308281\n",
            "Iteration number: 9 .Validation RMSE is: 1.2816592326628744 .Validation MAE is: 0.9536470745921437\n",
            "Iteration number: 10 .Validation RMSE is: 1.272627394602875 .Validation MAE is: 0.9502236730665964\n"
          ],
          "name": "stdout"
        }
      ]
    },
    {
      "cell_type": "code",
      "metadata": {
        "id": "erkuKQHMRHFE"
      },
      "source": [
        "# check\n",
        "SVD_model = np.load(os.path.join(MODELS_DIR, 'svd_model_35.npy'), allow_pickle=True)"
      ],
      "execution_count": null,
      "outputs": []
    },
    {
      "cell_type": "code",
      "metadata": {
        "colab": {
          "base_uri": "https://localhost:8080/"
        },
        "id": "grkPdH4pJDjt",
        "outputId": "cfb8b45d-1d99-43eb-ddbe-5a04f4c25136"
      },
      "source": [
        "# train SVD++  \n",
        "num_factors = 35\n",
        "gamma = 0.007\n",
        "lamda1 = 0.005\n",
        "lamda2 = 0.015\n",
        "\n",
        "SVD_PlusPlus_Model = TrainImprovedModel(num_factors, gamma, lamda1, lamda2)"
      ],
      "execution_count": null,
      "outputs": [
        {
          "output_type": "stream",
          "text": [
            "Iteration number: 1 .Validation RMSE is: 1.5283502396599844 .Validation MAE is: 1.0836002235632063\n",
            "Iteration number: 2 .Validation RMSE is: 1.4264782657954485 .Validation MAE is: 1.022797997838642\n",
            "Iteration number: 3 .Validation RMSE is: 1.3756716499894626 .Validation MAE is: 0.9975541580017346\n",
            "Iteration number: 4 .Validation RMSE is: 1.3431955191075662 .Validation MAE is: 0.9827694909026511\n",
            "Iteration number: 5 .Validation RMSE is: 1.3200891577550025 .Validation MAE is: 0.9726845684863487\n",
            "Iteration number: 6 .Validation RMSE is: 1.3026213514725344 .Validation MAE is: 0.9652252668900313\n",
            "Iteration number: 7 .Validation RMSE is: 1.2888914236110234 .Validation MAE is: 0.9594217637211662\n",
            "Iteration number: 8 .Validation RMSE is: 1.2778046102294711 .Validation MAE is: 0.9547590497805974\n",
            "Iteration number: 9 .Validation RMSE is: 1.268675363802979 .Validation MAE is: 0.9509398436952189\n"
          ],
          "name": "stdout"
        }
      ]
    },
    {
      "cell_type": "code",
      "metadata": {
        "colab": {
          "base_uri": "https://localhost:8080/"
        },
        "id": "p1E1AG-gI09c",
        "outputId": "9d56595d-218a-467a-f063-2bf1319dc2ce"
      },
      "source": [
        "model_names = ['SVD', 'SVD++', 'Content Model']\n",
        "all_RMSE = []\n",
        "all_MAE = []\n",
        "\n",
        "num_factors = 35\n",
        "# Calculating metrics for each single model\n",
        "for model in model_names:\n",
        "  RMSE, MAE = PredictRating(model, content_test)\n",
        "  all_RMSE.append(RMSE)\n",
        "  all_MAE.append(MAE)\n",
        "  print('---------------------------------------------')"
      ],
      "execution_count": null,
      "outputs": [
        {
          "output_type": "stream",
          "text": [
            "The RMSE of SVD for 35 latent features is: 1.274009368774426\n",
            "The MAE of SVD for 35 latent features is: 0.9526626021024196\n",
            "---------------------------------------------\n",
            "The RMSE of SVD++ for 35 latent features is: 1.2716662838735973\n",
            "The MAE of SVD++ for 35 latent features is: 0.953856173758037\n",
            "---------------------------------------------\n",
            "---------------------------------------------\n"
          ],
          "name": "stdout"
        }
      ]
    },
    {
      "cell_type": "code",
      "metadata": {
        "id": "aqavAA3KKUSj"
      },
      "source": [
        "# predict for ensemble model\n",
        "predictions = hybrid_model_predict(test_data, content_test)\n",
        "r_real = list(test_data['stars'])\n",
        "RMSE = calculate_RMSE(r_real, predictions)\n",
        "MAE = calculate_MAE(r_real, predictions)\n",
        "\n",
        "model_names.append('Ensemble')\n",
        "all_RMSE.append(RMSE)\n",
        "all_MAE.append(MAE)"
      ],
      "execution_count": null,
      "outputs": []
    },
    {
      "cell_type": "code",
      "metadata": {
        "colab": {
          "base_uri": "https://localhost:8080/",
          "height": 317
        },
        "id": "8bmh45S-KUWc",
        "outputId": "fd392567-5b3e-4d5e-e688-e9b98f50cc41"
      },
      "source": [
        "# Comparison table\n",
        "fig = go.Figure(data=[go.Table(\n",
        "    header=dict(values=['Model name', 'RMSE', 'MAE'],\n",
        "                line_color='darkslategray',\n",
        "                fill_color='lightskyblue',\n",
        "                align='left'),\n",
        "    cells=dict(values=[model_names,\n",
        "                       [f'{rmse: .3f}'for rmse in all_RMSE], [f'{mae: .3f}'for mae in all_MAE]],\n",
        "               line_color='darkslategray',\n",
        "               fill_color='lightcyan',\n",
        "               align='left'))\n",
        "])\n",
        "\n",
        "fig.update_layout(width=500, height=300)\n",
        "fig.show()"
      ],
      "execution_count": null,
      "outputs": [
        {
          "output_type": "display_data",
          "data": {
            "text/html": [
              "<html>\n",
              "<head><meta charset=\"utf-8\" /></head>\n",
              "<body>\n",
              "    <div>\n",
              "            <script src=\"https://cdnjs.cloudflare.com/ajax/libs/mathjax/2.7.5/MathJax.js?config=TeX-AMS-MML_SVG\"></script><script type=\"text/javascript\">if (window.MathJax) {MathJax.Hub.Config({SVG: {font: \"STIX-Web\"}});}</script>\n",
              "                <script type=\"text/javascript\">window.PlotlyConfig = {MathJaxConfig: 'local'};</script>\n",
              "        <script src=\"https://cdn.plot.ly/plotly-latest.min.js\"></script>    \n",
              "            <div id=\"07788d29-89af-497b-8e72-d39710df3b8b\" class=\"plotly-graph-div\" style=\"height:300px; width:500px;\"></div>\n",
              "            <script type=\"text/javascript\">\n",
              "                \n",
              "                    window.PLOTLYENV=window.PLOTLYENV || {};\n",
              "                    \n",
              "                if (document.getElementById(\"07788d29-89af-497b-8e72-d39710df3b8b\")) {\n",
              "                    Plotly.newPlot(\n",
              "                        '07788d29-89af-497b-8e72-d39710df3b8b',\n",
              "                        [{\"cells\": {\"align\": \"left\", \"fill\": {\"color\": \"lightcyan\"}, \"line\": {\"color\": \"darkslategray\"}, \"values\": [[\"SVD\", \"SVD++\", \"Content Model\", \"Ensemble\"], [\" 1.274\", \" 1.272\", \" 1.373\", \" 1.250\"], [\" 0.953\", \" 0.954\", \" 1.019\", \" 0.949\"]]}, \"header\": {\"align\": \"left\", \"fill\": {\"color\": \"lightskyblue\"}, \"line\": {\"color\": \"darkslategray\"}, \"values\": [\"Model name\", \"RMSE\", \"MAE\"]}, \"type\": \"table\"}],\n",
              "                        {\"height\": 300, \"template\": {\"data\": {\"bar\": [{\"error_x\": {\"color\": \"#2a3f5f\"}, \"error_y\": {\"color\": \"#2a3f5f\"}, \"marker\": {\"line\": {\"color\": \"#E5ECF6\", \"width\": 0.5}}, \"type\": \"bar\"}], \"barpolar\": [{\"marker\": {\"line\": {\"color\": \"#E5ECF6\", \"width\": 0.5}}, \"type\": \"barpolar\"}], \"carpet\": [{\"aaxis\": {\"endlinecolor\": \"#2a3f5f\", \"gridcolor\": \"white\", \"linecolor\": \"white\", \"minorgridcolor\": \"white\", \"startlinecolor\": \"#2a3f5f\"}, \"baxis\": {\"endlinecolor\": \"#2a3f5f\", \"gridcolor\": \"white\", \"linecolor\": \"white\", \"minorgridcolor\": \"white\", \"startlinecolor\": \"#2a3f5f\"}, \"type\": \"carpet\"}], \"choropleth\": [{\"colorbar\": {\"outlinewidth\": 0, \"ticks\": \"\"}, \"type\": \"choropleth\"}], \"contour\": [{\"colorbar\": {\"outlinewidth\": 0, \"ticks\": \"\"}, \"colorscale\": [[0.0, \"#0d0887\"], [0.1111111111111111, \"#46039f\"], [0.2222222222222222, \"#7201a8\"], [0.3333333333333333, \"#9c179e\"], [0.4444444444444444, \"#bd3786\"], [0.5555555555555556, \"#d8576b\"], [0.6666666666666666, \"#ed7953\"], [0.7777777777777778, \"#fb9f3a\"], [0.8888888888888888, \"#fdca26\"], [1.0, \"#f0f921\"]], \"type\": \"contour\"}], \"contourcarpet\": [{\"colorbar\": {\"outlinewidth\": 0, \"ticks\": \"\"}, \"type\": \"contourcarpet\"}], \"heatmap\": [{\"colorbar\": {\"outlinewidth\": 0, \"ticks\": \"\"}, \"colorscale\": [[0.0, \"#0d0887\"], [0.1111111111111111, \"#46039f\"], [0.2222222222222222, \"#7201a8\"], [0.3333333333333333, \"#9c179e\"], [0.4444444444444444, \"#bd3786\"], [0.5555555555555556, \"#d8576b\"], [0.6666666666666666, \"#ed7953\"], [0.7777777777777778, \"#fb9f3a\"], [0.8888888888888888, \"#fdca26\"], [1.0, \"#f0f921\"]], \"type\": \"heatmap\"}], \"heatmapgl\": [{\"colorbar\": {\"outlinewidth\": 0, \"ticks\": \"\"}, \"colorscale\": [[0.0, \"#0d0887\"], [0.1111111111111111, \"#46039f\"], [0.2222222222222222, \"#7201a8\"], [0.3333333333333333, \"#9c179e\"], [0.4444444444444444, \"#bd3786\"], [0.5555555555555556, \"#d8576b\"], [0.6666666666666666, \"#ed7953\"], [0.7777777777777778, \"#fb9f3a\"], [0.8888888888888888, \"#fdca26\"], [1.0, \"#f0f921\"]], \"type\": \"heatmapgl\"}], \"histogram\": [{\"marker\": {\"colorbar\": {\"outlinewidth\": 0, \"ticks\": \"\"}}, \"type\": \"histogram\"}], \"histogram2d\": [{\"colorbar\": {\"outlinewidth\": 0, \"ticks\": \"\"}, \"colorscale\": [[0.0, \"#0d0887\"], [0.1111111111111111, \"#46039f\"], [0.2222222222222222, \"#7201a8\"], [0.3333333333333333, \"#9c179e\"], [0.4444444444444444, \"#bd3786\"], [0.5555555555555556, \"#d8576b\"], [0.6666666666666666, \"#ed7953\"], [0.7777777777777778, \"#fb9f3a\"], [0.8888888888888888, \"#fdca26\"], [1.0, \"#f0f921\"]], \"type\": \"histogram2d\"}], \"histogram2dcontour\": [{\"colorbar\": {\"outlinewidth\": 0, \"ticks\": \"\"}, \"colorscale\": [[0.0, \"#0d0887\"], [0.1111111111111111, \"#46039f\"], [0.2222222222222222, \"#7201a8\"], [0.3333333333333333, \"#9c179e\"], [0.4444444444444444, \"#bd3786\"], [0.5555555555555556, \"#d8576b\"], [0.6666666666666666, \"#ed7953\"], [0.7777777777777778, \"#fb9f3a\"], [0.8888888888888888, \"#fdca26\"], [1.0, \"#f0f921\"]], \"type\": \"histogram2dcontour\"}], \"mesh3d\": [{\"colorbar\": {\"outlinewidth\": 0, \"ticks\": \"\"}, \"type\": \"mesh3d\"}], \"parcoords\": [{\"line\": {\"colorbar\": {\"outlinewidth\": 0, \"ticks\": \"\"}}, \"type\": \"parcoords\"}], \"pie\": [{\"automargin\": true, \"type\": \"pie\"}], \"scatter\": [{\"marker\": {\"colorbar\": {\"outlinewidth\": 0, \"ticks\": \"\"}}, \"type\": \"scatter\"}], \"scatter3d\": [{\"line\": {\"colorbar\": {\"outlinewidth\": 0, \"ticks\": \"\"}}, \"marker\": {\"colorbar\": {\"outlinewidth\": 0, \"ticks\": \"\"}}, \"type\": \"scatter3d\"}], \"scattercarpet\": [{\"marker\": {\"colorbar\": {\"outlinewidth\": 0, \"ticks\": \"\"}}, \"type\": \"scattercarpet\"}], \"scattergeo\": [{\"marker\": {\"colorbar\": {\"outlinewidth\": 0, \"ticks\": \"\"}}, \"type\": \"scattergeo\"}], \"scattergl\": [{\"marker\": {\"colorbar\": {\"outlinewidth\": 0, \"ticks\": \"\"}}, \"type\": \"scattergl\"}], \"scattermapbox\": [{\"marker\": {\"colorbar\": {\"outlinewidth\": 0, \"ticks\": \"\"}}, \"type\": \"scattermapbox\"}], \"scatterpolar\": [{\"marker\": {\"colorbar\": {\"outlinewidth\": 0, \"ticks\": \"\"}}, \"type\": \"scatterpolar\"}], \"scatterpolargl\": [{\"marker\": {\"colorbar\": {\"outlinewidth\": 0, \"ticks\": \"\"}}, \"type\": \"scatterpolargl\"}], \"scatterternary\": [{\"marker\": {\"colorbar\": {\"outlinewidth\": 0, \"ticks\": \"\"}}, \"type\": \"scatterternary\"}], \"surface\": [{\"colorbar\": {\"outlinewidth\": 0, \"ticks\": \"\"}, \"colorscale\": [[0.0, \"#0d0887\"], [0.1111111111111111, \"#46039f\"], [0.2222222222222222, \"#7201a8\"], [0.3333333333333333, \"#9c179e\"], [0.4444444444444444, \"#bd3786\"], [0.5555555555555556, \"#d8576b\"], [0.6666666666666666, \"#ed7953\"], [0.7777777777777778, \"#fb9f3a\"], [0.8888888888888888, \"#fdca26\"], [1.0, \"#f0f921\"]], \"type\": \"surface\"}], \"table\": [{\"cells\": {\"fill\": {\"color\": \"#EBF0F8\"}, \"line\": {\"color\": \"white\"}}, \"header\": {\"fill\": {\"color\": \"#C8D4E3\"}, \"line\": {\"color\": \"white\"}}, \"type\": \"table\"}]}, \"layout\": {\"annotationdefaults\": {\"arrowcolor\": \"#2a3f5f\", \"arrowhead\": 0, \"arrowwidth\": 1}, \"coloraxis\": {\"colorbar\": {\"outlinewidth\": 0, \"ticks\": \"\"}}, \"colorscale\": {\"diverging\": [[0, \"#8e0152\"], [0.1, \"#c51b7d\"], [0.2, \"#de77ae\"], [0.3, \"#f1b6da\"], [0.4, \"#fde0ef\"], [0.5, \"#f7f7f7\"], [0.6, \"#e6f5d0\"], [0.7, \"#b8e186\"], [0.8, \"#7fbc41\"], [0.9, \"#4d9221\"], [1, \"#276419\"]], \"sequential\": [[0.0, \"#0d0887\"], [0.1111111111111111, \"#46039f\"], [0.2222222222222222, \"#7201a8\"], [0.3333333333333333, \"#9c179e\"], [0.4444444444444444, \"#bd3786\"], [0.5555555555555556, \"#d8576b\"], [0.6666666666666666, \"#ed7953\"], [0.7777777777777778, \"#fb9f3a\"], [0.8888888888888888, \"#fdca26\"], [1.0, \"#f0f921\"]], \"sequentialminus\": [[0.0, \"#0d0887\"], [0.1111111111111111, \"#46039f\"], [0.2222222222222222, \"#7201a8\"], [0.3333333333333333, \"#9c179e\"], [0.4444444444444444, \"#bd3786\"], [0.5555555555555556, \"#d8576b\"], [0.6666666666666666, \"#ed7953\"], [0.7777777777777778, \"#fb9f3a\"], [0.8888888888888888, \"#fdca26\"], [1.0, \"#f0f921\"]]}, \"colorway\": [\"#636efa\", \"#EF553B\", \"#00cc96\", \"#ab63fa\", \"#FFA15A\", \"#19d3f3\", \"#FF6692\", \"#B6E880\", \"#FF97FF\", \"#FECB52\"], \"font\": {\"color\": \"#2a3f5f\"}, \"geo\": {\"bgcolor\": \"white\", \"lakecolor\": \"white\", \"landcolor\": \"#E5ECF6\", \"showlakes\": true, \"showland\": true, \"subunitcolor\": \"white\"}, \"hoverlabel\": {\"align\": \"left\"}, \"hovermode\": \"closest\", \"mapbox\": {\"style\": \"light\"}, \"paper_bgcolor\": \"white\", \"plot_bgcolor\": \"#E5ECF6\", \"polar\": {\"angularaxis\": {\"gridcolor\": \"white\", \"linecolor\": \"white\", \"ticks\": \"\"}, \"bgcolor\": \"#E5ECF6\", \"radialaxis\": {\"gridcolor\": \"white\", \"linecolor\": \"white\", \"ticks\": \"\"}}, \"scene\": {\"xaxis\": {\"backgroundcolor\": \"#E5ECF6\", \"gridcolor\": \"white\", \"gridwidth\": 2, \"linecolor\": \"white\", \"showbackground\": true, \"ticks\": \"\", \"zerolinecolor\": \"white\"}, \"yaxis\": {\"backgroundcolor\": \"#E5ECF6\", \"gridcolor\": \"white\", \"gridwidth\": 2, \"linecolor\": \"white\", \"showbackground\": true, \"ticks\": \"\", \"zerolinecolor\": \"white\"}, \"zaxis\": {\"backgroundcolor\": \"#E5ECF6\", \"gridcolor\": \"white\", \"gridwidth\": 2, \"linecolor\": \"white\", \"showbackground\": true, \"ticks\": \"\", \"zerolinecolor\": \"white\"}}, \"shapedefaults\": {\"line\": {\"color\": \"#2a3f5f\"}}, \"ternary\": {\"aaxis\": {\"gridcolor\": \"white\", \"linecolor\": \"white\", \"ticks\": \"\"}, \"baxis\": {\"gridcolor\": \"white\", \"linecolor\": \"white\", \"ticks\": \"\"}, \"bgcolor\": \"#E5ECF6\", \"caxis\": {\"gridcolor\": \"white\", \"linecolor\": \"white\", \"ticks\": \"\"}}, \"title\": {\"x\": 0.05}, \"xaxis\": {\"automargin\": true, \"gridcolor\": \"white\", \"linecolor\": \"white\", \"ticks\": \"\", \"title\": {\"standoff\": 15}, \"zerolinecolor\": \"white\", \"zerolinewidth\": 2}, \"yaxis\": {\"automargin\": true, \"gridcolor\": \"white\", \"linecolor\": \"white\", \"ticks\": \"\", \"title\": {\"standoff\": 15}, \"zerolinecolor\": \"white\", \"zerolinewidth\": 2}}}, \"width\": 500},\n",
              "                        {\"responsive\": true}\n",
              "                    ).then(function(){\n",
              "                            \n",
              "var gd = document.getElementById('07788d29-89af-497b-8e72-d39710df3b8b');\n",
              "var x = new MutationObserver(function (mutations, observer) {{\n",
              "        var display = window.getComputedStyle(gd).display;\n",
              "        if (!display || display === 'none') {{\n",
              "            console.log([gd, 'removed!']);\n",
              "            Plotly.purge(gd);\n",
              "            observer.disconnect();\n",
              "        }}\n",
              "}});\n",
              "\n",
              "// Listen for the removal of the full notebook cells\n",
              "var notebookContainer = gd.closest('#notebook-container');\n",
              "if (notebookContainer) {{\n",
              "    x.observe(notebookContainer, {childList: true});\n",
              "}}\n",
              "\n",
              "// Listen for the clearing of the current output cell\n",
              "var outputEl = gd.closest('.output');\n",
              "if (outputEl) {{\n",
              "    x.observe(outputEl, {childList: true});\n",
              "}}\n",
              "\n",
              "                        })\n",
              "                };\n",
              "                \n",
              "            </script>\n",
              "        </div>\n",
              "</body>\n",
              "</html>"
            ]
          },
          "metadata": {
            "tags": []
          }
        }
      ]
    },
    {
      "cell_type": "code",
      "metadata": {
        "colab": {
          "base_uri": "https://localhost:8080/",
          "height": 542
        },
        "id": "qr8tnwaNKo_0",
        "outputId": "8db4858c-1582-4ec6-a938-220e582988ec"
      },
      "source": [
        "# Comparison graph\n",
        "comparison_df = pd.DataFrame()\n",
        "comparison_df['Model name'] = model_names\n",
        "comparison_df['RMSE'] = all_RMSE\n",
        "comparison_df['MAE'] = all_MAE\n",
        "\n",
        "fig = go.Figure(data=[\n",
        "    go.Bar(name='RMSE', x=comparison_df['Model name'], y=comparison_df['RMSE']),\n",
        "    go.Bar(name='MAE', x=comparison_df['Model name'], y=comparison_df['MAE'])\n",
        "])\n",
        "# Change the bar mode\n",
        "fig.update_layout(barmode='group',  title={'text': \"All Models Comparison\",\n",
        "        'y':0.9,\n",
        "        'x':0.5,\n",
        "        'xanchor': 'center',\n",
        "        'yanchor': 'top'}, xaxis_title=\"Model\")\n",
        "fig.show()"
      ],
      "execution_count": null,
      "outputs": [
        {
          "output_type": "display_data",
          "data": {
            "text/html": [
              "<html>\n",
              "<head><meta charset=\"utf-8\" /></head>\n",
              "<body>\n",
              "    <div>\n",
              "            <script src=\"https://cdnjs.cloudflare.com/ajax/libs/mathjax/2.7.5/MathJax.js?config=TeX-AMS-MML_SVG\"></script><script type=\"text/javascript\">if (window.MathJax) {MathJax.Hub.Config({SVG: {font: \"STIX-Web\"}});}</script>\n",
              "                <script type=\"text/javascript\">window.PlotlyConfig = {MathJaxConfig: 'local'};</script>\n",
              "        <script src=\"https://cdn.plot.ly/plotly-latest.min.js\"></script>    \n",
              "            <div id=\"3e89cabc-4747-42ad-88c3-993244c04928\" class=\"plotly-graph-div\" style=\"height:525px; width:100%;\"></div>\n",
              "            <script type=\"text/javascript\">\n",
              "                \n",
              "                    window.PLOTLYENV=window.PLOTLYENV || {};\n",
              "                    \n",
              "                if (document.getElementById(\"3e89cabc-4747-42ad-88c3-993244c04928\")) {\n",
              "                    Plotly.newPlot(\n",
              "                        '3e89cabc-4747-42ad-88c3-993244c04928',\n",
              "                        [{\"name\": \"RMSE\", \"type\": \"bar\", \"x\": [\"SVD\", \"SVD++\", \"Content Model\", \"Ensemble\"], \"y\": [1.274009368774426, 1.2716662838735973, 1.3733065301970406, 1.2500425711348189]}, {\"name\": \"MAE\", \"type\": \"bar\", \"x\": [\"SVD\", \"SVD++\", \"Content Model\", \"Ensemble\"], \"y\": [0.9526626021024196, 0.953856173758037, 1.019183807919129, 0.9492504825485121]}],\n",
              "                        {\"barmode\": \"group\", \"template\": {\"data\": {\"bar\": [{\"error_x\": {\"color\": \"#2a3f5f\"}, \"error_y\": {\"color\": \"#2a3f5f\"}, \"marker\": {\"line\": {\"color\": \"#E5ECF6\", \"width\": 0.5}}, \"type\": \"bar\"}], \"barpolar\": [{\"marker\": {\"line\": {\"color\": \"#E5ECF6\", \"width\": 0.5}}, \"type\": \"barpolar\"}], \"carpet\": [{\"aaxis\": {\"endlinecolor\": \"#2a3f5f\", \"gridcolor\": \"white\", \"linecolor\": \"white\", \"minorgridcolor\": \"white\", \"startlinecolor\": \"#2a3f5f\"}, \"baxis\": {\"endlinecolor\": \"#2a3f5f\", \"gridcolor\": \"white\", \"linecolor\": \"white\", \"minorgridcolor\": \"white\", \"startlinecolor\": \"#2a3f5f\"}, \"type\": \"carpet\"}], \"choropleth\": [{\"colorbar\": {\"outlinewidth\": 0, \"ticks\": \"\"}, \"type\": \"choropleth\"}], \"contour\": [{\"colorbar\": {\"outlinewidth\": 0, \"ticks\": \"\"}, \"colorscale\": [[0.0, \"#0d0887\"], [0.1111111111111111, \"#46039f\"], [0.2222222222222222, \"#7201a8\"], [0.3333333333333333, \"#9c179e\"], [0.4444444444444444, \"#bd3786\"], [0.5555555555555556, \"#d8576b\"], [0.6666666666666666, \"#ed7953\"], [0.7777777777777778, \"#fb9f3a\"], [0.8888888888888888, \"#fdca26\"], [1.0, \"#f0f921\"]], \"type\": \"contour\"}], \"contourcarpet\": [{\"colorbar\": {\"outlinewidth\": 0, \"ticks\": \"\"}, \"type\": \"contourcarpet\"}], \"heatmap\": [{\"colorbar\": {\"outlinewidth\": 0, \"ticks\": \"\"}, \"colorscale\": [[0.0, \"#0d0887\"], [0.1111111111111111, \"#46039f\"], [0.2222222222222222, \"#7201a8\"], [0.3333333333333333, \"#9c179e\"], [0.4444444444444444, \"#bd3786\"], [0.5555555555555556, \"#d8576b\"], [0.6666666666666666, \"#ed7953\"], [0.7777777777777778, \"#fb9f3a\"], [0.8888888888888888, \"#fdca26\"], [1.0, \"#f0f921\"]], \"type\": \"heatmap\"}], \"heatmapgl\": [{\"colorbar\": {\"outlinewidth\": 0, \"ticks\": \"\"}, \"colorscale\": [[0.0, \"#0d0887\"], [0.1111111111111111, \"#46039f\"], [0.2222222222222222, \"#7201a8\"], [0.3333333333333333, \"#9c179e\"], [0.4444444444444444, \"#bd3786\"], [0.5555555555555556, \"#d8576b\"], [0.6666666666666666, \"#ed7953\"], [0.7777777777777778, \"#fb9f3a\"], [0.8888888888888888, \"#fdca26\"], [1.0, \"#f0f921\"]], \"type\": \"heatmapgl\"}], \"histogram\": [{\"marker\": {\"colorbar\": {\"outlinewidth\": 0, \"ticks\": \"\"}}, \"type\": \"histogram\"}], \"histogram2d\": [{\"colorbar\": {\"outlinewidth\": 0, \"ticks\": \"\"}, \"colorscale\": [[0.0, \"#0d0887\"], [0.1111111111111111, \"#46039f\"], [0.2222222222222222, \"#7201a8\"], [0.3333333333333333, \"#9c179e\"], [0.4444444444444444, \"#bd3786\"], [0.5555555555555556, \"#d8576b\"], [0.6666666666666666, \"#ed7953\"], [0.7777777777777778, \"#fb9f3a\"], [0.8888888888888888, \"#fdca26\"], [1.0, \"#f0f921\"]], \"type\": \"histogram2d\"}], \"histogram2dcontour\": [{\"colorbar\": {\"outlinewidth\": 0, \"ticks\": \"\"}, \"colorscale\": [[0.0, \"#0d0887\"], [0.1111111111111111, \"#46039f\"], [0.2222222222222222, \"#7201a8\"], [0.3333333333333333, \"#9c179e\"], [0.4444444444444444, \"#bd3786\"], [0.5555555555555556, \"#d8576b\"], [0.6666666666666666, \"#ed7953\"], [0.7777777777777778, \"#fb9f3a\"], [0.8888888888888888, \"#fdca26\"], [1.0, \"#f0f921\"]], \"type\": \"histogram2dcontour\"}], \"mesh3d\": [{\"colorbar\": {\"outlinewidth\": 0, \"ticks\": \"\"}, \"type\": \"mesh3d\"}], \"parcoords\": [{\"line\": {\"colorbar\": {\"outlinewidth\": 0, \"ticks\": \"\"}}, \"type\": \"parcoords\"}], \"pie\": [{\"automargin\": true, \"type\": \"pie\"}], \"scatter\": [{\"marker\": {\"colorbar\": {\"outlinewidth\": 0, \"ticks\": \"\"}}, \"type\": \"scatter\"}], \"scatter3d\": [{\"line\": {\"colorbar\": {\"outlinewidth\": 0, \"ticks\": \"\"}}, \"marker\": {\"colorbar\": {\"outlinewidth\": 0, \"ticks\": \"\"}}, \"type\": \"scatter3d\"}], \"scattercarpet\": [{\"marker\": {\"colorbar\": {\"outlinewidth\": 0, \"ticks\": \"\"}}, \"type\": \"scattercarpet\"}], \"scattergeo\": [{\"marker\": {\"colorbar\": {\"outlinewidth\": 0, \"ticks\": \"\"}}, \"type\": \"scattergeo\"}], \"scattergl\": [{\"marker\": {\"colorbar\": {\"outlinewidth\": 0, \"ticks\": \"\"}}, \"type\": \"scattergl\"}], \"scattermapbox\": [{\"marker\": {\"colorbar\": {\"outlinewidth\": 0, \"ticks\": \"\"}}, \"type\": \"scattermapbox\"}], \"scatterpolar\": [{\"marker\": {\"colorbar\": {\"outlinewidth\": 0, \"ticks\": \"\"}}, \"type\": \"scatterpolar\"}], \"scatterpolargl\": [{\"marker\": {\"colorbar\": {\"outlinewidth\": 0, \"ticks\": \"\"}}, \"type\": \"scatterpolargl\"}], \"scatterternary\": [{\"marker\": {\"colorbar\": {\"outlinewidth\": 0, \"ticks\": \"\"}}, \"type\": \"scatterternary\"}], \"surface\": [{\"colorbar\": {\"outlinewidth\": 0, \"ticks\": \"\"}, \"colorscale\": [[0.0, \"#0d0887\"], [0.1111111111111111, \"#46039f\"], [0.2222222222222222, \"#7201a8\"], [0.3333333333333333, \"#9c179e\"], [0.4444444444444444, \"#bd3786\"], [0.5555555555555556, \"#d8576b\"], [0.6666666666666666, \"#ed7953\"], [0.7777777777777778, \"#fb9f3a\"], [0.8888888888888888, \"#fdca26\"], [1.0, \"#f0f921\"]], \"type\": \"surface\"}], \"table\": [{\"cells\": {\"fill\": {\"color\": \"#EBF0F8\"}, \"line\": {\"color\": \"white\"}}, \"header\": {\"fill\": {\"color\": \"#C8D4E3\"}, \"line\": {\"color\": \"white\"}}, \"type\": \"table\"}]}, \"layout\": {\"annotationdefaults\": {\"arrowcolor\": \"#2a3f5f\", \"arrowhead\": 0, \"arrowwidth\": 1}, \"coloraxis\": {\"colorbar\": {\"outlinewidth\": 0, \"ticks\": \"\"}}, \"colorscale\": {\"diverging\": [[0, \"#8e0152\"], [0.1, \"#c51b7d\"], [0.2, \"#de77ae\"], [0.3, \"#f1b6da\"], [0.4, \"#fde0ef\"], [0.5, \"#f7f7f7\"], [0.6, \"#e6f5d0\"], [0.7, \"#b8e186\"], [0.8, \"#7fbc41\"], [0.9, \"#4d9221\"], [1, \"#276419\"]], \"sequential\": [[0.0, \"#0d0887\"], [0.1111111111111111, \"#46039f\"], [0.2222222222222222, \"#7201a8\"], [0.3333333333333333, \"#9c179e\"], [0.4444444444444444, \"#bd3786\"], [0.5555555555555556, \"#d8576b\"], [0.6666666666666666, \"#ed7953\"], [0.7777777777777778, \"#fb9f3a\"], [0.8888888888888888, \"#fdca26\"], [1.0, \"#f0f921\"]], \"sequentialminus\": [[0.0, \"#0d0887\"], [0.1111111111111111, \"#46039f\"], [0.2222222222222222, \"#7201a8\"], [0.3333333333333333, \"#9c179e\"], [0.4444444444444444, \"#bd3786\"], [0.5555555555555556, \"#d8576b\"], [0.6666666666666666, \"#ed7953\"], [0.7777777777777778, \"#fb9f3a\"], [0.8888888888888888, \"#fdca26\"], [1.0, \"#f0f921\"]]}, \"colorway\": [\"#636efa\", \"#EF553B\", \"#00cc96\", \"#ab63fa\", \"#FFA15A\", \"#19d3f3\", \"#FF6692\", \"#B6E880\", \"#FF97FF\", \"#FECB52\"], \"font\": {\"color\": \"#2a3f5f\"}, \"geo\": {\"bgcolor\": \"white\", \"lakecolor\": \"white\", \"landcolor\": \"#E5ECF6\", \"showlakes\": true, \"showland\": true, \"subunitcolor\": \"white\"}, \"hoverlabel\": {\"align\": \"left\"}, \"hovermode\": \"closest\", \"mapbox\": {\"style\": \"light\"}, \"paper_bgcolor\": \"white\", \"plot_bgcolor\": \"#E5ECF6\", \"polar\": {\"angularaxis\": {\"gridcolor\": \"white\", \"linecolor\": \"white\", \"ticks\": \"\"}, \"bgcolor\": \"#E5ECF6\", \"radialaxis\": {\"gridcolor\": \"white\", \"linecolor\": \"white\", \"ticks\": \"\"}}, \"scene\": {\"xaxis\": {\"backgroundcolor\": \"#E5ECF6\", \"gridcolor\": \"white\", \"gridwidth\": 2, \"linecolor\": \"white\", \"showbackground\": true, \"ticks\": \"\", \"zerolinecolor\": \"white\"}, \"yaxis\": {\"backgroundcolor\": \"#E5ECF6\", \"gridcolor\": \"white\", \"gridwidth\": 2, \"linecolor\": \"white\", \"showbackground\": true, \"ticks\": \"\", \"zerolinecolor\": \"white\"}, \"zaxis\": {\"backgroundcolor\": \"#E5ECF6\", \"gridcolor\": \"white\", \"gridwidth\": 2, \"linecolor\": \"white\", \"showbackground\": true, \"ticks\": \"\", \"zerolinecolor\": \"white\"}}, \"shapedefaults\": {\"line\": {\"color\": \"#2a3f5f\"}}, \"ternary\": {\"aaxis\": {\"gridcolor\": \"white\", \"linecolor\": \"white\", \"ticks\": \"\"}, \"baxis\": {\"gridcolor\": \"white\", \"linecolor\": \"white\", \"ticks\": \"\"}, \"bgcolor\": \"#E5ECF6\", \"caxis\": {\"gridcolor\": \"white\", \"linecolor\": \"white\", \"ticks\": \"\"}}, \"title\": {\"x\": 0.05}, \"xaxis\": {\"automargin\": true, \"gridcolor\": \"white\", \"linecolor\": \"white\", \"ticks\": \"\", \"title\": {\"standoff\": 15}, \"zerolinecolor\": \"white\", \"zerolinewidth\": 2}, \"yaxis\": {\"automargin\": true, \"gridcolor\": \"white\", \"linecolor\": \"white\", \"ticks\": \"\", \"title\": {\"standoff\": 15}, \"zerolinecolor\": \"white\", \"zerolinewidth\": 2}}}, \"title\": {\"text\": \"All Models Comparison\", \"x\": 0.5, \"xanchor\": \"center\", \"y\": 0.9, \"yanchor\": \"top\"}, \"xaxis\": {\"title\": {\"text\": \"Model\"}}},\n",
              "                        {\"responsive\": true}\n",
              "                    ).then(function(){\n",
              "                            \n",
              "var gd = document.getElementById('3e89cabc-4747-42ad-88c3-993244c04928');\n",
              "var x = new MutationObserver(function (mutations, observer) {{\n",
              "        var display = window.getComputedStyle(gd).display;\n",
              "        if (!display || display === 'none') {{\n",
              "            console.log([gd, 'removed!']);\n",
              "            Plotly.purge(gd);\n",
              "            observer.disconnect();\n",
              "        }}\n",
              "}});\n",
              "\n",
              "// Listen for the removal of the full notebook cells\n",
              "var notebookContainer = gd.closest('#notebook-container');\n",
              "if (notebookContainer) {{\n",
              "    x.observe(notebookContainer, {childList: true});\n",
              "}}\n",
              "\n",
              "// Listen for the clearing of the current output cell\n",
              "var outputEl = gd.closest('.output');\n",
              "if (outputEl) {{\n",
              "    x.observe(outputEl, {childList: true});\n",
              "}}\n",
              "\n",
              "                        })\n",
              "                };\n",
              "                \n",
              "            </script>\n",
              "        </div>\n",
              "</body>\n",
              "</html>"
            ]
          },
          "metadata": {
            "tags": []
          }
        }
      ]
    },
    {
      "cell_type": "markdown",
      "metadata": {
        "id": "BBCEzybQMBzQ"
      },
      "source": [
        "Viewing the results, we can see that SVD++ and the ensemble achieved the best (lowest) test RMSE, SVD performed worse, and content model had the highest test RMSE. Looking at MAE, the same relation exists, except that the ensemble outperforms the SVD++. \n",
        "\n",
        "\n",
        "After evaluating and comparing the models using different number of latent features (for SVD and SVD++), we can see that SVD++ is indeed an improvement over the basic SVD, in terms of our examined metrics. We can deduce that taking into account both implicit and explicit data can help in the task of predicting ratings in a more efficient way, rather than by only considering the explicit data.\n",
        "\n",
        "Moreover, we expected the ensemble to perform better than any individual model. We believe that our approach caused the ensemble to simply imitate the the best model, rather than create a whole that is bigger than the sum of its parts.\n",
        "\n",
        "Future work could apply the same logic of weighing model predictions based on validation RMSE, except validation RMSE, and accordingly, weights, would be determined on a per-user basis. In this way, the ensemble could make better use of each individual model's strengths.\n"
      ]
    }
  ]
}